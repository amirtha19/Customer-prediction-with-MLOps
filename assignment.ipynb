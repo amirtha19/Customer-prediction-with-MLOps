{
 "cells": [
  {
   "cell_type": "code",
   "execution_count": 1,
   "id": "f2ec683f",
   "metadata": {
    "_cell_guid": "b1076dfc-b9ad-4769-8c92-a6c4dae69d19",
    "_uuid": "8f2839f25d086af736a60e9eeb907d3b93b6e0e5",
    "execution": {
     "iopub.execute_input": "2023-12-12T14:15:54.746958Z",
     "iopub.status.busy": "2023-12-12T14:15:54.745806Z",
     "iopub.status.idle": "2023-12-12T14:15:56.497859Z",
     "shell.execute_reply": "2023-12-12T14:15:56.496458Z"
    },
    "papermill": {
     "duration": 1.803196,
     "end_time": "2023-12-12T14:15:56.500908",
     "exception": false,
     "start_time": "2023-12-12T14:15:54.697712",
     "status": "completed"
    },
    "tags": []
   },
   "outputs": [],
   "source": [
    "import numpy as np\n",
    "import pandas as pd\n",
    "import seaborn as sns\n",
    "import matplotlib.pyplot as plt\n",
    "import os\n",
    "pd.set_option('display.float_format', '{:.0f}'.format)\n",
    "import warnings\n",
    "warnings.filterwarnings(\"ignore\")"
   ]
  },
  {
   "cell_type": "code",
   "execution_count": 2,
   "id": "f7d32024",
   "metadata": {
    "execution": {
     "iopub.execute_input": "2023-12-12T14:15:56.589367Z",
     "iopub.status.busy": "2023-12-12T14:15:56.588790Z",
     "iopub.status.idle": "2023-12-12T14:15:57.164597Z",
     "shell.execute_reply": "2023-12-12T14:15:57.163268Z"
    },
    "papermill": {
     "duration": 0.622793,
     "end_time": "2023-12-12T14:15:57.167149",
     "exception": false,
     "start_time": "2023-12-12T14:15:56.544356",
     "status": "completed"
    },
    "tags": []
   },
   "outputs": [
    {
     "data": {
      "text/html": [
       "<div>\n",
       "<style scoped>\n",
       "    .dataframe tbody tr th:only-of-type {\n",
       "        vertical-align: middle;\n",
       "    }\n",
       "\n",
       "    .dataframe tbody tr th {\n",
       "        vertical-align: top;\n",
       "    }\n",
       "\n",
       "    .dataframe thead th {\n",
       "        text-align: right;\n",
       "    }\n",
       "</style>\n",
       "<table border=\"1\" class=\"dataframe\">\n",
       "  <thead>\n",
       "    <tr style=\"text-align: right;\">\n",
       "      <th></th>\n",
       "      <th>Unnamed: 0</th>\n",
       "      <th>Unnamed: 1</th>\n",
       "      <th>Unnamed: 2</th>\n",
       "      <th>Unnamed: 3</th>\n",
       "    </tr>\n",
       "  </thead>\n",
       "  <tbody>\n",
       "    <tr>\n",
       "      <th>0</th>\n",
       "      <td>NaN</td>\n",
       "      <td>Variable</td>\n",
       "      <td>Description</td>\n",
       "      <td>Data Type</td>\n",
       "    </tr>\n",
       "    <tr>\n",
       "      <th>1</th>\n",
       "      <td>NaN</td>\n",
       "      <td>Customer_number</td>\n",
       "      <td>Unique Customer Identification number</td>\n",
       "      <td>ID</td>\n",
       "    </tr>\n",
       "    <tr>\n",
       "      <th>2</th>\n",
       "      <td>NaN</td>\n",
       "      <td>Acc_creation_date</td>\n",
       "      <td>Account opening date</td>\n",
       "      <td>Date</td>\n",
       "    </tr>\n",
       "    <tr>\n",
       "      <th>3</th>\n",
       "      <td>NaN</td>\n",
       "      <td>Insurance</td>\n",
       "      <td>Has the customer taken insurance?</td>\n",
       "      <td>Categorical</td>\n",
       "    </tr>\n",
       "    <tr>\n",
       "      <th>4</th>\n",
       "      <td>NaN</td>\n",
       "      <td>balance</td>\n",
       "      <td>NaN</td>\n",
       "      <td>Numeric</td>\n",
       "    </tr>\n",
       "    <tr>\n",
       "      <th>5</th>\n",
       "      <td>NaN</td>\n",
       "      <td>housing</td>\n",
       "      <td>Has the customer taken housing loan?</td>\n",
       "      <td>Categorical</td>\n",
       "    </tr>\n",
       "    <tr>\n",
       "      <th>6</th>\n",
       "      <td>NaN</td>\n",
       "      <td>loan</td>\n",
       "      <td>Has the customer taken personal loan?</td>\n",
       "      <td>Categorical</td>\n",
       "    </tr>\n",
       "    <tr>\n",
       "      <th>7</th>\n",
       "      <td>NaN</td>\n",
       "      <td>contact</td>\n",
       "      <td>Contact communication type</td>\n",
       "      <td>Categorical</td>\n",
       "    </tr>\n",
       "    <tr>\n",
       "      <th>8</th>\n",
       "      <td>NaN</td>\n",
       "      <td>duration</td>\n",
       "      <td>Duration of call with the customer for Term loan</td>\n",
       "      <td>Numeric</td>\n",
       "    </tr>\n",
       "    <tr>\n",
       "      <th>9</th>\n",
       "      <td>NaN</td>\n",
       "      <td>campaign</td>\n",
       "      <td>Number of contacts performed during this campa...</td>\n",
       "      <td>Numeric</td>\n",
       "    </tr>\n",
       "    <tr>\n",
       "      <th>10</th>\n",
       "      <td>NaN</td>\n",
       "      <td>last_contact_day</td>\n",
       "      <td>Number of days that passed by after the client...</td>\n",
       "      <td>Numeric</td>\n",
       "    </tr>\n",
       "    <tr>\n",
       "      <th>11</th>\n",
       "      <td>NaN</td>\n",
       "      <td>previous</td>\n",
       "      <td>Number of contacts performed before this campa...</td>\n",
       "      <td>Categorical</td>\n",
       "    </tr>\n",
       "    <tr>\n",
       "      <th>12</th>\n",
       "      <td>NaN</td>\n",
       "      <td>poutcome</td>\n",
       "      <td>Outcome of the previous marketing campaign</td>\n",
       "      <td>Categorical</td>\n",
       "    </tr>\n",
       "    <tr>\n",
       "      <th>13</th>\n",
       "      <td>NaN</td>\n",
       "      <td>Term Deposit</td>\n",
       "      <td>Has the customer subscribed a term deposit (fi...</td>\n",
       "      <td>Target (categorical)</td>\n",
       "    </tr>\n",
       "    <tr>\n",
       "      <th>14</th>\n",
       "      <td>NaN</td>\n",
       "      <td>Count_Txn</td>\n",
       "      <td>Number of Transactions Done by the customer</td>\n",
       "      <td>Numeric</td>\n",
       "    </tr>\n",
       "    <tr>\n",
       "      <th>15</th>\n",
       "      <td>NaN</td>\n",
       "      <td>NaN</td>\n",
       "      <td>NaN</td>\n",
       "      <td>NaN</td>\n",
       "    </tr>\n",
       "    <tr>\n",
       "      <th>16</th>\n",
       "      <td>NaN</td>\n",
       "      <td>NaN</td>\n",
       "      <td>NaN</td>\n",
       "      <td>NaN</td>\n",
       "    </tr>\n",
       "    <tr>\n",
       "      <th>17</th>\n",
       "      <td>NaN</td>\n",
       "      <td>Customer_number</td>\n",
       "      <td>Unique Customer Identification number</td>\n",
       "      <td>ID</td>\n",
       "    </tr>\n",
       "    <tr>\n",
       "      <th>18</th>\n",
       "      <td>NaN</td>\n",
       "      <td>age</td>\n",
       "      <td>Age of customer in years</td>\n",
       "      <td>Numeric</td>\n",
       "    </tr>\n",
       "    <tr>\n",
       "      <th>19</th>\n",
       "      <td>NaN</td>\n",
       "      <td>job</td>\n",
       "      <td>Type of job the customer has</td>\n",
       "      <td>Categorical</td>\n",
       "    </tr>\n",
       "    <tr>\n",
       "      <th>20</th>\n",
       "      <td>NaN</td>\n",
       "      <td>marital</td>\n",
       "      <td>Marital status of the customer</td>\n",
       "      <td>Categorical</td>\n",
       "    </tr>\n",
       "    <tr>\n",
       "      <th>21</th>\n",
       "      <td>NaN</td>\n",
       "      <td>education</td>\n",
       "      <td>Highest education level of customer</td>\n",
       "      <td>Categorical</td>\n",
       "    </tr>\n",
       "    <tr>\n",
       "      <th>22</th>\n",
       "      <td>NaN</td>\n",
       "      <td>Annual Income</td>\n",
       "      <td>Annual income of the customer</td>\n",
       "      <td>Numeric</td>\n",
       "    </tr>\n",
       "    <tr>\n",
       "      <th>23</th>\n",
       "      <td>NaN</td>\n",
       "      <td>Gender</td>\n",
       "      <td>Gender of the customer</td>\n",
       "      <td>Categorical</td>\n",
       "    </tr>\n",
       "  </tbody>\n",
       "</table>\n",
       "</div>"
      ],
      "text/plain": [
       "    Unnamed: 0         Unnamed: 1  \\\n",
       "0          NaN           Variable   \n",
       "1          NaN    Customer_number   \n",
       "2          NaN  Acc_creation_date   \n",
       "3          NaN          Insurance   \n",
       "4          NaN            balance   \n",
       "5          NaN            housing   \n",
       "6          NaN               loan   \n",
       "7          NaN            contact   \n",
       "8          NaN           duration   \n",
       "9          NaN           campaign   \n",
       "10         NaN   last_contact_day   \n",
       "11         NaN           previous   \n",
       "12         NaN           poutcome   \n",
       "13         NaN       Term Deposit   \n",
       "14         NaN          Count_Txn   \n",
       "15         NaN                NaN   \n",
       "16         NaN                NaN   \n",
       "17         NaN    Customer_number   \n",
       "18         NaN                age   \n",
       "19         NaN                job   \n",
       "20         NaN            marital   \n",
       "21         NaN          education   \n",
       "22         NaN      Annual Income   \n",
       "23         NaN             Gender   \n",
       "\n",
       "                                           Unnamed: 2            Unnamed: 3  \n",
       "0                                         Description             Data Type  \n",
       "1               Unique Customer Identification number                    ID  \n",
       "2                                Account opening date                  Date  \n",
       "3                   Has the customer taken insurance?           Categorical  \n",
       "4                                                 NaN               Numeric  \n",
       "5                Has the customer taken housing loan?           Categorical  \n",
       "6              Has the customer taken personal loan?            Categorical  \n",
       "7                          Contact communication type           Categorical  \n",
       "8   Duration of call with the customer for Term loan                Numeric  \n",
       "9   Number of contacts performed during this campa...               Numeric  \n",
       "10  Number of days that passed by after the client...               Numeric  \n",
       "11  Number of contacts performed before this campa...           Categorical  \n",
       "12         Outcome of the previous marketing campaign           Categorical  \n",
       "13  Has the customer subscribed a term deposit (fi...  Target (categorical)  \n",
       "14        Number of Transactions Done by the customer               Numeric  \n",
       "15                                                NaN                   NaN  \n",
       "16                                                NaN                   NaN  \n",
       "17              Unique Customer Identification number                    ID  \n",
       "18                           Age of customer in years               Numeric  \n",
       "19                       Type of job the customer has           Categorical  \n",
       "20                     Marital status of the customer           Categorical  \n",
       "21                Highest education level of customer           Categorical  \n",
       "22                      Annual income of the customer               Numeric  \n",
       "23                             Gender of the customer           Categorical  "
      ]
     },
     "execution_count": 2,
     "metadata": {},
     "output_type": "execute_result"
    }
   ],
   "source": [
    "pd.read_excel(\"/kaggle/input/dataset/Banking Case - Data.xlsx\")"
   ]
  },
  {
   "cell_type": "code",
   "execution_count": 3,
   "id": "ee7374dc",
   "metadata": {
    "execution": {
     "iopub.execute_input": "2023-12-12T14:15:57.322009Z",
     "iopub.status.busy": "2023-12-12T14:15:57.320571Z",
     "iopub.status.idle": "2023-12-12T14:16:20.294056Z",
     "shell.execute_reply": "2023-12-12T14:16:20.292909Z"
    },
    "papermill": {
     "duration": 23.086103,
     "end_time": "2023-12-12T14:16:20.296792",
     "exception": false,
     "start_time": "2023-12-12T14:15:57.210689",
     "status": "completed"
    },
    "tags": []
   },
   "outputs": [
    {
     "name": "stdout",
     "output_type": "stream",
     "text": [
      "\n",
      "Contents of sheet 'Data Dictionary'\n",
      "\n",
      "Contents of sheet 'Transaction Data'\n",
      "\n",
      "Contents of sheet 'Customer Demographics'\n"
     ]
    }
   ],
   "source": [
    "import pandas as pd\n",
    "\n",
    "# Replace 'your_file.xlsx' with the actual name of your Excel file\n",
    "excel_file = pd.ExcelFile('/kaggle/input/dataset/Banking Case - Data.xlsx')\n",
    "\n",
    "# Get the names of all sheets in the Excel file\n",
    "sheet_names = excel_file.sheet_names\n",
    "\n",
    "# Create a dictionary to store DataFrames\n",
    "dataframes = {sheet_name: excel_file.parse(sheet_name) for sheet_name in sheet_names}\n",
    "\n",
    "for sheet_name, df in dataframes.items():\n",
    "    print(f\"\\nContents of sheet '{sheet_name}'\")"
   ]
  },
  {
   "cell_type": "code",
   "execution_count": 4,
   "id": "36efc115",
   "metadata": {
    "execution": {
     "iopub.execute_input": "2023-12-12T14:16:20.386361Z",
     "iopub.status.busy": "2023-12-12T14:16:20.385958Z",
     "iopub.status.idle": "2023-12-12T14:16:20.390909Z",
     "shell.execute_reply": "2023-12-12T14:16:20.389684Z"
    },
    "papermill": {
     "duration": 0.052532,
     "end_time": "2023-12-12T14:16:20.393217",
     "exception": false,
     "start_time": "2023-12-12T14:16:20.340685",
     "status": "completed"
    },
    "tags": []
   },
   "outputs": [],
   "source": [
    "df_transaction = dataframes['Transaction Data']\n",
    "df_demo = dataframes['Customer Demographics']"
   ]
  },
  {
   "cell_type": "code",
   "execution_count": 5,
   "id": "52440f8c",
   "metadata": {
    "execution": {
     "iopub.execute_input": "2023-12-12T14:16:20.482095Z",
     "iopub.status.busy": "2023-12-12T14:16:20.481678Z",
     "iopub.status.idle": "2023-12-12T14:16:20.498342Z",
     "shell.execute_reply": "2023-12-12T14:16:20.497331Z"
    },
    "papermill": {
     "duration": 0.063821,
     "end_time": "2023-12-12T14:16:20.500542",
     "exception": false,
     "start_time": "2023-12-12T14:16:20.436721",
     "status": "completed"
    },
    "tags": []
   },
   "outputs": [
    {
     "data": {
      "text/html": [
       "<div>\n",
       "<style scoped>\n",
       "    .dataframe tbody tr th:only-of-type {\n",
       "        vertical-align: middle;\n",
       "    }\n",
       "\n",
       "    .dataframe tbody tr th {\n",
       "        vertical-align: top;\n",
       "    }\n",
       "\n",
       "    .dataframe thead th {\n",
       "        text-align: right;\n",
       "    }\n",
       "</style>\n",
       "<table border=\"1\" class=\"dataframe\">\n",
       "  <thead>\n",
       "    <tr style=\"text-align: right;\">\n",
       "      <th></th>\n",
       "      <th>Sno</th>\n",
       "      <th>Customer_number</th>\n",
       "      <th>Insurance</th>\n",
       "      <th>balance</th>\n",
       "      <th>housing</th>\n",
       "      <th>loan</th>\n",
       "      <th>contact</th>\n",
       "      <th>duration</th>\n",
       "      <th>campaign</th>\n",
       "      <th>last_contact_day</th>\n",
       "      <th>previous</th>\n",
       "      <th>poutcome</th>\n",
       "      <th>Term Deposit</th>\n",
       "      <th>Count_Txn</th>\n",
       "    </tr>\n",
       "  </thead>\n",
       "  <tbody>\n",
       "    <tr>\n",
       "      <th>0</th>\n",
       "      <td>0</td>\n",
       "      <td>1001</td>\n",
       "      <td>no</td>\n",
       "      <td>2143</td>\n",
       "      <td>yes</td>\n",
       "      <td>no</td>\n",
       "      <td>NaN</td>\n",
       "      <td>261</td>\n",
       "      <td>1</td>\n",
       "      <td>2</td>\n",
       "      <td>0</td>\n",
       "      <td>unknown</td>\n",
       "      <td>no</td>\n",
       "      <td>351</td>\n",
       "    </tr>\n",
       "    <tr>\n",
       "      <th>1</th>\n",
       "      <td>1</td>\n",
       "      <td>1002</td>\n",
       "      <td>no</td>\n",
       "      <td>29</td>\n",
       "      <td>yes</td>\n",
       "      <td>no</td>\n",
       "      <td>unknown</td>\n",
       "      <td>151</td>\n",
       "      <td>1</td>\n",
       "      <td>2</td>\n",
       "      <td>0</td>\n",
       "      <td>unknown</td>\n",
       "      <td>no</td>\n",
       "      <td>326</td>\n",
       "    </tr>\n",
       "    <tr>\n",
       "      <th>2</th>\n",
       "      <td>2</td>\n",
       "      <td>1003</td>\n",
       "      <td>no</td>\n",
       "      <td>2</td>\n",
       "      <td>yes</td>\n",
       "      <td>yes</td>\n",
       "      <td>unknown</td>\n",
       "      <td>76</td>\n",
       "      <td>1</td>\n",
       "      <td>2</td>\n",
       "      <td>0</td>\n",
       "      <td>NaN</td>\n",
       "      <td>no</td>\n",
       "      <td>422</td>\n",
       "    </tr>\n",
       "    <tr>\n",
       "      <th>3</th>\n",
       "      <td>3</td>\n",
       "      <td>1004</td>\n",
       "      <td>no</td>\n",
       "      <td>1506</td>\n",
       "      <td>yes</td>\n",
       "      <td>no</td>\n",
       "      <td>unknown</td>\n",
       "      <td>92</td>\n",
       "      <td>1</td>\n",
       "      <td>2</td>\n",
       "      <td>0</td>\n",
       "      <td>unknown</td>\n",
       "      <td>no</td>\n",
       "      <td>113</td>\n",
       "    </tr>\n",
       "    <tr>\n",
       "      <th>4</th>\n",
       "      <td>4</td>\n",
       "      <td>1005</td>\n",
       "      <td>no</td>\n",
       "      <td>1</td>\n",
       "      <td>no</td>\n",
       "      <td>no</td>\n",
       "      <td>unknown</td>\n",
       "      <td>198</td>\n",
       "      <td>1</td>\n",
       "      <td>2</td>\n",
       "      <td>0</td>\n",
       "      <td>unknown</td>\n",
       "      <td>no</td>\n",
       "      <td>342</td>\n",
       "    </tr>\n",
       "  </tbody>\n",
       "</table>\n",
       "</div>"
      ],
      "text/plain": [
       "   Sno  Customer_number Insurance balance housing loan  contact  duration  \\\n",
       "0    0             1001        no    2143     yes   no      NaN       261   \n",
       "1    1             1002        no      29     yes   no  unknown       151   \n",
       "2    2             1003        no       2     yes  yes  unknown        76   \n",
       "3    3             1004        no    1506     yes   no  unknown        92   \n",
       "4    4             1005        no       1      no   no  unknown       198   \n",
       "\n",
       "   campaign  last_contact_day  previous poutcome Term Deposit  Count_Txn  \n",
       "0         1                 2         0  unknown           no        351  \n",
       "1         1                 2         0  unknown           no        326  \n",
       "2         1                 2         0      NaN           no        422  \n",
       "3         1                 2         0  unknown           no        113  \n",
       "4         1                 2         0  unknown           no        342  "
      ]
     },
     "execution_count": 5,
     "metadata": {},
     "output_type": "execute_result"
    }
   ],
   "source": [
    "df_transaction.head()"
   ]
  },
  {
   "cell_type": "code",
   "execution_count": 6,
   "id": "7564a3e7",
   "metadata": {
    "execution": {
     "iopub.execute_input": "2023-12-12T14:16:20.590933Z",
     "iopub.status.busy": "2023-12-12T14:16:20.590492Z",
     "iopub.status.idle": "2023-12-12T14:16:20.631699Z",
     "shell.execute_reply": "2023-12-12T14:16:20.630131Z"
    },
    "papermill": {
     "duration": 0.089755,
     "end_time": "2023-12-12T14:16:20.634426",
     "exception": false,
     "start_time": "2023-12-12T14:16:20.544671",
     "status": "completed"
    },
    "tags": []
   },
   "outputs": [],
   "source": [
    "df = pd.merge(df_transaction,df_demo,on = \"Customer_number\")"
   ]
  },
  {
   "cell_type": "code",
   "execution_count": 7,
   "id": "5639e773",
   "metadata": {
    "execution": {
     "iopub.execute_input": "2023-12-12T14:16:20.731348Z",
     "iopub.status.busy": "2023-12-12T14:16:20.730653Z",
     "iopub.status.idle": "2023-12-12T14:16:20.765866Z",
     "shell.execute_reply": "2023-12-12T14:16:20.764689Z"
    },
    "papermill": {
     "duration": 0.089794,
     "end_time": "2023-12-12T14:16:20.768544",
     "exception": false,
     "start_time": "2023-12-12T14:16:20.678750",
     "status": "completed"
    },
    "tags": []
   },
   "outputs": [
    {
     "data": {
      "text/html": [
       "<div>\n",
       "<style scoped>\n",
       "    .dataframe tbody tr th:only-of-type {\n",
       "        vertical-align: middle;\n",
       "    }\n",
       "\n",
       "    .dataframe tbody tr th {\n",
       "        vertical-align: top;\n",
       "    }\n",
       "\n",
       "    .dataframe thead th {\n",
       "        text-align: right;\n",
       "    }\n",
       "</style>\n",
       "<table border=\"1\" class=\"dataframe\">\n",
       "  <thead>\n",
       "    <tr style=\"text-align: right;\">\n",
       "      <th></th>\n",
       "      <th>Sno</th>\n",
       "      <th>Customer_number</th>\n",
       "      <th>Insurance</th>\n",
       "      <th>balance</th>\n",
       "      <th>housing</th>\n",
       "      <th>loan</th>\n",
       "      <th>contact</th>\n",
       "      <th>duration</th>\n",
       "      <th>campaign</th>\n",
       "      <th>last_contact_day</th>\n",
       "      <th>previous</th>\n",
       "      <th>poutcome</th>\n",
       "      <th>Term Deposit</th>\n",
       "      <th>Count_Txn</th>\n",
       "      <th>age</th>\n",
       "      <th>job</th>\n",
       "      <th>marital</th>\n",
       "      <th>education</th>\n",
       "      <th>Annual Income</th>\n",
       "      <th>Gender</th>\n",
       "    </tr>\n",
       "  </thead>\n",
       "  <tbody>\n",
       "    <tr>\n",
       "      <th>0</th>\n",
       "      <td>0</td>\n",
       "      <td>1001</td>\n",
       "      <td>no</td>\n",
       "      <td>2143</td>\n",
       "      <td>yes</td>\n",
       "      <td>no</td>\n",
       "      <td>NaN</td>\n",
       "      <td>261</td>\n",
       "      <td>1</td>\n",
       "      <td>2</td>\n",
       "      <td>0</td>\n",
       "      <td>unknown</td>\n",
       "      <td>no</td>\n",
       "      <td>351</td>\n",
       "      <td>58</td>\n",
       "      <td>management</td>\n",
       "      <td>married</td>\n",
       "      <td>tertiary</td>\n",
       "      <td>839368</td>\n",
       "      <td>M</td>\n",
       "    </tr>\n",
       "    <tr>\n",
       "      <th>1</th>\n",
       "      <td>1</td>\n",
       "      <td>1002</td>\n",
       "      <td>no</td>\n",
       "      <td>29</td>\n",
       "      <td>yes</td>\n",
       "      <td>no</td>\n",
       "      <td>unknown</td>\n",
       "      <td>151</td>\n",
       "      <td>1</td>\n",
       "      <td>2</td>\n",
       "      <td>0</td>\n",
       "      <td>unknown</td>\n",
       "      <td>no</td>\n",
       "      <td>326</td>\n",
       "      <td>44</td>\n",
       "      <td>technician</td>\n",
       "      <td>single</td>\n",
       "      <td>secondary</td>\n",
       "      <td>1452858</td>\n",
       "      <td>M</td>\n",
       "    </tr>\n",
       "    <tr>\n",
       "      <th>2</th>\n",
       "      <td>2</td>\n",
       "      <td>1003</td>\n",
       "      <td>no</td>\n",
       "      <td>2</td>\n",
       "      <td>yes</td>\n",
       "      <td>yes</td>\n",
       "      <td>unknown</td>\n",
       "      <td>76</td>\n",
       "      <td>1</td>\n",
       "      <td>2</td>\n",
       "      <td>0</td>\n",
       "      <td>NaN</td>\n",
       "      <td>no</td>\n",
       "      <td>422</td>\n",
       "      <td>33</td>\n",
       "      <td>entrepreneur</td>\n",
       "      <td>married</td>\n",
       "      <td>NaN</td>\n",
       "      <td>4851383</td>\n",
       "      <td>F</td>\n",
       "    </tr>\n",
       "    <tr>\n",
       "      <th>3</th>\n",
       "      <td>3</td>\n",
       "      <td>1004</td>\n",
       "      <td>no</td>\n",
       "      <td>1506</td>\n",
       "      <td>yes</td>\n",
       "      <td>no</td>\n",
       "      <td>unknown</td>\n",
       "      <td>92</td>\n",
       "      <td>1</td>\n",
       "      <td>2</td>\n",
       "      <td>0</td>\n",
       "      <td>unknown</td>\n",
       "      <td>no</td>\n",
       "      <td>113</td>\n",
       "      <td>47</td>\n",
       "      <td>blue collar</td>\n",
       "      <td>married</td>\n",
       "      <td>unknown</td>\n",
       "      <td>3207754</td>\n",
       "      <td>F</td>\n",
       "    </tr>\n",
       "    <tr>\n",
       "      <th>4</th>\n",
       "      <td>4</td>\n",
       "      <td>1005</td>\n",
       "      <td>no</td>\n",
       "      <td>1</td>\n",
       "      <td>no</td>\n",
       "      <td>no</td>\n",
       "      <td>unknown</td>\n",
       "      <td>198</td>\n",
       "      <td>1</td>\n",
       "      <td>2</td>\n",
       "      <td>0</td>\n",
       "      <td>unknown</td>\n",
       "      <td>no</td>\n",
       "      <td>342</td>\n",
       "      <td>33</td>\n",
       "      <td>unknown</td>\n",
       "      <td>single</td>\n",
       "      <td>unknown</td>\n",
       "      <td>2562322</td>\n",
       "      <td>M</td>\n",
       "    </tr>\n",
       "    <tr>\n",
       "      <th>...</th>\n",
       "      <td>...</td>\n",
       "      <td>...</td>\n",
       "      <td>...</td>\n",
       "      <td>...</td>\n",
       "      <td>...</td>\n",
       "      <td>...</td>\n",
       "      <td>...</td>\n",
       "      <td>...</td>\n",
       "      <td>...</td>\n",
       "      <td>...</td>\n",
       "      <td>...</td>\n",
       "      <td>...</td>\n",
       "      <td>...</td>\n",
       "      <td>...</td>\n",
       "      <td>...</td>\n",
       "      <td>...</td>\n",
       "      <td>...</td>\n",
       "      <td>...</td>\n",
       "      <td>...</td>\n",
       "      <td>...</td>\n",
       "    </tr>\n",
       "    <tr>\n",
       "      <th>45206</th>\n",
       "      <td>45206</td>\n",
       "      <td>46207</td>\n",
       "      <td>no</td>\n",
       "      <td>825</td>\n",
       "      <td>no</td>\n",
       "      <td>no</td>\n",
       "      <td>cellular</td>\n",
       "      <td>0</td>\n",
       "      <td>0</td>\n",
       "      <td>-1</td>\n",
       "      <td>0</td>\n",
       "      <td>unknown</td>\n",
       "      <td>yes</td>\n",
       "      <td>152</td>\n",
       "      <td>51</td>\n",
       "      <td>technician</td>\n",
       "      <td>married</td>\n",
       "      <td>tertiary</td>\n",
       "      <td>2229818</td>\n",
       "      <td>M</td>\n",
       "    </tr>\n",
       "    <tr>\n",
       "      <th>45207</th>\n",
       "      <td>45207</td>\n",
       "      <td>46208</td>\n",
       "      <td>no</td>\n",
       "      <td>1729</td>\n",
       "      <td>no</td>\n",
       "      <td>no</td>\n",
       "      <td>cellular</td>\n",
       "      <td>0</td>\n",
       "      <td>0</td>\n",
       "      <td>-1</td>\n",
       "      <td>0</td>\n",
       "      <td>unknown</td>\n",
       "      <td>yes</td>\n",
       "      <td>334</td>\n",
       "      <td>121</td>\n",
       "      <td>retired</td>\n",
       "      <td>divorced</td>\n",
       "      <td>primary</td>\n",
       "      <td>2783556</td>\n",
       "      <td>M</td>\n",
       "    </tr>\n",
       "    <tr>\n",
       "      <th>45208</th>\n",
       "      <td>45208</td>\n",
       "      <td>46209</td>\n",
       "      <td>no</td>\n",
       "      <td>5715</td>\n",
       "      <td>no</td>\n",
       "      <td>no</td>\n",
       "      <td>cellular</td>\n",
       "      <td>1127</td>\n",
       "      <td>5</td>\n",
       "      <td>184</td>\n",
       "      <td>3</td>\n",
       "      <td>success</td>\n",
       "      <td>yes</td>\n",
       "      <td>381</td>\n",
       "      <td>72</td>\n",
       "      <td>retired</td>\n",
       "      <td>married</td>\n",
       "      <td>secondary</td>\n",
       "      <td>443512</td>\n",
       "      <td>M</td>\n",
       "    </tr>\n",
       "    <tr>\n",
       "      <th>45209</th>\n",
       "      <td>45209</td>\n",
       "      <td>46210</td>\n",
       "      <td>no</td>\n",
       "      <td>668</td>\n",
       "      <td>no</td>\n",
       "      <td>no</td>\n",
       "      <td>telephone</td>\n",
       "      <td>0</td>\n",
       "      <td>0</td>\n",
       "      <td>-1</td>\n",
       "      <td>0</td>\n",
       "      <td>unknown</td>\n",
       "      <td>no</td>\n",
       "      <td>211</td>\n",
       "      <td>57</td>\n",
       "      <td>blue-collar</td>\n",
       "      <td>married</td>\n",
       "      <td>secondary</td>\n",
       "      <td>4193684</td>\n",
       "      <td>F</td>\n",
       "    </tr>\n",
       "    <tr>\n",
       "      <th>45210</th>\n",
       "      <td>45210</td>\n",
       "      <td>46211</td>\n",
       "      <td>no</td>\n",
       "      <td>2971</td>\n",
       "      <td>no</td>\n",
       "      <td>no</td>\n",
       "      <td>cellular</td>\n",
       "      <td>361</td>\n",
       "      <td>2</td>\n",
       "      <td>188</td>\n",
       "      <td>11</td>\n",
       "      <td>other</td>\n",
       "      <td>no</td>\n",
       "      <td>331</td>\n",
       "      <td>37</td>\n",
       "      <td>entrepreneur</td>\n",
       "      <td>married</td>\n",
       "      <td>secondary</td>\n",
       "      <td>3617935</td>\n",
       "      <td>M</td>\n",
       "    </tr>\n",
       "  </tbody>\n",
       "</table>\n",
       "<p>45211 rows × 20 columns</p>\n",
       "</div>"
      ],
      "text/plain": [
       "         Sno  Customer_number Insurance balance housing loan    contact  \\\n",
       "0          0             1001        no    2143     yes   no        NaN   \n",
       "1          1             1002        no      29     yes   no    unknown   \n",
       "2          2             1003        no       2     yes  yes    unknown   \n",
       "3          3             1004        no    1506     yes   no    unknown   \n",
       "4          4             1005        no       1      no   no    unknown   \n",
       "...      ...              ...       ...     ...     ...  ...        ...   \n",
       "45206  45206            46207        no     825      no   no   cellular   \n",
       "45207  45207            46208        no    1729      no   no   cellular   \n",
       "45208  45208            46209        no    5715      no   no   cellular   \n",
       "45209  45209            46210        no     668      no   no  telephone   \n",
       "45210  45210            46211        no    2971      no   no   cellular   \n",
       "\n",
       "       duration  campaign  last_contact_day  previous poutcome Term Deposit  \\\n",
       "0           261         1                 2         0  unknown           no   \n",
       "1           151         1                 2         0  unknown           no   \n",
       "2            76         1                 2         0      NaN           no   \n",
       "3            92         1                 2         0  unknown           no   \n",
       "4           198         1                 2         0  unknown           no   \n",
       "...         ...       ...               ...       ...      ...          ...   \n",
       "45206         0         0                -1         0  unknown          yes   \n",
       "45207         0         0                -1         0  unknown          yes   \n",
       "45208      1127         5               184         3  success          yes   \n",
       "45209         0         0                -1         0  unknown           no   \n",
       "45210       361         2               188        11    other           no   \n",
       "\n",
       "       Count_Txn  age           job   marital  education Annual Income Gender  \n",
       "0            351   58    management   married   tertiary        839368      M  \n",
       "1            326   44    technician    single  secondary       1452858      M  \n",
       "2            422   33  entrepreneur   married        NaN       4851383      F  \n",
       "3            113   47   blue collar   married    unknown       3207754      F  \n",
       "4            342   33       unknown    single    unknown       2562322      M  \n",
       "...          ...  ...           ...       ...        ...           ...    ...  \n",
       "45206        152   51    technician   married   tertiary       2229818      M  \n",
       "45207        334  121       retired  divorced    primary       2783556      M  \n",
       "45208        381   72       retired   married  secondary        443512      M  \n",
       "45209        211   57   blue-collar   married  secondary       4193684      F  \n",
       "45210        331   37  entrepreneur   married  secondary       3617935      M  \n",
       "\n",
       "[45211 rows x 20 columns]"
      ]
     },
     "execution_count": 7,
     "metadata": {},
     "output_type": "execute_result"
    }
   ],
   "source": [
    "df"
   ]
  },
  {
   "cell_type": "code",
   "execution_count": 8,
   "id": "6df9728a",
   "metadata": {
    "execution": {
     "iopub.execute_input": "2023-12-12T14:16:20.885540Z",
     "iopub.status.busy": "2023-12-12T14:16:20.885153Z",
     "iopub.status.idle": "2023-12-12T14:16:20.934775Z",
     "shell.execute_reply": "2023-12-12T14:16:20.933610Z"
    },
    "papermill": {
     "duration": 0.107975,
     "end_time": "2023-12-12T14:16:20.937471",
     "exception": false,
     "start_time": "2023-12-12T14:16:20.829496",
     "status": "completed"
    },
    "tags": []
   },
   "outputs": [
    {
     "data": {
      "text/html": [
       "<div>\n",
       "<style scoped>\n",
       "    .dataframe tbody tr th:only-of-type {\n",
       "        vertical-align: middle;\n",
       "    }\n",
       "\n",
       "    .dataframe tbody tr th {\n",
       "        vertical-align: top;\n",
       "    }\n",
       "\n",
       "    .dataframe thead th {\n",
       "        text-align: right;\n",
       "    }\n",
       "</style>\n",
       "<table border=\"1\" class=\"dataframe\">\n",
       "  <thead>\n",
       "    <tr style=\"text-align: right;\">\n",
       "      <th></th>\n",
       "      <th>Sno</th>\n",
       "      <th>Customer_number</th>\n",
       "      <th>duration</th>\n",
       "      <th>campaign</th>\n",
       "      <th>last_contact_day</th>\n",
       "      <th>previous</th>\n",
       "      <th>Count_Txn</th>\n",
       "      <th>age</th>\n",
       "    </tr>\n",
       "  </thead>\n",
       "  <tbody>\n",
       "    <tr>\n",
       "      <th>count</th>\n",
       "      <td>45211</td>\n",
       "      <td>45211</td>\n",
       "      <td>45172</td>\n",
       "      <td>45211</td>\n",
       "      <td>45211</td>\n",
       "      <td>45211</td>\n",
       "      <td>45210</td>\n",
       "      <td>45211</td>\n",
       "    </tr>\n",
       "    <tr>\n",
       "      <th>mean</th>\n",
       "      <td>22605</td>\n",
       "      <td>23606</td>\n",
       "      <td>258</td>\n",
       "      <td>3</td>\n",
       "      <td>42</td>\n",
       "      <td>1</td>\n",
       "      <td>300</td>\n",
       "      <td>41</td>\n",
       "    </tr>\n",
       "    <tr>\n",
       "      <th>std</th>\n",
       "      <td>13051</td>\n",
       "      <td>13051</td>\n",
       "      <td>258</td>\n",
       "      <td>3</td>\n",
       "      <td>99</td>\n",
       "      <td>2</td>\n",
       "      <td>116</td>\n",
       "      <td>11</td>\n",
       "    </tr>\n",
       "    <tr>\n",
       "      <th>min</th>\n",
       "      <td>0</td>\n",
       "      <td>1001</td>\n",
       "      <td>-167</td>\n",
       "      <td>0</td>\n",
       "      <td>-9</td>\n",
       "      <td>0</td>\n",
       "      <td>-423</td>\n",
       "      <td>18</td>\n",
       "    </tr>\n",
       "    <tr>\n",
       "      <th>25%</th>\n",
       "      <td>11302</td>\n",
       "      <td>12304</td>\n",
       "      <td>103</td>\n",
       "      <td>1</td>\n",
       "      <td>1</td>\n",
       "      <td>0</td>\n",
       "      <td>200</td>\n",
       "      <td>33</td>\n",
       "    </tr>\n",
       "    <tr>\n",
       "      <th>50%</th>\n",
       "      <td>22605</td>\n",
       "      <td>23606</td>\n",
       "      <td>180</td>\n",
       "      <td>2</td>\n",
       "      <td>1</td>\n",
       "      <td>0</td>\n",
       "      <td>300</td>\n",
       "      <td>39</td>\n",
       "    </tr>\n",
       "    <tr>\n",
       "      <th>75%</th>\n",
       "      <td>33908</td>\n",
       "      <td>34908</td>\n",
       "      <td>319</td>\n",
       "      <td>3</td>\n",
       "      <td>1</td>\n",
       "      <td>0</td>\n",
       "      <td>400</td>\n",
       "      <td>48</td>\n",
       "    </tr>\n",
       "    <tr>\n",
       "      <th>max</th>\n",
       "      <td>45210</td>\n",
       "      <td>46211</td>\n",
       "      <td>4918</td>\n",
       "      <td>63</td>\n",
       "      <td>871</td>\n",
       "      <td>275</td>\n",
       "      <td>499</td>\n",
       "      <td>121</td>\n",
       "    </tr>\n",
       "  </tbody>\n",
       "</table>\n",
       "</div>"
      ],
      "text/plain": [
       "        Sno  Customer_number  duration  campaign  last_contact_day  previous  \\\n",
       "count 45211            45211     45172     45211             45211     45211   \n",
       "mean  22605            23606       258         3                42         1   \n",
       "std   13051            13051       258         3                99         2   \n",
       "min       0             1001      -167         0                -9         0   \n",
       "25%   11302            12304       103         1                 1         0   \n",
       "50%   22605            23606       180         2                 1         0   \n",
       "75%   33908            34908       319         3                 1         0   \n",
       "max   45210            46211      4918        63               871       275   \n",
       "\n",
       "       Count_Txn   age  \n",
       "count      45210 45211  \n",
       "mean         300    41  \n",
       "std          116    11  \n",
       "min         -423    18  \n",
       "25%          200    33  \n",
       "50%          300    39  \n",
       "75%          400    48  \n",
       "max          499   121  "
      ]
     },
     "execution_count": 8,
     "metadata": {},
     "output_type": "execute_result"
    }
   ],
   "source": [
    "df.describe()"
   ]
  },
  {
   "cell_type": "code",
   "execution_count": 9,
   "id": "bf712e42",
   "metadata": {
    "execution": {
     "iopub.execute_input": "2023-12-12T14:16:21.030808Z",
     "iopub.status.busy": "2023-12-12T14:16:21.029996Z",
     "iopub.status.idle": "2023-12-12T14:16:21.042046Z",
     "shell.execute_reply": "2023-12-12T14:16:21.041096Z"
    },
    "papermill": {
     "duration": 0.061572,
     "end_time": "2023-12-12T14:16:21.044783",
     "exception": false,
     "start_time": "2023-12-12T14:16:20.983211",
     "status": "completed"
    },
    "tags": []
   },
   "outputs": [],
   "source": [
    "df = df.drop(columns = [\"Sno\",\"Customer_number\"],axis=1)"
   ]
  },
  {
   "cell_type": "code",
   "execution_count": 10,
   "id": "2b502652",
   "metadata": {
    "execution": {
     "iopub.execute_input": "2023-12-12T14:16:21.137400Z",
     "iopub.status.busy": "2023-12-12T14:16:21.136738Z",
     "iopub.status.idle": "2023-12-12T14:16:21.214938Z",
     "shell.execute_reply": "2023-12-12T14:16:21.213630Z"
    },
    "papermill": {
     "duration": 0.127342,
     "end_time": "2023-12-12T14:16:21.217566",
     "exception": false,
     "start_time": "2023-12-12T14:16:21.090224",
     "status": "completed"
    },
    "tags": []
   },
   "outputs": [
    {
     "name": "stdout",
     "output_type": "stream",
     "text": [
      "<class 'pandas.core.frame.DataFrame'>\n",
      "RangeIndex: 45211 entries, 0 to 45210\n",
      "Data columns (total 18 columns):\n",
      " #   Column            Non-Null Count  Dtype  \n",
      "---  ------            --------------  -----  \n",
      " 0   Insurance         45211 non-null  object \n",
      " 1   balance           45156 non-null  object \n",
      " 2   housing           45211 non-null  object \n",
      " 3   loan              45203 non-null  object \n",
      " 4   contact           45168 non-null  object \n",
      " 5   duration          45172 non-null  float64\n",
      " 6   campaign          45211 non-null  int64  \n",
      " 7   last_contact_day  45211 non-null  int64  \n",
      " 8   previous          45211 non-null  int64  \n",
      " 9   poutcome          45196 non-null  object \n",
      " 10  Term Deposit      45203 non-null  object \n",
      " 11  Count_Txn         45210 non-null  float64\n",
      " 12  age               45211 non-null  int64  \n",
      " 13  job               45198 non-null  object \n",
      " 14  marital           45193 non-null  object \n",
      " 15  education         45190 non-null  object \n",
      " 16  Annual Income     45194 non-null  object \n",
      " 17  Gender            45211 non-null  object \n",
      "dtypes: float64(2), int64(4), object(12)\n",
      "memory usage: 6.2+ MB\n"
     ]
    }
   ],
   "source": [
    "df.info()"
   ]
  },
  {
   "cell_type": "markdown",
   "id": "052f0d7d",
   "metadata": {
    "papermill": {
     "duration": 0.045296,
     "end_time": "2023-12-12T14:16:21.308385",
     "exception": false,
     "start_time": "2023-12-12T14:16:21.263089",
     "status": "completed"
    },
    "tags": []
   },
   "source": [
    "We can see that there is null values in Term Deposit which is our target values. So, lets remove the null rows"
   ]
  },
  {
   "cell_type": "code",
   "execution_count": 11,
   "id": "295fbe8d",
   "metadata": {
    "execution": {
     "iopub.execute_input": "2023-12-12T14:16:21.400058Z",
     "iopub.status.busy": "2023-12-12T14:16:21.399643Z",
     "iopub.status.idle": "2023-12-12T14:16:21.425927Z",
     "shell.execute_reply": "2023-12-12T14:16:21.425021Z"
    },
    "papermill": {
     "duration": 0.075455,
     "end_time": "2023-12-12T14:16:21.428696",
     "exception": false,
     "start_time": "2023-12-12T14:16:21.353241",
     "status": "completed"
    },
    "tags": []
   },
   "outputs": [],
   "source": [
    "df = df.dropna(subset=['Term Deposit'])"
   ]
  },
  {
   "cell_type": "code",
   "execution_count": 12,
   "id": "92b30e75",
   "metadata": {
    "execution": {
     "iopub.execute_input": "2023-12-12T14:16:21.520601Z",
     "iopub.status.busy": "2023-12-12T14:16:21.520219Z",
     "iopub.status.idle": "2023-12-12T14:16:21.628415Z",
     "shell.execute_reply": "2023-12-12T14:16:21.627307Z"
    },
    "papermill": {
     "duration": 0.157388,
     "end_time": "2023-12-12T14:16:21.631138",
     "exception": false,
     "start_time": "2023-12-12T14:16:21.473750",
     "status": "completed"
    },
    "tags": []
   },
   "outputs": [
    {
     "data": {
      "text/html": [
       "<div>\n",
       "<style scoped>\n",
       "    .dataframe tbody tr th:only-of-type {\n",
       "        vertical-align: middle;\n",
       "    }\n",
       "\n",
       "    .dataframe tbody tr th {\n",
       "        vertical-align: top;\n",
       "    }\n",
       "\n",
       "    .dataframe thead th {\n",
       "        text-align: right;\n",
       "    }\n",
       "</style>\n",
       "<table border=\"1\" class=\"dataframe\">\n",
       "  <thead>\n",
       "    <tr style=\"text-align: right;\">\n",
       "      <th></th>\n",
       "      <th>Insurance</th>\n",
       "      <th>balance</th>\n",
       "      <th>housing</th>\n",
       "      <th>loan</th>\n",
       "      <th>contact</th>\n",
       "      <th>duration</th>\n",
       "      <th>campaign</th>\n",
       "      <th>last_contact_day</th>\n",
       "      <th>previous</th>\n",
       "      <th>poutcome</th>\n",
       "      <th>Term Deposit</th>\n",
       "      <th>Count_Txn</th>\n",
       "      <th>age</th>\n",
       "      <th>job</th>\n",
       "      <th>marital</th>\n",
       "      <th>education</th>\n",
       "      <th>Annual Income</th>\n",
       "      <th>Gender</th>\n",
       "    </tr>\n",
       "  </thead>\n",
       "  <tbody>\n",
       "  </tbody>\n",
       "</table>\n",
       "</div>"
      ],
      "text/plain": [
       "Empty DataFrame\n",
       "Columns: [Insurance, balance, housing, loan, contact, duration, campaign, last_contact_day, previous, poutcome, Term Deposit, Count_Txn, age, job, marital, education, Annual Income, Gender]\n",
       "Index: []"
      ]
     },
     "execution_count": 12,
     "metadata": {},
     "output_type": "execute_result"
    }
   ],
   "source": [
    "duplicate_rows = df[df.duplicated()]\n",
    "duplicate_rows"
   ]
  },
  {
   "cell_type": "markdown",
   "id": "5cdd4c77",
   "metadata": {
    "papermill": {
     "duration": 0.046238,
     "end_time": "2023-12-12T14:16:21.722434",
     "exception": false,
     "start_time": "2023-12-12T14:16:21.676196",
     "status": "completed"
    },
    "tags": []
   },
   "source": [
    "## Univariate analyis"
   ]
  },
  {
   "cell_type": "markdown",
   "id": "6c88af5a",
   "metadata": {
    "papermill": {
     "duration": 0.045082,
     "end_time": "2023-12-12T14:16:21.813456",
     "exception": false,
     "start_time": "2023-12-12T14:16:21.768374",
     "status": "completed"
    },
    "tags": []
   },
   "source": [
    "### Categorical analysis"
   ]
  },
  {
   "cell_type": "markdown",
   "id": "8bb3eb0c",
   "metadata": {
    "papermill": {
     "duration": 0.044836,
     "end_time": "2023-12-12T14:16:21.905557",
     "exception": false,
     "start_time": "2023-12-12T14:16:21.860721",
     "status": "completed"
    },
    "tags": []
   },
   "source": [
    "#### 1. Insurance"
   ]
  },
  {
   "cell_type": "code",
   "execution_count": 13,
   "id": "4ffef20b",
   "metadata": {
    "execution": {
     "iopub.execute_input": "2023-12-12T14:16:21.999153Z",
     "iopub.status.busy": "2023-12-12T14:16:21.998355Z",
     "iopub.status.idle": "2023-12-12T14:16:22.273348Z",
     "shell.execute_reply": "2023-12-12T14:16:22.272183Z"
    },
    "papermill": {
     "duration": 0.323905,
     "end_time": "2023-12-12T14:16:22.275773",
     "exception": false,
     "start_time": "2023-12-12T14:16:21.951868",
     "status": "completed"
    },
    "tags": []
   },
   "outputs": [
    {
     "data": {
      "image/png": "[encoded data removed]",
      "text/plain": [
       "<Figure size 800x600 with 1 Axes>"
      ]
     },
     "metadata": {},
     "output_type": "display_data"
    }
   ],
   "source": [
    "data = df['Insurance'].value_counts()\n",
    "\n",
    "# Plot a bar chart\n",
    "plt.figure(figsize=(8, 6))\n",
    "sns.barplot(x=data.index, y=data, palette='viridis')\n",
    "plt.title('Bar Chart for Column: Insurance')\n",
    "plt.xlabel('Insurance Type')\n",
    "plt.ylabel('Count')\n",
    "plt.xticks(rotation=45, ha='right')  # Rotate x-axis labels for better visibility\n",
    "plt.show()"
   ]
  },
  {
   "cell_type": "markdown",
   "id": "61df5f7a",
   "metadata": {
    "papermill": {
     "duration": 0.045649,
     "end_time": "2023-12-12T14:16:22.367095",
     "exception": false,
     "start_time": "2023-12-12T14:16:22.321446",
     "status": "completed"
    },
    "tags": []
   },
   "source": [
    "#### 2. Housing"
   ]
  },
  {
   "cell_type": "code",
   "execution_count": 14,
   "id": "1ae4605d",
   "metadata": {
    "execution": {
     "iopub.execute_input": "2023-12-12T14:16:22.460396Z",
     "iopub.status.busy": "2023-12-12T14:16:22.459940Z",
     "iopub.status.idle": "2023-12-12T14:16:22.717392Z",
     "shell.execute_reply": "2023-12-12T14:16:22.716283Z"
    },
    "papermill": {
     "duration": 0.306977,
     "end_time": "2023-12-12T14:16:22.719826",
     "exception": false,
     "start_time": "2023-12-12T14:16:22.412849",
     "status": "completed"
    },
    "tags": []
   },
   "outputs": [
    {
     "data": {
      "image/png": "[encoded data removed]",
      "text/plain": [
       "<Figure size 800x600 with 1 Axes>"
      ]
     },
     "metadata": {},
     "output_type": "display_data"
    }
   ],
   "source": [
    "data = df['housing'].value_counts()\n",
    "\n",
    "# Plot a bar chart\n",
    "plt.figure(figsize=(8, 6))\n",
    "sns.barplot(x=data.index, y=data, palette='viridis')\n",
    "plt.title('Bar Chart for Column: Housing')\n",
    "plt.xlabel('Housing')\n",
    "plt.ylabel('Count')\n",
    "plt.xticks(rotation=45, ha='right')  # Rotate x-axis labels for better visibility\n",
    "plt.show()"
   ]
  },
  {
   "cell_type": "markdown",
   "id": "5e3afbb8",
   "metadata": {
    "papermill": {
     "duration": 0.045758,
     "end_time": "2023-12-12T14:16:22.811975",
     "exception": false,
     "start_time": "2023-12-12T14:16:22.766217",
     "status": "completed"
    },
    "tags": []
   },
   "source": [
    "#### 3.Loan"
   ]
  },
  {
   "cell_type": "code",
   "execution_count": 15,
   "id": "f0fc22da",
   "metadata": {
    "execution": {
     "iopub.execute_input": "2023-12-12T14:16:22.907712Z",
     "iopub.status.busy": "2023-12-12T14:16:22.907280Z",
     "iopub.status.idle": "2023-12-12T14:16:22.919542Z",
     "shell.execute_reply": "2023-12-12T14:16:22.918773Z"
    },
    "papermill": {
     "duration": 0.061982,
     "end_time": "2023-12-12T14:16:22.921559",
     "exception": false,
     "start_time": "2023-12-12T14:16:22.859577",
     "status": "completed"
    },
    "tags": []
   },
   "outputs": [
    {
     "data": {
      "text/plain": [
       "8"
      ]
     },
     "execution_count": 15,
     "metadata": {},
     "output_type": "execute_result"
    }
   ],
   "source": [
    "df[\"loan\"].isnull().sum()"
   ]
  },
  {
   "cell_type": "code",
   "execution_count": 16,
   "id": "e96f0198",
   "metadata": {
    "execution": {
     "iopub.execute_input": "2023-12-12T14:16:23.018133Z",
     "iopub.status.busy": "2023-12-12T14:16:23.016898Z",
     "iopub.status.idle": "2023-12-12T14:16:23.032376Z",
     "shell.execute_reply": "2023-12-12T14:16:23.031252Z"
    },
    "papermill": {
     "duration": 0.066228,
     "end_time": "2023-12-12T14:16:23.034804",
     "exception": false,
     "start_time": "2023-12-12T14:16:22.968576",
     "status": "completed"
    },
    "tags": []
   },
   "outputs": [
    {
     "data": {
      "text/plain": [
       "loan\n",
       "no     37951\n",
       "yes     7244\n",
       "Name: count, dtype: int64"
      ]
     },
     "execution_count": 16,
     "metadata": {},
     "output_type": "execute_result"
    }
   ],
   "source": [
    "df[\"loan\"].value_counts()"
   ]
  },
  {
   "cell_type": "code",
   "execution_count": 17,
   "id": "30f9aed0",
   "metadata": {
    "execution": {
     "iopub.execute_input": "2023-12-12T14:16:23.130945Z",
     "iopub.status.busy": "2023-12-12T14:16:23.130551Z",
     "iopub.status.idle": "2023-12-12T14:16:23.404964Z",
     "shell.execute_reply": "2023-12-12T14:16:23.403865Z"
    },
    "papermill": {
     "duration": 0.325146,
     "end_time": "2023-12-12T14:16:23.407510",
     "exception": false,
     "start_time": "2023-12-12T14:16:23.082364",
     "status": "completed"
    },
    "tags": []
   },
   "outputs": [
    {
     "data": {
      "image/png": "[encoded data removed]",
      "text/plain": [
       "<Figure size 800x600 with 1 Axes>"
      ]
     },
     "metadata": {},
     "output_type": "display_data"
    }
   ],
   "source": [
    "data = df['loan'].value_counts()\n",
    "\n",
    "# Plot a bar chart\n",
    "plt.figure(figsize=(8, 6))\n",
    "sns.barplot(x=data.index, y=data, palette='viridis')\n",
    "plt.title('Bar Chart for Column: Personal Loan')\n",
    "plt.xlabel('Personal Loan')\n",
    "plt.ylabel('Count')\n",
    "plt.xticks(rotation=45, ha='right') \n",
    "plt.show()"
   ]
  },
  {
   "cell_type": "markdown",
   "id": "6d3268f6",
   "metadata": {
    "papermill": {
     "duration": 0.04697,
     "end_time": "2023-12-12T14:16:23.501535",
     "exception": false,
     "start_time": "2023-12-12T14:16:23.454565",
     "status": "completed"
    },
    "tags": []
   },
   "source": [
    "#### 4.Contact"
   ]
  },
  {
   "cell_type": "code",
   "execution_count": 18,
   "id": "6a7ac4cf",
   "metadata": {
    "execution": {
     "iopub.execute_input": "2023-12-12T14:16:23.598579Z",
     "iopub.status.busy": "2023-12-12T14:16:23.597783Z",
     "iopub.status.idle": "2023-12-12T14:16:23.611730Z",
     "shell.execute_reply": "2023-12-12T14:16:23.610691Z"
    },
    "papermill": {
     "duration": 0.064936,
     "end_time": "2023-12-12T14:16:23.613972",
     "exception": false,
     "start_time": "2023-12-12T14:16:23.549036",
     "status": "completed"
    },
    "tags": []
   },
   "outputs": [
    {
     "data": {
      "text/plain": [
       "contact\n",
       "cellular     29282\n",
       "unknown      12963\n",
       "telephone     2850\n",
       "Mobile          29\n",
       "Tel             20\n",
       "?               17\n",
       "Name: count, dtype: int64"
      ]
     },
     "execution_count": 18,
     "metadata": {},
     "output_type": "execute_result"
    }
   ],
   "source": [
    "df[\"contact\"].value_counts()"
   ]
  },
  {
   "cell_type": "code",
   "execution_count": 19,
   "id": "95be551f",
   "metadata": {
    "execution": {
     "iopub.execute_input": "2023-12-12T14:16:23.711720Z",
     "iopub.status.busy": "2023-12-12T14:16:23.711003Z",
     "iopub.status.idle": "2023-12-12T14:16:23.731464Z",
     "shell.execute_reply": "2023-12-12T14:16:23.730335Z"
    },
    "papermill": {
     "duration": 0.072148,
     "end_time": "2023-12-12T14:16:23.734141",
     "exception": false,
     "start_time": "2023-12-12T14:16:23.661993",
     "status": "completed"
    },
    "tags": []
   },
   "outputs": [],
   "source": [
    "df.loc[:,'contact'] = df['contact'].replace({'Mobile': 'cellular', 'Tel': 'telephone','?':'unknown'})"
   ]
  },
  {
   "cell_type": "code",
   "execution_count": 20,
   "id": "505aba01",
   "metadata": {
    "execution": {
     "iopub.execute_input": "2023-12-12T14:16:23.832986Z",
     "iopub.status.busy": "2023-12-12T14:16:23.830319Z",
     "iopub.status.idle": "2023-12-12T14:16:24.116934Z",
     "shell.execute_reply": "2023-12-12T14:16:24.115650Z"
    },
    "papermill": {
     "duration": 0.338082,
     "end_time": "2023-12-12T14:16:24.119560",
     "exception": false,
     "start_time": "2023-12-12T14:16:23.781478",
     "status": "completed"
    },
    "tags": []
   },
   "outputs": [
    {
     "data": {
      "image/png": "[encoded data removed]",
      "text/plain": [
       "<Figure size 800x600 with 1 Axes>"
      ]
     },
     "metadata": {},
     "output_type": "display_data"
    }
   ],
   "source": [
    "data = df['contact'].value_counts()\n",
    "\n",
    "# Plot a bar chart\n",
    "plt.figure(figsize=(8, 6))\n",
    "sns.barplot(x=data.index, y=data, palette='viridis')\n",
    "plt.title('Bar Chart for Column:Contact type')\n",
    "plt.xlabel('Contact type')\n",
    "plt.ylabel('Count')\n",
    "plt.xticks(rotation=45, ha='right')  # Rotate x-axis labels for better visibility\n",
    "plt.show()"
   ]
  },
  {
   "cell_type": "markdown",
   "id": "cca540ac",
   "metadata": {
    "papermill": {
     "duration": 0.047956,
     "end_time": "2023-12-12T14:16:24.215984",
     "exception": false,
     "start_time": "2023-12-12T14:16:24.168028",
     "status": "completed"
    },
    "tags": []
   },
   "source": [
    "There are null values. Lets set them to unknown"
   ]
  },
  {
   "cell_type": "code",
   "execution_count": 21,
   "id": "e0e6911e",
   "metadata": {
    "execution": {
     "iopub.execute_input": "2023-12-12T14:16:24.314751Z",
     "iopub.status.busy": "2023-12-12T14:16:24.313957Z",
     "iopub.status.idle": "2023-12-12T14:16:24.327170Z",
     "shell.execute_reply": "2023-12-12T14:16:24.325753Z"
    },
    "papermill": {
     "duration": 0.065771,
     "end_time": "2023-12-12T14:16:24.329830",
     "exception": false,
     "start_time": "2023-12-12T14:16:24.264059",
     "status": "completed"
    },
    "tags": []
   },
   "outputs": [],
   "source": [
    "df.loc[:,'contact'] = df['contact'].fillna(\"unknown\")"
   ]
  },
  {
   "cell_type": "markdown",
   "id": "a7e034f6",
   "metadata": {
    "papermill": {
     "duration": 0.048113,
     "end_time": "2023-12-12T14:16:24.426018",
     "exception": false,
     "start_time": "2023-12-12T14:16:24.377905",
     "status": "completed"
    },
    "tags": []
   },
   "source": [
    "#### 5. Poutcome"
   ]
  },
  {
   "cell_type": "code",
   "execution_count": 22,
   "id": "9fad8e71",
   "metadata": {
    "execution": {
     "iopub.execute_input": "2023-12-12T14:16:24.524347Z",
     "iopub.status.busy": "2023-12-12T14:16:24.523594Z",
     "iopub.status.idle": "2023-12-12T14:16:24.537671Z",
     "shell.execute_reply": "2023-12-12T14:16:24.536562Z"
    },
    "papermill": {
     "duration": 0.066437,
     "end_time": "2023-12-12T14:16:24.540165",
     "exception": false,
     "start_time": "2023-12-12T14:16:24.473728",
     "status": "completed"
    },
    "tags": []
   },
   "outputs": [
    {
     "data": {
      "text/plain": [
       "poutcome\n",
       "unknown    36876\n",
       "failure     4901\n",
       "other       1840\n",
       "success     1511\n",
       "pending       55\n",
       "?              4\n",
       "????           1\n",
       "Name: count, dtype: int64"
      ]
     },
     "execution_count": 22,
     "metadata": {},
     "output_type": "execute_result"
    }
   ],
   "source": [
    "df[\"poutcome\"].value_counts()"
   ]
  },
  {
   "cell_type": "code",
   "execution_count": 23,
   "id": "f1c12735",
   "metadata": {
    "execution": {
     "iopub.execute_input": "2023-12-12T14:16:24.638619Z",
     "iopub.status.busy": "2023-12-12T14:16:24.638201Z",
     "iopub.status.idle": "2023-12-12T14:16:24.660515Z",
     "shell.execute_reply": "2023-12-12T14:16:24.659358Z"
    },
    "papermill": {
     "duration": 0.074702,
     "end_time": "2023-12-12T14:16:24.663153",
     "exception": false,
     "start_time": "2023-12-12T14:16:24.588451",
     "status": "completed"
    },
    "tags": []
   },
   "outputs": [],
   "source": [
    "df.loc[:,'poutcome'] = df['poutcome'].replace({'?': 'unknown', '????': 'unknown', 'pending': 'unknown'})"
   ]
  },
  {
   "cell_type": "code",
   "execution_count": 24,
   "id": "880b998d",
   "metadata": {
    "execution": {
     "iopub.execute_input": "2023-12-12T14:16:24.762549Z",
     "iopub.status.busy": "2023-12-12T14:16:24.762121Z",
     "iopub.status.idle": "2023-12-12T14:16:25.066972Z",
     "shell.execute_reply": "2023-12-12T14:16:25.065792Z"
    },
    "papermill": {
     "duration": 0.357981,
     "end_time": "2023-12-12T14:16:25.069685",
     "exception": false,
     "start_time": "2023-12-12T14:16:24.711704",
     "status": "completed"
    },
    "tags": []
   },
   "outputs": [
    {
     "data": {
      "image/png": "[encoded data removed]",
      "text/plain": [
       "<Figure size 800x600 with 1 Axes>"
      ]
     },
     "metadata": {},
     "output_type": "display_data"
    }
   ],
   "source": [
    "data = df['poutcome'].value_counts()\n",
    "\n",
    "# Plot a bar chart\n",
    "plt.figure(figsize=(8, 6))\n",
    "sns.barplot(x=data.index, y=data, palette='viridis')\n",
    "plt.title('Bar Chart for Column: Previous Outcome')\n",
    "plt.xlabel('Previous outcome')\n",
    "plt.ylabel('Count')\n",
    "plt.xticks(rotation=45, ha='right')  # Rotate x-axis labels for better visibility\n",
    "plt.show()"
   ]
  },
  {
   "cell_type": "code",
   "execution_count": 25,
   "id": "6d11d727",
   "metadata": {
    "execution": {
     "iopub.execute_input": "2023-12-12T14:16:25.169963Z",
     "iopub.status.busy": "2023-12-12T14:16:25.169503Z",
     "iopub.status.idle": "2023-12-12T14:16:25.182630Z",
     "shell.execute_reply": "2023-12-12T14:16:25.181434Z"
    },
    "papermill": {
     "duration": 0.067107,
     "end_time": "2023-12-12T14:16:25.185427",
     "exception": false,
     "start_time": "2023-12-12T14:16:25.118320",
     "status": "completed"
    },
    "tags": []
   },
   "outputs": [],
   "source": [
    "df.loc[:,'poutcome'] = df['poutcome'].fillna(\"unknown\")"
   ]
  },
  {
   "cell_type": "markdown",
   "id": "a52590f2",
   "metadata": {
    "papermill": {
     "duration": 0.048763,
     "end_time": "2023-12-12T14:16:25.283638",
     "exception": false,
     "start_time": "2023-12-12T14:16:25.234875",
     "status": "completed"
    },
    "tags": []
   },
   "source": [
    "#### 6. Term Deposit - Target"
   ]
  },
  {
   "cell_type": "code",
   "execution_count": 26,
   "id": "edcc2489",
   "metadata": {
    "execution": {
     "iopub.execute_input": "2023-12-12T14:16:25.385785Z",
     "iopub.status.busy": "2023-12-12T14:16:25.384798Z",
     "iopub.status.idle": "2023-12-12T14:16:25.665152Z",
     "shell.execute_reply": "2023-12-12T14:16:25.664038Z"
    },
    "papermill": {
     "duration": 0.333911,
     "end_time": "2023-12-12T14:16:25.667570",
     "exception": false,
     "start_time": "2023-12-12T14:16:25.333659",
     "status": "completed"
    },
    "tags": []
   },
   "outputs": [
    {
     "data": {
      "image/png": "[encoded data removed]",
      "text/plain": [
       "<Figure size 800x600 with 1 Axes>"
      ]
     },
     "metadata": {},
     "output_type": "display_data"
    }
   ],
   "source": [
    "data = df['Term Deposit'].value_counts()\n",
    "\n",
    "# Plot a bar chart\n",
    "plt.figure(figsize=(8, 6))\n",
    "sns.barplot(x=data.index, y=data, palette='viridis')\n",
    "plt.title('Bar Chart for Column: Term Deposit')\n",
    "plt.xlabel('Term Deposit')\n",
    "plt.ylabel('Count')\n",
    "plt.xticks(rotation=45, ha='right')  # Rotate x-axis labels for better visibility\n",
    "plt.show()"
   ]
  },
  {
   "cell_type": "markdown",
   "id": "18c6e72c",
   "metadata": {
    "papermill": {
     "duration": 0.051042,
     "end_time": "2023-12-12T14:16:25.768631",
     "exception": false,
     "start_time": "2023-12-12T14:16:25.717589",
     "status": "completed"
    },
    "tags": []
   },
   "source": [
    "#### 7.Job"
   ]
  },
  {
   "cell_type": "code",
   "execution_count": 27,
   "id": "6c8cabe0",
   "metadata": {
    "execution": {
     "iopub.execute_input": "2023-12-12T14:16:25.869775Z",
     "iopub.status.busy": "2023-12-12T14:16:25.869340Z",
     "iopub.status.idle": "2023-12-12T14:16:25.884847Z",
     "shell.execute_reply": "2023-12-12T14:16:25.883768Z"
    },
    "papermill": {
     "duration": 0.069174,
     "end_time": "2023-12-12T14:16:25.887071",
     "exception": false,
     "start_time": "2023-12-12T14:16:25.817897",
     "status": "completed"
    },
    "tags": []
   },
   "outputs": [
    {
     "data": {
      "text/plain": [
       "job\n",
       "blue-collar      9621\n",
       "management       9454\n",
       "technician       7593\n",
       "admin.           5171\n",
       "services         4150\n",
       "retired          2264\n",
       "self-employed    1579\n",
       "entrepreneur     1486\n",
       "unemployed       1302\n",
       "housemaid        1240\n",
       "student           938\n",
       "unknown           288\n",
       "blue collar       104\n",
       "Name: count, dtype: int64"
      ]
     },
     "execution_count": 27,
     "metadata": {},
     "output_type": "execute_result"
    }
   ],
   "source": [
    "df[\"job\"].value_counts()"
   ]
  },
  {
   "cell_type": "code",
   "execution_count": 28,
   "id": "1ace8ba4",
   "metadata": {
    "execution": {
     "iopub.execute_input": "2023-12-12T14:16:25.991063Z",
     "iopub.status.busy": "2023-12-12T14:16:25.989826Z",
     "iopub.status.idle": "2023-12-12T14:16:26.008286Z",
     "shell.execute_reply": "2023-12-12T14:16:26.007371Z"
    },
    "papermill": {
     "duration": 0.07201,
     "end_time": "2023-12-12T14:16:26.010770",
     "exception": false,
     "start_time": "2023-12-12T14:16:25.938760",
     "status": "completed"
    },
    "tags": []
   },
   "outputs": [],
   "source": [
    "df.loc[:, 'job'] = df['job'].replace({'blue collar': 'blue-collar', '????': 'unknown'})"
   ]
  },
  {
   "cell_type": "code",
   "execution_count": 29,
   "id": "9813d826",
   "metadata": {
    "execution": {
     "iopub.execute_input": "2023-12-12T14:16:26.111946Z",
     "iopub.status.busy": "2023-12-12T14:16:26.111155Z",
     "iopub.status.idle": "2023-12-12T14:16:26.471940Z",
     "shell.execute_reply": "2023-12-12T14:16:26.470837Z"
    },
    "papermill": {
     "duration": 0.413787,
     "end_time": "2023-12-12T14:16:26.474260",
     "exception": false,
     "start_time": "2023-12-12T14:16:26.060473",
     "status": "completed"
    },
    "tags": []
   },
   "outputs": [
    {
     "data": {
      "image/png": "[encoded data removed]",
      "text/plain": [
       "<Figure size 800x600 with 1 Axes>"
      ]
     },
     "metadata": {},
     "output_type": "display_data"
    }
   ],
   "source": [
    "data = df['job'].value_counts()\n",
    "\n",
    "# Plot a bar chart\n",
    "plt.figure(figsize=(8, 6))\n",
    "sns.barplot(x=data.index, y=data, palette='viridis')\n",
    "plt.title('Bar Chart for Column: Job')\n",
    "plt.xlabel('Job Type')\n",
    "plt.ylabel('Count')\n",
    "plt.xticks(rotation=45, ha='right')  # Rotate x-axis labels for better visibility\n",
    "plt.show()"
   ]
  },
  {
   "cell_type": "markdown",
   "id": "78ccc696",
   "metadata": {
    "papermill": {
     "duration": 0.050169,
     "end_time": "2023-12-12T14:16:26.574656",
     "exception": false,
     "start_time": "2023-12-12T14:16:26.524487",
     "status": "completed"
    },
    "tags": []
   },
   "source": [
    "#### 8. Marital status"
   ]
  },
  {
   "cell_type": "code",
   "execution_count": 30,
   "id": "aa789e0c",
   "metadata": {
    "execution": {
     "iopub.execute_input": "2023-12-12T14:16:26.676779Z",
     "iopub.status.busy": "2023-12-12T14:16:26.676329Z",
     "iopub.status.idle": "2023-12-12T14:16:26.955200Z",
     "shell.execute_reply": "2023-12-12T14:16:26.954089Z"
    },
    "papermill": {
     "duration": 0.33308,
     "end_time": "2023-12-12T14:16:26.957735",
     "exception": false,
     "start_time": "2023-12-12T14:16:26.624655",
     "status": "completed"
    },
    "tags": []
   },
   "outputs": [
    {
     "data": {
      "image/png": "[encoded data removed]",
      "text/plain": [
       "<Figure size 800x600 with 1 Axes>"
      ]
     },
     "metadata": {},
     "output_type": "display_data"
    }
   ],
   "source": [
    "data = df['marital'].value_counts()\n",
    "\n",
    "# Plot a bar chart\n",
    "plt.figure(figsize=(8, 6))\n",
    "sns.barplot(x=data.index, y=data, palette='viridis')\n",
    "plt.title('Bar Chart for Column: Marital Status')\n",
    "plt.xlabel('Marital Status')\n",
    "plt.ylabel('Count')\n",
    "plt.xticks(rotation=45, ha='right')  # Rotate x-axis labels for better visibility\n",
    "plt.show()"
   ]
  },
  {
   "cell_type": "markdown",
   "id": "5fc7a555",
   "metadata": {
    "papermill": {
     "duration": 0.050201,
     "end_time": "2023-12-12T14:16:27.058834",
     "exception": false,
     "start_time": "2023-12-12T14:16:27.008633",
     "status": "completed"
    },
    "tags": []
   },
   "source": [
    "#### 9. Education"
   ]
  },
  {
   "cell_type": "code",
   "execution_count": 31,
   "id": "629f2de1",
   "metadata": {
    "execution": {
     "iopub.execute_input": "2023-12-12T14:16:27.161858Z",
     "iopub.status.busy": "2023-12-12T14:16:27.161457Z",
     "iopub.status.idle": "2023-12-12T14:16:27.177278Z",
     "shell.execute_reply": "2023-12-12T14:16:27.176018Z"
    },
    "papermill": {
     "duration": 0.07094,
     "end_time": "2023-12-12T14:16:27.180131",
     "exception": false,
     "start_time": "2023-12-12T14:16:27.109191",
     "status": "completed"
    },
    "tags": []
   },
   "outputs": [
    {
     "data": {
      "text/plain": [
       "education\n",
       "secondary    23181\n",
       "tertiary     13295\n",
       "primary       6845\n",
       "unknown       1856\n",
       "Primary          3\n",
       "ter tiary        2\n",
       "Name: count, dtype: int64"
      ]
     },
     "execution_count": 31,
     "metadata": {},
     "output_type": "execute_result"
    }
   ],
   "source": [
    "df[\"education\"].value_counts()"
   ]
  },
  {
   "cell_type": "code",
   "execution_count": 32,
   "id": "96ce2519",
   "metadata": {
    "execution": {
     "iopub.execute_input": "2023-12-12T14:16:27.284060Z",
     "iopub.status.busy": "2023-12-12T14:16:27.283641Z",
     "iopub.status.idle": "2023-12-12T14:16:27.343173Z",
     "shell.execute_reply": "2023-12-12T14:16:27.341949Z"
    },
    "papermill": {
     "duration": 0.115018,
     "end_time": "2023-12-12T14:16:27.345863",
     "exception": false,
     "start_time": "2023-12-12T14:16:27.230845",
     "status": "completed"
    },
    "tags": []
   },
   "outputs": [],
   "source": [
    "df.loc[:,'education'] = df['education'].str.lower().str.strip().replace({'pri mary': 'primary','ter tiary': 'tertiary'})"
   ]
  },
  {
   "cell_type": "code",
   "execution_count": 33,
   "id": "d4e41644",
   "metadata": {
    "execution": {
     "iopub.execute_input": "2023-12-12T14:16:27.449320Z",
     "iopub.status.busy": "2023-12-12T14:16:27.448931Z",
     "iopub.status.idle": "2023-12-12T14:16:27.722768Z",
     "shell.execute_reply": "2023-12-12T14:16:27.721626Z"
    },
    "papermill": {
     "duration": 0.328654,
     "end_time": "2023-12-12T14:16:27.725212",
     "exception": false,
     "start_time": "2023-12-12T14:16:27.396558",
     "status": "completed"
    },
    "tags": []
   },
   "outputs": [
    {
     "data": {
      "image/png": "[encoded data removed]",
      "text/plain": [
       "<Figure size 800x600 with 1 Axes>"
      ]
     },
     "metadata": {},
     "output_type": "display_data"
    }
   ],
   "source": [
    "data = df['education'].value_counts()\n",
    "\n",
    "# Plot a bar chart\n",
    "plt.figure(figsize=(8, 6))\n",
    "sns.barplot(x=data.index, y=data, palette='viridis')\n",
    "plt.title('Bar Chart for Column: Education')\n",
    "plt.xlabel('Education')\n",
    "plt.ylabel('Count')\n",
    "plt.xticks(rotation=45, ha='right')  # Rotate x-axis labels for better visibility\n",
    "plt.show()"
   ]
  },
  {
   "cell_type": "markdown",
   "id": "9bf59836",
   "metadata": {
    "papermill": {
     "duration": 0.050754,
     "end_time": "2023-12-12T14:16:27.827126",
     "exception": false,
     "start_time": "2023-12-12T14:16:27.776372",
     "status": "completed"
    },
    "tags": []
   },
   "source": [
    "#### 10. Gender"
   ]
  },
  {
   "cell_type": "code",
   "execution_count": 34,
   "id": "f319a38e",
   "metadata": {
    "execution": {
     "iopub.execute_input": "2023-12-12T14:16:27.931565Z",
     "iopub.status.busy": "2023-12-12T14:16:27.931179Z",
     "iopub.status.idle": "2023-12-12T14:16:28.190753Z",
     "shell.execute_reply": "2023-12-12T14:16:28.189506Z"
    },
    "papermill": {
     "duration": 0.31507,
     "end_time": "2023-12-12T14:16:28.193209",
     "exception": false,
     "start_time": "2023-12-12T14:16:27.878139",
     "status": "completed"
    },
    "tags": []
   },
   "outputs": [
    {
     "data": {
      "image/png": "[encoded data removed]",
      "text/plain": [
       "<Figure size 800x600 with 1 Axes>"
      ]
     },
     "metadata": {},
     "output_type": "display_data"
    }
   ],
   "source": [
    "data = df['Gender'].value_counts()\n",
    "\n",
    "# Plot a bar chart\n",
    "plt.figure(figsize=(8, 6))\n",
    "sns.barplot(x=data.index, y=data, palette='viridis')\n",
    "plt.title('Bar Chart for Column: Gender')\n",
    "plt.xlabel('Gender')\n",
    "plt.ylabel('Count')\n",
    "plt.xticks(rotation=45, ha='right')  # Rotate x-axis labels for better visibility\n",
    "plt.show()"
   ]
  },
  {
   "cell_type": "markdown",
   "id": "a9f92f60",
   "metadata": {
    "papermill": {
     "duration": 0.051691,
     "end_time": "2023-12-12T14:16:28.296803",
     "exception": false,
     "start_time": "2023-12-12T14:16:28.245112",
     "status": "completed"
    },
    "tags": []
   },
   "source": [
    "### Univariate Numerical analysis"
   ]
  },
  {
   "cell_type": "markdown",
   "id": "b485d3a9",
   "metadata": {
    "papermill": {
     "duration": 0.051457,
     "end_time": "2023-12-12T14:16:28.400070",
     "exception": false,
     "start_time": "2023-12-12T14:16:28.348613",
     "status": "completed"
    },
    "tags": []
   },
   "source": [
    "#### 1. Balance"
   ]
  },
  {
   "cell_type": "code",
   "execution_count": 35,
   "id": "aaba6b98",
   "metadata": {
    "execution": {
     "iopub.execute_input": "2023-12-12T14:16:28.506196Z",
     "iopub.status.busy": "2023-12-12T14:16:28.505760Z",
     "iopub.status.idle": "2023-12-12T14:16:28.541847Z",
     "shell.execute_reply": "2023-12-12T14:16:28.540675Z"
    },
    "papermill": {
     "duration": 0.091976,
     "end_time": "2023-12-12T14:16:28.544294",
     "exception": false,
     "start_time": "2023-12-12T14:16:28.452318",
     "status": "completed"
    },
    "tags": []
   },
   "outputs": [],
   "source": [
    "df.loc[:,'balance'] = pd.to_numeric(df['balance'], errors='coerce').fillna(0).astype(int)"
   ]
  },
  {
   "cell_type": "code",
   "execution_count": 36,
   "id": "26a26139",
   "metadata": {
    "execution": {
     "iopub.execute_input": "2023-12-12T14:16:28.649429Z",
     "iopub.status.busy": "2023-12-12T14:16:28.648989Z",
     "iopub.status.idle": "2023-12-12T14:16:28.960239Z",
     "shell.execute_reply": "2023-12-12T14:16:28.959117Z"
    },
    "papermill": {
     "duration": 0.36683,
     "end_time": "2023-12-12T14:16:28.962759",
     "exception": false,
     "start_time": "2023-12-12T14:16:28.595929",
     "status": "completed"
    },
    "tags": []
   },
   "outputs": [
    {
     "data": {
      "image/png": "[encoded data removed]",
      "text/plain": [
       "<Figure size 1000x600 with 1 Axes>"
      ]
     },
     "metadata": {},
     "output_type": "display_data"
    }
   ],
   "source": [
    "plt.figure(figsize=(10, 6))\n",
    "sns.boxplot(x='balance', data=df, color='skyblue')\n",
    "plt.title('Boxplot for Balance')\n",
    "plt.xlabel('Balance')\n",
    "plt.show()"
   ]
  },
  {
   "cell_type": "code",
   "execution_count": 37,
   "id": "a8b7809c",
   "metadata": {
    "execution": {
     "iopub.execute_input": "2023-12-12T14:16:29.069980Z",
     "iopub.status.busy": "2023-12-12T14:16:29.069541Z",
     "iopub.status.idle": "2023-12-12T14:16:29.096830Z",
     "shell.execute_reply": "2023-12-12T14:16:29.095706Z"
    },
    "papermill": {
     "duration": 0.083947,
     "end_time": "2023-12-12T14:16:29.099443",
     "exception": false,
     "start_time": "2023-12-12T14:16:29.015496",
     "status": "completed"
    },
    "tags": []
   },
   "outputs": [
    {
     "data": {
      "text/html": [
       "<div>\n",
       "<style scoped>\n",
       "    .dataframe tbody tr th:only-of-type {\n",
       "        vertical-align: middle;\n",
       "    }\n",
       "\n",
       "    .dataframe tbody tr th {\n",
       "        vertical-align: top;\n",
       "    }\n",
       "\n",
       "    .dataframe thead th {\n",
       "        text-align: right;\n",
       "    }\n",
       "</style>\n",
       "<table border=\"1\" class=\"dataframe\">\n",
       "  <thead>\n",
       "    <tr style=\"text-align: right;\">\n",
       "      <th></th>\n",
       "      <th>Insurance</th>\n",
       "      <th>balance</th>\n",
       "      <th>housing</th>\n",
       "      <th>loan</th>\n",
       "      <th>contact</th>\n",
       "      <th>duration</th>\n",
       "      <th>campaign</th>\n",
       "      <th>last_contact_day</th>\n",
       "      <th>previous</th>\n",
       "      <th>poutcome</th>\n",
       "      <th>Term Deposit</th>\n",
       "      <th>Count_Txn</th>\n",
       "      <th>age</th>\n",
       "      <th>job</th>\n",
       "      <th>marital</th>\n",
       "      <th>education</th>\n",
       "      <th>Annual Income</th>\n",
       "      <th>Gender</th>\n",
       "    </tr>\n",
       "  </thead>\n",
       "  <tbody>\n",
       "    <tr>\n",
       "      <th>44469</th>\n",
       "      <td>no</td>\n",
       "      <td>-32</td>\n",
       "      <td>no</td>\n",
       "      <td>yes</td>\n",
       "      <td>cellular</td>\n",
       "      <td>366</td>\n",
       "      <td>2</td>\n",
       "      <td>178</td>\n",
       "      <td>9</td>\n",
       "      <td>success</td>\n",
       "      <td>yes</td>\n",
       "      <td>366</td>\n",
       "      <td>35</td>\n",
       "      <td>admin.</td>\n",
       "      <td>single</td>\n",
       "      <td>secondary</td>\n",
       "      <td>212193</td>\n",
       "      <td>F</td>\n",
       "    </tr>\n",
       "    <tr>\n",
       "      <th>44541</th>\n",
       "      <td>no</td>\n",
       "      <td>-62</td>\n",
       "      <td>no</td>\n",
       "      <td>no</td>\n",
       "      <td>unknown</td>\n",
       "      <td>17</td>\n",
       "      <td>1</td>\n",
       "      <td>1</td>\n",
       "      <td>0</td>\n",
       "      <td>unknown</td>\n",
       "      <td>no</td>\n",
       "      <td>147</td>\n",
       "      <td>28</td>\n",
       "      <td>management</td>\n",
       "      <td>single</td>\n",
       "      <td>tertiary</td>\n",
       "      <td>211055</td>\n",
       "      <td>M</td>\n",
       "    </tr>\n",
       "    <tr>\n",
       "      <th>44566</th>\n",
       "      <td>no</td>\n",
       "      <td>-52</td>\n",
       "      <td>no</td>\n",
       "      <td>no</td>\n",
       "      <td>unknown</td>\n",
       "      <td>12</td>\n",
       "      <td>1</td>\n",
       "      <td>1</td>\n",
       "      <td>0</td>\n",
       "      <td>unknown</td>\n",
       "      <td>no</td>\n",
       "      <td>382</td>\n",
       "      <td>34</td>\n",
       "      <td>services</td>\n",
       "      <td>married</td>\n",
       "      <td>secondary</td>\n",
       "      <td>210478</td>\n",
       "      <td>M</td>\n",
       "    </tr>\n",
       "    <tr>\n",
       "      <th>44578</th>\n",
       "      <td>no</td>\n",
       "      <td>-280</td>\n",
       "      <td>no</td>\n",
       "      <td>no</td>\n",
       "      <td>unknown</td>\n",
       "      <td>6</td>\n",
       "      <td>1</td>\n",
       "      <td>1</td>\n",
       "      <td>0</td>\n",
       "      <td>unknown</td>\n",
       "      <td>no</td>\n",
       "      <td>100</td>\n",
       "      <td>36</td>\n",
       "      <td>entrepreneur</td>\n",
       "      <td>married</td>\n",
       "      <td>secondary</td>\n",
       "      <td>210026</td>\n",
       "      <td>M</td>\n",
       "    </tr>\n",
       "    <tr>\n",
       "      <th>44626</th>\n",
       "      <td>no</td>\n",
       "      <td>-205</td>\n",
       "      <td>no</td>\n",
       "      <td>no</td>\n",
       "      <td>cellular</td>\n",
       "      <td>481</td>\n",
       "      <td>1</td>\n",
       "      <td>579</td>\n",
       "      <td>1</td>\n",
       "      <td>failure</td>\n",
       "      <td>yes</td>\n",
       "      <td>353</td>\n",
       "      <td>31</td>\n",
       "      <td>services</td>\n",
       "      <td>single</td>\n",
       "      <td>secondary</td>\n",
       "      <td>208226</td>\n",
       "      <td>F</td>\n",
       "    </tr>\n",
       "  </tbody>\n",
       "</table>\n",
       "</div>"
      ],
      "text/plain": [
       "      Insurance balance housing loan   contact  duration  campaign  \\\n",
       "44469        no     -32      no  yes  cellular       366         2   \n",
       "44541        no     -62      no   no   unknown        17         1   \n",
       "44566        no     -52      no   no   unknown        12         1   \n",
       "44578        no    -280      no   no   unknown         6         1   \n",
       "44626        no    -205      no   no  cellular       481         1   \n",
       "\n",
       "       last_contact_day  previous poutcome Term Deposit  Count_Txn  age  \\\n",
       "44469               178         9  success          yes        366   35   \n",
       "44541                 1         0  unknown           no        147   28   \n",
       "44566                 1         0  unknown           no        382   34   \n",
       "44578                 1         0  unknown           no        100   36   \n",
       "44626               579         1  failure          yes        353   31   \n",
       "\n",
       "                job  marital  education Annual Income Gender  \n",
       "44469        admin.   single  secondary        212193      F  \n",
       "44541    management   single   tertiary        211055      M  \n",
       "44566      services  married  secondary        210478      M  \n",
       "44578  entrepreneur  married  secondary        210026      M  \n",
       "44626      services   single  secondary        208226      F  "
      ]
     },
     "execution_count": 37,
     "metadata": {},
     "output_type": "execute_result"
    }
   ],
   "source": [
    "negative_balance_rows = df[df['balance'] < 0]\n",
    "negative_balance_rows"
   ]
  },
  {
   "cell_type": "code",
   "execution_count": 38,
   "id": "01236854",
   "metadata": {
    "execution": {
     "iopub.execute_input": "2023-12-12T14:16:29.208432Z",
     "iopub.status.busy": "2023-12-12T14:16:29.207559Z",
     "iopub.status.idle": "2023-12-12T14:16:29.948853Z",
     "shell.execute_reply": "2023-12-12T14:16:29.947666Z"
    },
    "papermill": {
     "duration": 0.798702,
     "end_time": "2023-12-12T14:16:29.951812",
     "exception": false,
     "start_time": "2023-12-12T14:16:29.153110",
     "status": "completed"
    },
    "tags": []
   },
   "outputs": [
    {
     "data": {
      "image/png": "[encoded data removed]",
      "text/plain": [
       "<Figure size 1000x600 with 1 Axes>"
      ]
     },
     "metadata": {},
     "output_type": "display_data"
    }
   ],
   "source": [
    "plt.figure(figsize=(10, 6))\n",
    "sns.histplot(df['balance'], kde=True, color='skyblue', bins=30)\n",
    "plt.title('Histogram with KDE for Balance')\n",
    "plt.xlabel('Balance')\n",
    "plt.ylabel('Frequency')\n",
    "plt.show()"
   ]
  },
  {
   "cell_type": "code",
   "execution_count": 39,
   "id": "af0e9fec",
   "metadata": {
    "execution": {
     "iopub.execute_input": "2023-12-12T14:16:30.059820Z",
     "iopub.status.busy": "2023-12-12T14:16:30.059422Z",
     "iopub.status.idle": "2023-12-12T14:16:30.141929Z",
     "shell.execute_reply": "2023-12-12T14:16:30.140792Z"
    },
    "papermill": {
     "duration": 0.139338,
     "end_time": "2023-12-12T14:16:30.144357",
     "exception": false,
     "start_time": "2023-12-12T14:16:30.005019",
     "status": "completed"
    },
    "tags": []
   },
   "outputs": [
    {
     "data": {
      "text/plain": [
       "3600"
      ]
     },
     "execution_count": 39,
     "metadata": {},
     "output_type": "execute_result"
    }
   ],
   "source": [
    "# Fill NaN values with 0 in the 'balance' column\n",
    "df['balance'].fillna(0, inplace=True)\n",
    "\n",
    "# Replace entire rows with 0 where 'balance' column contains '/' or '?'\n",
    "df.loc[df['balance'].astype(str).str.contains(r'/|\\?'), :] = 0\n",
    "\n",
    "# Convert 'balance' column to integer\n",
    "df['balance'] = pd.to_numeric(df['balance'], errors='coerce').fillna(0).astype(int)\n",
    "\n",
    "# Filter rows where 'balance' is equal to 0 or less than 0 and count the values\n",
    "zero_balance_rows = df[(df['balance'] == 0) | (df['balance'] < 0)]['balance'].count()\n",
    "zero_balance_rows"
   ]
  },
  {
   "cell_type": "markdown",
   "id": "6c6cd83f",
   "metadata": {
    "papermill": {
     "duration": 0.054075,
     "end_time": "2023-12-12T14:16:30.253133",
     "exception": false,
     "start_time": "2023-12-12T14:16:30.199058",
     "status": "completed"
    },
    "tags": []
   },
   "source": [
    "We can see that 3600 accounts of 45211 has a balance of 0 and less than 0 in their accounts"
   ]
  },
  {
   "cell_type": "code",
   "execution_count": 40,
   "id": "d596d88f",
   "metadata": {
    "execution": {
     "iopub.execute_input": "2023-12-12T14:16:30.361116Z",
     "iopub.status.busy": "2023-12-12T14:16:30.360704Z",
     "iopub.status.idle": "2023-12-12T14:16:30.373443Z",
     "shell.execute_reply": "2023-12-12T14:16:30.372333Z"
    },
    "papermill": {
     "duration": 0.069771,
     "end_time": "2023-12-12T14:16:30.376016",
     "exception": false,
     "start_time": "2023-12-12T14:16:30.306245",
     "status": "completed"
    },
    "tags": []
   },
   "outputs": [
    {
     "data": {
      "text/plain": [
       "count    45203\n",
       "mean      1415\n",
       "std       3021\n",
       "min       -280\n",
       "25%        136\n",
       "50%        484\n",
       "75%       1435\n",
       "max     102127\n",
       "Name: balance, dtype: float64"
      ]
     },
     "execution_count": 40,
     "metadata": {},
     "output_type": "execute_result"
    }
   ],
   "source": [
    "df[\"balance\"].describe()"
   ]
  },
  {
   "cell_type": "code",
   "execution_count": 41,
   "id": "d9d1cb80",
   "metadata": {
    "execution": {
     "iopub.execute_input": "2023-12-12T14:16:30.484983Z",
     "iopub.status.busy": "2023-12-12T14:16:30.484159Z",
     "iopub.status.idle": "2023-12-12T14:16:30.492032Z",
     "shell.execute_reply": "2023-12-12T14:16:30.490973Z"
    },
    "papermill": {
     "duration": 0.064866,
     "end_time": "2023-12-12T14:16:30.494165",
     "exception": false,
     "start_time": "2023-12-12T14:16:30.429299",
     "status": "completed"
    },
    "tags": []
   },
   "outputs": [
    {
     "data": {
      "text/plain": [
       "0"
      ]
     },
     "execution_count": 41,
     "metadata": {},
     "output_type": "execute_result"
    }
   ],
   "source": [
    "df['balance'].isnull().sum()"
   ]
  },
  {
   "cell_type": "markdown",
   "id": "9f263ac3",
   "metadata": {
    "papermill": {
     "duration": 0.053087,
     "end_time": "2023-12-12T14:16:30.600686",
     "exception": false,
     "start_time": "2023-12-12T14:16:30.547599",
     "status": "completed"
    },
    "tags": []
   },
   "source": [
    "#### 2. Duration"
   ]
  },
  {
   "cell_type": "code",
   "execution_count": 42,
   "id": "e7dc250f",
   "metadata": {
    "execution": {
     "iopub.execute_input": "2023-12-12T14:16:30.710953Z",
     "iopub.status.busy": "2023-12-12T14:16:30.710476Z",
     "iopub.status.idle": "2023-12-12T14:16:30.724563Z",
     "shell.execute_reply": "2023-12-12T14:16:30.723613Z"
    },
    "papermill": {
     "duration": 0.072832,
     "end_time": "2023-12-12T14:16:30.727161",
     "exception": false,
     "start_time": "2023-12-12T14:16:30.654329",
     "status": "completed"
    },
    "tags": []
   },
   "outputs": [
    {
     "data": {
      "text/plain": [
       "count   45164\n",
       "mean      258\n",
       "std       258\n",
       "min      -167\n",
       "25%       103\n",
       "50%       180\n",
       "75%       319\n",
       "max      4918\n",
       "Name: duration, dtype: float64"
      ]
     },
     "execution_count": 42,
     "metadata": {},
     "output_type": "execute_result"
    }
   ],
   "source": [
    "df[\"duration\"].describe()"
   ]
  },
  {
   "cell_type": "markdown",
   "id": "a39e76b6",
   "metadata": {
    "papermill": {
     "duration": 0.061848,
     "end_time": "2023-12-12T14:16:30.845064",
     "exception": false,
     "start_time": "2023-12-12T14:16:30.783216",
     "status": "completed"
    },
    "tags": []
   },
   "source": [
    "We can see that the duration contains negative values. The duration represents the call duration between agent and customer. It cant be 0. It must be a error. The - must be added by mistake so lets remove it."
   ]
  },
  {
   "cell_type": "code",
   "execution_count": 43,
   "id": "8790de9b",
   "metadata": {
    "execution": {
     "iopub.execute_input": "2023-12-12T14:16:30.959507Z",
     "iopub.status.busy": "2023-12-12T14:16:30.958776Z",
     "iopub.status.idle": "2023-12-12T14:16:30.964466Z",
     "shell.execute_reply": "2023-12-12T14:16:30.963419Z"
    },
    "papermill": {
     "duration": 0.063036,
     "end_time": "2023-12-12T14:16:30.966710",
     "exception": false,
     "start_time": "2023-12-12T14:16:30.903674",
     "status": "completed"
    },
    "tags": []
   },
   "outputs": [],
   "source": [
    "df.loc[:,'duration'] = df['duration'].abs()"
   ]
  },
  {
   "cell_type": "code",
   "execution_count": 44,
   "id": "91d65f43",
   "metadata": {
    "execution": {
     "iopub.execute_input": "2023-12-12T14:16:31.076110Z",
     "iopub.status.busy": "2023-12-12T14:16:31.075320Z",
     "iopub.status.idle": "2023-12-12T14:16:31.081462Z",
     "shell.execute_reply": "2023-12-12T14:16:31.080354Z"
    },
    "papermill": {
     "duration": 0.063384,
     "end_time": "2023-12-12T14:16:31.083903",
     "exception": false,
     "start_time": "2023-12-12T14:16:31.020519",
     "status": "completed"
    },
    "tags": []
   },
   "outputs": [],
   "source": [
    "df.loc[:,\"duration\"] = df['duration'].fillna(0)"
   ]
  },
  {
   "cell_type": "markdown",
   "id": "a37d7726",
   "metadata": {
    "papermill": {
     "duration": 0.053762,
     "end_time": "2023-12-12T14:16:31.191743",
     "exception": false,
     "start_time": "2023-12-12T14:16:31.137981",
     "status": "completed"
    },
    "tags": []
   },
   "source": [
    "#### Campaign"
   ]
  },
  {
   "cell_type": "code",
   "execution_count": 45,
   "id": "087ece01",
   "metadata": {
    "execution": {
     "iopub.execute_input": "2023-12-12T14:16:31.300640Z",
     "iopub.status.busy": "2023-12-12T14:16:31.299910Z",
     "iopub.status.idle": "2023-12-12T14:16:31.310502Z",
     "shell.execute_reply": "2023-12-12T14:16:31.309735Z"
    },
    "papermill": {
     "duration": 0.067535,
     "end_time": "2023-12-12T14:16:31.312506",
     "exception": false,
     "start_time": "2023-12-12T14:16:31.244971",
     "status": "completed"
    },
    "tags": []
   },
   "outputs": [
    {
     "data": {
      "text/plain": [
       "count   45203\n",
       "mean        3\n",
       "std         3\n",
       "min         0\n",
       "25%         1\n",
       "50%         2\n",
       "75%         3\n",
       "max        63\n",
       "Name: campaign, dtype: float64"
      ]
     },
     "execution_count": 45,
     "metadata": {},
     "output_type": "execute_result"
    }
   ],
   "source": [
    "df['campaign'].describe()"
   ]
  },
  {
   "cell_type": "markdown",
   "id": "864f55bc",
   "metadata": {
    "papermill": {
     "duration": 0.052904,
     "end_time": "2023-12-12T14:16:31.418772",
     "exception": false,
     "start_time": "2023-12-12T14:16:31.365868",
     "status": "completed"
    },
    "tags": []
   },
   "source": [
    "We can see that maximum phone call made to a customer is 63."
   ]
  },
  {
   "cell_type": "code",
   "execution_count": 46,
   "id": "bed4132f",
   "metadata": {
    "execution": {
     "iopub.execute_input": "2023-12-12T14:16:31.528056Z",
     "iopub.status.busy": "2023-12-12T14:16:31.527324Z",
     "iopub.status.idle": "2023-12-12T14:16:31.758850Z",
     "shell.execute_reply": "2023-12-12T14:16:31.757831Z"
    },
    "papermill": {
     "duration": 0.290212,
     "end_time": "2023-12-12T14:16:31.762219",
     "exception": false,
     "start_time": "2023-12-12T14:16:31.472007",
     "status": "completed"
    },
    "tags": []
   },
   "outputs": [
    {
     "data": {
      "image/png": "[encoded data removed]",
      "text/plain": [
       "<Figure size 1000x600 with 1 Axes>"
      ]
     },
     "metadata": {},
     "output_type": "display_data"
    }
   ],
   "source": [
    "plt.figure(figsize=(10, 6))\n",
    "sns.boxplot(x='campaign', data=df, color='skyblue')\n",
    "plt.title('Boxplot for Balance')\n",
    "plt.xlabel('Balance')\n",
    "plt.show()"
   ]
  },
  {
   "cell_type": "markdown",
   "id": "4d4cc9c0",
   "metadata": {
    "papermill": {
     "duration": 0.054999,
     "end_time": "2023-12-12T14:16:31.871397",
     "exception": false,
     "start_time": "2023-12-12T14:16:31.816398",
     "status": "completed"
    },
    "tags": []
   },
   "source": [
    "#### Last Contact day"
   ]
  },
  {
   "cell_type": "code",
   "execution_count": 47,
   "id": "b8dd926d",
   "metadata": {
    "execution": {
     "iopub.execute_input": "2023-12-12T14:16:31.981931Z",
     "iopub.status.busy": "2023-12-12T14:16:31.981142Z",
     "iopub.status.idle": "2023-12-12T14:16:31.991872Z",
     "shell.execute_reply": "2023-12-12T14:16:31.991119Z"
    },
    "papermill": {
     "duration": 0.068393,
     "end_time": "2023-12-12T14:16:31.993942",
     "exception": false,
     "start_time": "2023-12-12T14:16:31.925549",
     "status": "completed"
    },
    "tags": []
   },
   "outputs": [
    {
     "data": {
      "text/plain": [
       "count   45203\n",
       "mean       42\n",
       "std        99\n",
       "min        -9\n",
       "25%         1\n",
       "50%         1\n",
       "75%         1\n",
       "max       871\n",
       "Name: last_contact_day, dtype: float64"
      ]
     },
     "execution_count": 47,
     "metadata": {},
     "output_type": "execute_result"
    }
   ],
   "source": [
    "df['last_contact_day'].describe()"
   ]
  },
  {
   "cell_type": "markdown",
   "id": "1c09074c",
   "metadata": {
    "papermill": {
     "duration": 0.053529,
     "end_time": "2023-12-12T14:16:32.101641",
     "exception": false,
     "start_time": "2023-12-12T14:16:32.048112",
     "status": "completed"
    },
    "tags": []
   },
   "source": [
    "Last contact day - Number of days that passed by after the client was last contacted from a previous campaign.\n",
    "-1 implies the customer was not contacted. But we have -9 and so. Lets assume that they are errors and change to positive value other than -1."
   ]
  },
  {
   "cell_type": "code",
   "execution_count": 48,
   "id": "6eee003b",
   "metadata": {
    "execution": {
     "iopub.execute_input": "2023-12-12T14:16:32.215645Z",
     "iopub.status.busy": "2023-12-12T14:16:32.214833Z",
     "iopub.status.idle": "2023-12-12T14:16:32.221264Z",
     "shell.execute_reply": "2023-12-12T14:16:32.220291Z"
    },
    "papermill": {
     "duration": 0.066808,
     "end_time": "2023-12-12T14:16:32.223587",
     "exception": false,
     "start_time": "2023-12-12T14:16:32.156779",
     "status": "completed"
    },
    "tags": []
   },
   "outputs": [],
   "source": [
    "df.loc[:,'last_contact_day'] = np.where(df['last_contact_day'] < -1, abs(df['last_contact_day']), df['last_contact_day'])"
   ]
  },
  {
   "cell_type": "markdown",
   "id": "509bdb6f",
   "metadata": {
    "papermill": {
     "duration": 0.054164,
     "end_time": "2023-12-12T14:16:32.332322",
     "exception": false,
     "start_time": "2023-12-12T14:16:32.278158",
     "status": "completed"
    },
    "tags": []
   },
   "source": [
    "#### Previous - Number of contacts performed before this campaign and for this client "
   ]
  },
  {
   "cell_type": "code",
   "execution_count": 49,
   "id": "913d1aab",
   "metadata": {
    "execution": {
     "iopub.execute_input": "2023-12-12T14:16:32.443164Z",
     "iopub.status.busy": "2023-12-12T14:16:32.442407Z",
     "iopub.status.idle": "2023-12-12T14:16:32.453123Z",
     "shell.execute_reply": "2023-12-12T14:16:32.452323Z"
    },
    "papermill": {
     "duration": 0.06852,
     "end_time": "2023-12-12T14:16:32.455174",
     "exception": false,
     "start_time": "2023-12-12T14:16:32.386654",
     "status": "completed"
    },
    "tags": []
   },
   "outputs": [
    {
     "data": {
      "text/plain": [
       "count   45203\n",
       "mean        1\n",
       "std         2\n",
       "min         0\n",
       "25%         0\n",
       "50%         0\n",
       "75%         0\n",
       "max       275\n",
       "Name: previous, dtype: float64"
      ]
     },
     "execution_count": 49,
     "metadata": {},
     "output_type": "execute_result"
    }
   ],
   "source": [
    "df['previous'].describe()"
   ]
  },
  {
   "cell_type": "code",
   "execution_count": 50,
   "id": "2b2df6fa",
   "metadata": {
    "execution": {
     "iopub.execute_input": "2023-12-12T14:16:32.566001Z",
     "iopub.status.busy": "2023-12-12T14:16:32.565242Z",
     "iopub.status.idle": "2023-12-12T14:16:32.570912Z",
     "shell.execute_reply": "2023-12-12T14:16:32.570160Z"
    },
    "papermill": {
     "duration": 0.063555,
     "end_time": "2023-12-12T14:16:32.573038",
     "exception": false,
     "start_time": "2023-12-12T14:16:32.509483",
     "status": "completed"
    },
    "tags": []
   },
   "outputs": [],
   "source": [
    "df.loc[:,'previous'] = df['previous'].astype(int)"
   ]
  },
  {
   "cell_type": "markdown",
   "id": "98c12c30",
   "metadata": {
    "papermill": {
     "duration": 0.053788,
     "end_time": "2023-12-12T14:16:32.681228",
     "exception": false,
     "start_time": "2023-12-12T14:16:32.627440",
     "status": "completed"
    },
    "tags": []
   },
   "source": [
    "#### Count_txn : Number of Transactions Done by the customer"
   ]
  },
  {
   "cell_type": "code",
   "execution_count": 51,
   "id": "a9e3f458",
   "metadata": {
    "execution": {
     "iopub.execute_input": "2023-12-12T14:16:32.792115Z",
     "iopub.status.busy": "2023-12-12T14:16:32.791383Z",
     "iopub.status.idle": "2023-12-12T14:16:32.803239Z",
     "shell.execute_reply": "2023-12-12T14:16:32.802481Z"
    },
    "papermill": {
     "duration": 0.069486,
     "end_time": "2023-12-12T14:16:32.805288",
     "exception": false,
     "start_time": "2023-12-12T14:16:32.735802",
     "status": "completed"
    },
    "tags": []
   },
   "outputs": [
    {
     "data": {
      "text/plain": [
       "count   45202\n",
       "mean      300\n",
       "std       116\n",
       "min      -423\n",
       "25%       200\n",
       "50%       300\n",
       "75%       400\n",
       "max       499\n",
       "Name: Count_Txn, dtype: float64"
      ]
     },
     "execution_count": 51,
     "metadata": {},
     "output_type": "execute_result"
    }
   ],
   "source": [
    "df['Count_Txn'].describe()"
   ]
  },
  {
   "cell_type": "markdown",
   "id": "26fde792",
   "metadata": {
    "papermill": {
     "duration": 0.05584,
     "end_time": "2023-12-12T14:16:32.915480",
     "exception": false,
     "start_time": "2023-12-12T14:16:32.859640",
     "status": "completed"
    },
    "tags": []
   },
   "source": [
    "The count cannot be negative. So, lets assume that they are typing errors and take absolute values"
   ]
  },
  {
   "cell_type": "code",
   "execution_count": 52,
   "id": "c7409c4a",
   "metadata": {
    "execution": {
     "iopub.execute_input": "2023-12-12T14:16:33.026640Z",
     "iopub.status.busy": "2023-12-12T14:16:33.025904Z",
     "iopub.status.idle": "2023-12-12T14:16:33.031475Z",
     "shell.execute_reply": "2023-12-12T14:16:33.030611Z"
    },
    "papermill": {
     "duration": 0.063625,
     "end_time": "2023-12-12T14:16:33.033656",
     "exception": false,
     "start_time": "2023-12-12T14:16:32.970031",
     "status": "completed"
    },
    "tags": []
   },
   "outputs": [],
   "source": [
    "df.loc[:,'Count_Txn'] = df['Count_Txn'].abs()"
   ]
  },
  {
   "cell_type": "code",
   "execution_count": 53,
   "id": "17a2e9dd",
   "metadata": {
    "execution": {
     "iopub.execute_input": "2023-12-12T14:16:33.145722Z",
     "iopub.status.busy": "2023-12-12T14:16:33.145005Z",
     "iopub.status.idle": "2023-12-12T14:16:33.152475Z",
     "shell.execute_reply": "2023-12-12T14:16:33.151371Z"
    },
    "papermill": {
     "duration": 0.06653,
     "end_time": "2023-12-12T14:16:33.154729",
     "exception": false,
     "start_time": "2023-12-12T14:16:33.088199",
     "status": "completed"
    },
    "tags": []
   },
   "outputs": [],
   "source": [
    "df['Count_Txn'] = df['Count_Txn'].fillna(df['Count_Txn'].median())"
   ]
  },
  {
   "cell_type": "markdown",
   "id": "4deb6475",
   "metadata": {
    "papermill": {
     "duration": 0.055124,
     "end_time": "2023-12-12T14:16:33.265047",
     "exception": false,
     "start_time": "2023-12-12T14:16:33.209923",
     "status": "completed"
    },
    "tags": []
   },
   "source": [
    "#### Age"
   ]
  },
  {
   "cell_type": "code",
   "execution_count": 54,
   "id": "2891ab77",
   "metadata": {
    "execution": {
     "iopub.execute_input": "2023-12-12T14:16:33.376098Z",
     "iopub.status.busy": "2023-12-12T14:16:33.375328Z",
     "iopub.status.idle": "2023-12-12T14:16:33.386461Z",
     "shell.execute_reply": "2023-12-12T14:16:33.385462Z"
    },
    "papermill": {
     "duration": 0.069453,
     "end_time": "2023-12-12T14:16:33.388840",
     "exception": false,
     "start_time": "2023-12-12T14:16:33.319387",
     "status": "completed"
    },
    "tags": []
   },
   "outputs": [
    {
     "data": {
      "text/plain": [
       "count   45203\n",
       "mean       41\n",
       "std        11\n",
       "min        18\n",
       "25%        33\n",
       "50%        39\n",
       "75%        48\n",
       "max       121\n",
       "Name: age, dtype: float64"
      ]
     },
     "execution_count": 54,
     "metadata": {},
     "output_type": "execute_result"
    }
   ],
   "source": [
    "df['age'].describe()"
   ]
  },
  {
   "cell_type": "code",
   "execution_count": 55,
   "id": "2bbfa708",
   "metadata": {
    "execution": {
     "iopub.execute_input": "2023-12-12T14:16:33.500297Z",
     "iopub.status.busy": "2023-12-12T14:16:33.499837Z",
     "iopub.status.idle": "2023-12-12T14:16:34.140607Z",
     "shell.execute_reply": "2023-12-12T14:16:34.139415Z"
    },
    "papermill": {
     "duration": 0.699632,
     "end_time": "2023-12-12T14:16:34.143210",
     "exception": false,
     "start_time": "2023-12-12T14:16:33.443578",
     "status": "completed"
    },
    "tags": []
   },
   "outputs": [
    {
     "data": {
      "image/png": "[encoded data removed]",
      "text/plain": [
       "<Figure size 1000x600 with 1 Axes>"
      ]
     },
     "metadata": {},
     "output_type": "display_data"
    }
   ],
   "source": [
    "sns.set(style=\"whitegrid\")\n",
    "plt.figure(figsize=(10, 6))\n",
    "\n",
    "# Create KDE plot for 'age' column\n",
    "sns.kdeplot(data=df, x='age', fill=True, palette=\"crest\")\n",
    "\n",
    "plt.title('Kernel Density Estimation (KDE) Plot for Age')\n",
    "plt.xlabel('Age')\n",
    "plt.ylabel('Density')\n",
    "plt.show()"
   ]
  },
  {
   "cell_type": "code",
   "execution_count": 56,
   "id": "3787877e",
   "metadata": {
    "execution": {
     "iopub.execute_input": "2023-12-12T14:16:34.257845Z",
     "iopub.status.busy": "2023-12-12T14:16:34.257414Z",
     "iopub.status.idle": "2023-12-12T14:16:34.270238Z",
     "shell.execute_reply": "2023-12-12T14:16:34.269204Z"
    },
    "papermill": {
     "duration": 0.073107,
     "end_time": "2023-12-12T14:16:34.272775",
     "exception": false,
     "start_time": "2023-12-12T14:16:34.199668",
     "status": "completed"
    },
    "tags": []
   },
   "outputs": [
    {
     "data": {
      "text/plain": [
       "40789    121\n",
       "40957    121\n",
       "40972    121\n",
       "41237    121\n",
       "41242    121\n",
       "41515    121\n",
       "41599    121\n",
       "41615    121\n",
       "42197    121\n",
       "42333    121\n",
       "42747    121\n",
       "42914    121\n",
       "43142    121\n",
       "43268    121\n",
       "43915    121\n",
       "44095    121\n",
       "44932    121\n",
       "45207    121\n",
       "29464    120\n",
       "31119    120\n",
       "31919    120\n",
       "33849    120\n",
       "40622    120\n",
       "41041    120\n",
       "42025    120\n",
       "42534    120\n",
       "42864    120\n",
       "43197    120\n",
       "44396    120\n",
       "44403    120\n",
       "44786    120\n",
       "45195    120\n",
       "31723    115\n",
       "32802    115\n",
       "33710    115\n",
       "33815    115\n",
       "40383    115\n",
       "40471    115\n",
       "40526    115\n",
       "40586    115\n",
       "33699     95\n",
       "41663     95\n",
       "31233     94\n",
       "44262     93\n",
       "44420     93\n",
       "41934     92\n",
       "42727     92\n",
       "31069     90\n",
       "43194     90\n",
       "41162     89\n",
       "42574     89\n",
       "44892     89\n",
       "44669     88\n",
       "44794     88\n",
       "41923     87\n",
       "42081     87\n",
       "42494     87\n",
       "42635     87\n",
       "32105     86\n",
       "41291     86\n",
       "Name: age, dtype: int64"
      ]
     },
     "execution_count": 56,
     "metadata": {},
     "output_type": "execute_result"
    }
   ],
   "source": [
    "# There seems to spike in the 120 so lets see what is the problem\n",
    "top_ages = df['age'].nlargest(60)\n",
    "top_ages"
   ]
  },
  {
   "cell_type": "markdown",
   "id": "b12e47f9",
   "metadata": {
    "papermill": {
     "duration": 0.056138,
     "end_time": "2023-12-12T14:16:34.385790",
     "exception": false,
     "start_time": "2023-12-12T14:16:34.329652",
     "status": "completed"
    },
    "tags": []
   },
   "source": [
    "There seems to be logical mistake. It may be typing error it may be 21 typed as 121. so lets quick check. In middle east, the personal loan can be taken till 65. so lets check whether the unrealistic age customers has taken the loan, if so it may be typing error and lets cap it randomly to 75 to 95."
   ]
  },
  {
   "cell_type": "code",
   "execution_count": 57,
   "id": "999f9f79",
   "metadata": {
    "execution": {
     "iopub.execute_input": "2023-12-12T14:16:34.501162Z",
     "iopub.status.busy": "2023-12-12T14:16:34.500523Z",
     "iopub.status.idle": "2023-12-12T14:16:34.531140Z",
     "shell.execute_reply": "2023-12-12T14:16:34.529972Z"
    },
    "papermill": {
     "duration": 0.090852,
     "end_time": "2023-12-12T14:16:34.533619",
     "exception": false,
     "start_time": "2023-12-12T14:16:34.442767",
     "status": "completed"
    },
    "tags": []
   },
   "outputs": [
    {
     "data": {
      "text/html": [
       "<div>\n",
       "<style scoped>\n",
       "    .dataframe tbody tr th:only-of-type {\n",
       "        vertical-align: middle;\n",
       "    }\n",
       "\n",
       "    .dataframe tbody tr th {\n",
       "        vertical-align: top;\n",
       "    }\n",
       "\n",
       "    .dataframe thead th {\n",
       "        text-align: right;\n",
       "    }\n",
       "</style>\n",
       "<table border=\"1\" class=\"dataframe\">\n",
       "  <thead>\n",
       "    <tr style=\"text-align: right;\">\n",
       "      <th></th>\n",
       "      <th>Insurance</th>\n",
       "      <th>balance</th>\n",
       "      <th>housing</th>\n",
       "      <th>loan</th>\n",
       "      <th>contact</th>\n",
       "      <th>duration</th>\n",
       "      <th>campaign</th>\n",
       "      <th>last_contact_day</th>\n",
       "      <th>previous</th>\n",
       "      <th>poutcome</th>\n",
       "      <th>Term Deposit</th>\n",
       "      <th>Count_Txn</th>\n",
       "      <th>age</th>\n",
       "      <th>job</th>\n",
       "      <th>marital</th>\n",
       "      <th>education</th>\n",
       "      <th>Annual Income</th>\n",
       "      <th>Gender</th>\n",
       "    </tr>\n",
       "  </thead>\n",
       "  <tbody>\n",
       "  </tbody>\n",
       "</table>\n",
       "</div>"
      ],
      "text/plain": [
       "Empty DataFrame\n",
       "Columns: [Insurance, balance, housing, loan, contact, duration, campaign, last_contact_day, previous, poutcome, Term Deposit, Count_Txn, age, job, marital, education, Annual Income, Gender]\n",
       "Index: []"
      ]
     },
     "execution_count": 57,
     "metadata": {},
     "output_type": "execute_result"
    }
   ],
   "source": [
    "result_df = df[(df['age'] > 90) & (df['loan'] == 'yes') & (df['housing'] == 'yes')]\n",
    "result_df"
   ]
  },
  {
   "cell_type": "code",
   "execution_count": 58,
   "id": "872cefb0",
   "metadata": {
    "execution": {
     "iopub.execute_input": "2023-12-12T14:16:34.649429Z",
     "iopub.status.busy": "2023-12-12T14:16:34.648507Z",
     "iopub.status.idle": "2023-12-12T14:16:34.928290Z",
     "shell.execute_reply": "2023-12-12T14:16:34.926972Z"
    },
    "papermill": {
     "duration": 0.340303,
     "end_time": "2023-12-12T14:16:34.930699",
     "exception": false,
     "start_time": "2023-12-12T14:16:34.590396",
     "status": "completed"
    },
    "tags": []
   },
   "outputs": [
    {
     "data": {
      "image/png": "[encoded data removed]",
      "text/plain": [
       "<Figure size 1000x600 with 1 Axes>"
      ]
     },
     "metadata": {},
     "output_type": "display_data"
    }
   ],
   "source": [
    "column_name = 'age'\n",
    "\n",
    "# Set the upper limit for the more reasonable range\n",
    "upper_limit = 95\n",
    "\n",
    "# Identify and replace unrealistic values\n",
    "unrealistic_values = df[df[column_name] > upper_limit][column_name]\n",
    "df.loc[unrealistic_values.index, column_name] = np.random.randint(75, upper_limit, size=len(unrealistic_values))\n",
    "\n",
    "# Create a boxplot to visualize the updated values\n",
    "plt.figure(figsize=(10, 6))\n",
    "sns.boxplot(x=df[column_name])\n",
    "plt.title(f'Boxplot of {column_name} with Realistic Values')\n",
    "plt.show()"
   ]
  },
  {
   "cell_type": "markdown",
   "id": "a9eddc7f",
   "metadata": {
    "papermill": {
     "duration": 0.056368,
     "end_time": "2023-12-12T14:16:35.044263",
     "exception": false,
     "start_time": "2023-12-12T14:16:34.987895",
     "status": "completed"
    },
    "tags": []
   },
   "source": [
    "#### Annual Income"
   ]
  },
  {
   "cell_type": "code",
   "execution_count": 59,
   "id": "987fca6e",
   "metadata": {
    "execution": {
     "iopub.execute_input": "2023-12-12T14:16:35.161132Z",
     "iopub.status.busy": "2023-12-12T14:16:35.160706Z",
     "iopub.status.idle": "2023-12-12T14:16:35.197319Z",
     "shell.execute_reply": "2023-12-12T14:16:35.196517Z"
    },
    "papermill": {
     "duration": 0.097857,
     "end_time": "2023-12-12T14:16:35.199383",
     "exception": false,
     "start_time": "2023-12-12T14:16:35.101526",
     "status": "completed"
    },
    "tags": []
   },
   "outputs": [
    {
     "data": {
      "text/plain": [
       "count       45186\n",
       "unique      44964\n",
       "top       1380371\n",
       "freq            3\n",
       "Name: Annual Income, dtype: int64"
      ]
     },
     "execution_count": 59,
     "metadata": {},
     "output_type": "execute_result"
    }
   ],
   "source": [
    "df[\"Annual Income\"].describe()"
   ]
  },
  {
   "cell_type": "code",
   "execution_count": 60,
   "id": "0ab2d924",
   "metadata": {
    "execution": {
     "iopub.execute_input": "2023-12-12T14:16:35.315492Z",
     "iopub.status.busy": "2023-12-12T14:16:35.314517Z",
     "iopub.status.idle": "2023-12-12T14:16:35.349339Z",
     "shell.execute_reply": "2023-12-12T14:16:35.348077Z"
    },
    "papermill": {
     "duration": 0.095595,
     "end_time": "2023-12-12T14:16:35.352212",
     "exception": false,
     "start_time": "2023-12-12T14:16:35.256617",
     "status": "completed"
    },
    "tags": []
   },
   "outputs": [],
   "source": [
    "df.loc[:,'Annual Income'] = pd.to_numeric(df['Annual Income'], errors='coerce').fillna(0).astype(int)"
   ]
  },
  {
   "cell_type": "code",
   "execution_count": 61,
   "id": "8ae0ffc7",
   "metadata": {
    "execution": {
     "iopub.execute_input": "2023-12-12T14:16:35.469500Z",
     "iopub.status.busy": "2023-12-12T14:16:35.469066Z",
     "iopub.status.idle": "2023-12-12T14:16:36.240792Z",
     "shell.execute_reply": "2023-12-12T14:16:36.239550Z"
    },
    "papermill": {
     "duration": 0.834283,
     "end_time": "2023-12-12T14:16:36.243759",
     "exception": false,
     "start_time": "2023-12-12T14:16:35.409476",
     "status": "completed"
    },
    "tags": []
   },
   "outputs": [
    {
     "data": {
      "image/png": "[encoded data removed]",
      "text/plain": [
       "<Figure size 1000x600 with 1 Axes>"
      ]
     },
     "metadata": {},
     "output_type": "display_data"
    }
   ],
   "source": [
    "sns.set(style=\"whitegrid\")\n",
    "plt.figure(figsize=(10, 6))\n",
    "\n",
    "# Create KDE plot for 'age' column\n",
    "sns.kdeplot(data=df, x='Annual Income', fill=True, palette=\"crest\")\n",
    "\n",
    "plt.title('Kernel Density Estimation (KDE) Plot for Annual Income')\n",
    "plt.xlabel('Annual Income')\n",
    "plt.ylabel('Density')\n",
    "plt.show()"
   ]
  },
  {
   "cell_type": "code",
   "execution_count": 62,
   "id": "f2c6d8b8",
   "metadata": {
    "execution": {
     "iopub.execute_input": "2023-12-12T14:16:36.362534Z",
     "iopub.status.busy": "2023-12-12T14:16:36.362151Z",
     "iopub.status.idle": "2023-12-12T14:16:36.379820Z",
     "shell.execute_reply": "2023-12-12T14:16:36.378745Z"
    },
    "papermill": {
     "duration": 0.079619,
     "end_time": "2023-12-12T14:16:36.381938",
     "exception": false,
     "start_time": "2023-12-12T14:16:36.302319",
     "status": "completed"
    },
    "tags": []
   },
   "outputs": [
    {
     "data": {
      "text/plain": [
       "Insurance           18\n",
       "balance             18\n",
       "housing             18\n",
       "loan                18\n",
       "contact             18\n",
       "duration            18\n",
       "campaign            18\n",
       "last_contact_day    18\n",
       "previous            18\n",
       "poutcome            18\n",
       "Term Deposit        18\n",
       "Count_Txn           18\n",
       "age                 18\n",
       "job                 18\n",
       "marital             18\n",
       "education           18\n",
       "Annual Income       18\n",
       "Gender              18\n",
       "dtype: int64"
      ]
     },
     "execution_count": 62,
     "metadata": {},
     "output_type": "execute_result"
    }
   ],
   "source": [
    "df[df['Annual Income'] <= 0].count()"
   ]
  },
  {
   "cell_type": "code",
   "execution_count": 63,
   "id": "69321580",
   "metadata": {
    "execution": {
     "iopub.execute_input": "2023-12-12T14:16:36.500726Z",
     "iopub.status.busy": "2023-12-12T14:16:36.500304Z",
     "iopub.status.idle": "2023-12-12T14:16:36.534676Z",
     "shell.execute_reply": "2023-12-12T14:16:36.533394Z"
    },
    "papermill": {
     "duration": 0.096526,
     "end_time": "2023-12-12T14:16:36.537086",
     "exception": false,
     "start_time": "2023-12-12T14:16:36.440560",
     "status": "completed"
    },
    "tags": []
   },
   "outputs": [
    {
     "data": {
      "text/html": [
       "<div>\n",
       "<style scoped>\n",
       "    .dataframe tbody tr th:only-of-type {\n",
       "        vertical-align: middle;\n",
       "    }\n",
       "\n",
       "    .dataframe tbody tr th {\n",
       "        vertical-align: top;\n",
       "    }\n",
       "\n",
       "    .dataframe thead th {\n",
       "        text-align: right;\n",
       "    }\n",
       "</style>\n",
       "<table border=\"1\" class=\"dataframe\">\n",
       "  <thead>\n",
       "    <tr style=\"text-align: right;\">\n",
       "      <th></th>\n",
       "      <th>Insurance</th>\n",
       "      <th>balance</th>\n",
       "      <th>housing</th>\n",
       "      <th>loan</th>\n",
       "      <th>contact</th>\n",
       "      <th>duration</th>\n",
       "      <th>campaign</th>\n",
       "      <th>last_contact_day</th>\n",
       "      <th>previous</th>\n",
       "      <th>poutcome</th>\n",
       "      <th>Term Deposit</th>\n",
       "      <th>Count_Txn</th>\n",
       "      <th>age</th>\n",
       "      <th>job</th>\n",
       "      <th>marital</th>\n",
       "      <th>education</th>\n",
       "      <th>Annual Income</th>\n",
       "      <th>Gender</th>\n",
       "    </tr>\n",
       "  </thead>\n",
       "  <tbody>\n",
       "    <tr>\n",
       "      <th>7</th>\n",
       "      <td>yes</td>\n",
       "      <td>2</td>\n",
       "      <td>yes</td>\n",
       "      <td>no</td>\n",
       "      <td>unknown</td>\n",
       "      <td>380</td>\n",
       "      <td>1</td>\n",
       "      <td>2</td>\n",
       "      <td>0</td>\n",
       "      <td>unknown</td>\n",
       "      <td>no</td>\n",
       "      <td>108</td>\n",
       "      <td>42</td>\n",
       "      <td>entrepreneur</td>\n",
       "      <td>divorced</td>\n",
       "      <td>tertiary</td>\n",
       "      <td>0</td>\n",
       "      <td>F</td>\n",
       "    </tr>\n",
       "    <tr>\n",
       "      <th>14</th>\n",
       "      <td>no</td>\n",
       "      <td>162</td>\n",
       "      <td>yes</td>\n",
       "      <td>no</td>\n",
       "      <td>unknown</td>\n",
       "      <td>174</td>\n",
       "      <td>1</td>\n",
       "      <td>3</td>\n",
       "      <td>0</td>\n",
       "      <td>unknown</td>\n",
       "      <td>no</td>\n",
       "      <td>186</td>\n",
       "      <td>57</td>\n",
       "      <td>services</td>\n",
       "      <td>married</td>\n",
       "      <td>secondary</td>\n",
       "      <td>0</td>\n",
       "      <td>M</td>\n",
       "    </tr>\n",
       "    <tr>\n",
       "      <th>23</th>\n",
       "      <td>no</td>\n",
       "      <td>50</td>\n",
       "      <td>yes</td>\n",
       "      <td>no</td>\n",
       "      <td>unknown</td>\n",
       "      <td>342</td>\n",
       "      <td>1</td>\n",
       "      <td>3</td>\n",
       "      <td>0</td>\n",
       "      <td>unknown</td>\n",
       "      <td>no</td>\n",
       "      <td>426</td>\n",
       "      <td>25</td>\n",
       "      <td>services</td>\n",
       "      <td>married</td>\n",
       "      <td>secondary</td>\n",
       "      <td>0</td>\n",
       "      <td>M</td>\n",
       "    </tr>\n",
       "    <tr>\n",
       "      <th>4993</th>\n",
       "      <td>no</td>\n",
       "      <td>170</td>\n",
       "      <td>yes</td>\n",
       "      <td>yes</td>\n",
       "      <td>unknown</td>\n",
       "      <td>492</td>\n",
       "      <td>1</td>\n",
       "      <td>1</td>\n",
       "      <td>0</td>\n",
       "      <td>unknown</td>\n",
       "      <td>no</td>\n",
       "      <td>469</td>\n",
       "      <td>28</td>\n",
       "      <td>admin.</td>\n",
       "      <td>married</td>\n",
       "      <td>secondary</td>\n",
       "      <td>0</td>\n",
       "      <td>M</td>\n",
       "    </tr>\n",
       "    <tr>\n",
       "      <th>5040</th>\n",
       "      <td>no</td>\n",
       "      <td>722</td>\n",
       "      <td>yes</td>\n",
       "      <td>no</td>\n",
       "      <td>unknown</td>\n",
       "      <td>150</td>\n",
       "      <td>1</td>\n",
       "      <td>1</td>\n",
       "      <td>0</td>\n",
       "      <td>unknown</td>\n",
       "      <td>no</td>\n",
       "      <td>405</td>\n",
       "      <td>28</td>\n",
       "      <td>blue-collar</td>\n",
       "      <td>single</td>\n",
       "      <td>primary</td>\n",
       "      <td>0</td>\n",
       "      <td>M</td>\n",
       "    </tr>\n",
       "    <tr>\n",
       "      <th>5335</th>\n",
       "      <td>no</td>\n",
       "      <td>2549</td>\n",
       "      <td>yes</td>\n",
       "      <td>no</td>\n",
       "      <td>unknown</td>\n",
       "      <td>246</td>\n",
       "      <td>3</td>\n",
       "      <td>1</td>\n",
       "      <td>0</td>\n",
       "      <td>unknown</td>\n",
       "      <td>no</td>\n",
       "      <td>413</td>\n",
       "      <td>32</td>\n",
       "      <td>blue-collar</td>\n",
       "      <td>married</td>\n",
       "      <td>secondary</td>\n",
       "      <td>0</td>\n",
       "      <td>F</td>\n",
       "    </tr>\n",
       "    <tr>\n",
       "      <th>5350</th>\n",
       "      <td>no</td>\n",
       "      <td>253</td>\n",
       "      <td>yes</td>\n",
       "      <td>no</td>\n",
       "      <td>unknown</td>\n",
       "      <td>160</td>\n",
       "      <td>2</td>\n",
       "      <td>1</td>\n",
       "      <td>0</td>\n",
       "      <td>unknown</td>\n",
       "      <td>no</td>\n",
       "      <td>418</td>\n",
       "      <td>30</td>\n",
       "      <td>blue-collar</td>\n",
       "      <td>married</td>\n",
       "      <td>secondary</td>\n",
       "      <td>0</td>\n",
       "      <td>M</td>\n",
       "    </tr>\n",
       "    <tr>\n",
       "      <th>5412</th>\n",
       "      <td>no</td>\n",
       "      <td>205</td>\n",
       "      <td>yes</td>\n",
       "      <td>no</td>\n",
       "      <td>unknown</td>\n",
       "      <td>147</td>\n",
       "      <td>14</td>\n",
       "      <td>1</td>\n",
       "      <td>0</td>\n",
       "      <td>unknown</td>\n",
       "      <td>no</td>\n",
       "      <td>293</td>\n",
       "      <td>35</td>\n",
       "      <td>blue-collar</td>\n",
       "      <td>married</td>\n",
       "      <td>unknown</td>\n",
       "      <td>0</td>\n",
       "      <td>F</td>\n",
       "    </tr>\n",
       "    <tr>\n",
       "      <th>5513</th>\n",
       "      <td>no</td>\n",
       "      <td>1049</td>\n",
       "      <td>yes</td>\n",
       "      <td>no</td>\n",
       "      <td>unknown</td>\n",
       "      <td>25</td>\n",
       "      <td>14</td>\n",
       "      <td>1</td>\n",
       "      <td>0</td>\n",
       "      <td>unknown</td>\n",
       "      <td>no</td>\n",
       "      <td>207</td>\n",
       "      <td>34</td>\n",
       "      <td>admin.</td>\n",
       "      <td>married</td>\n",
       "      <td>secondary</td>\n",
       "      <td>0</td>\n",
       "      <td>F</td>\n",
       "    </tr>\n",
       "    <tr>\n",
       "      <th>5565</th>\n",
       "      <td>no</td>\n",
       "      <td>97</td>\n",
       "      <td>yes</td>\n",
       "      <td>no</td>\n",
       "      <td>unknown</td>\n",
       "      <td>95</td>\n",
       "      <td>14</td>\n",
       "      <td>1</td>\n",
       "      <td>0</td>\n",
       "      <td>unknown</td>\n",
       "      <td>no</td>\n",
       "      <td>146</td>\n",
       "      <td>44</td>\n",
       "      <td>blue-collar</td>\n",
       "      <td>single</td>\n",
       "      <td>primary</td>\n",
       "      <td>0</td>\n",
       "      <td>M</td>\n",
       "    </tr>\n",
       "    <tr>\n",
       "      <th>5636</th>\n",
       "      <td>no</td>\n",
       "      <td>1495</td>\n",
       "      <td>yes</td>\n",
       "      <td>yes</td>\n",
       "      <td>unknown</td>\n",
       "      <td>159</td>\n",
       "      <td>3</td>\n",
       "      <td>1</td>\n",
       "      <td>0</td>\n",
       "      <td>unknown</td>\n",
       "      <td>no</td>\n",
       "      <td>440</td>\n",
       "      <td>31</td>\n",
       "      <td>blue-collar</td>\n",
       "      <td>married</td>\n",
       "      <td>secondary</td>\n",
       "      <td>0</td>\n",
       "      <td>M</td>\n",
       "    </tr>\n",
       "    <tr>\n",
       "      <th>5638</th>\n",
       "      <td>no</td>\n",
       "      <td>3316</td>\n",
       "      <td>yes</td>\n",
       "      <td>no</td>\n",
       "      <td>unknown</td>\n",
       "      <td>331</td>\n",
       "      <td>6</td>\n",
       "      <td>1</td>\n",
       "      <td>0</td>\n",
       "      <td>unknown</td>\n",
       "      <td>no</td>\n",
       "      <td>409</td>\n",
       "      <td>53</td>\n",
       "      <td>blue-collar</td>\n",
       "      <td>married</td>\n",
       "      <td>primary</td>\n",
       "      <td>0</td>\n",
       "      <td>F</td>\n",
       "    </tr>\n",
       "    <tr>\n",
       "      <th>5643</th>\n",
       "      <td>no</td>\n",
       "      <td>41</td>\n",
       "      <td>yes</td>\n",
       "      <td>yes</td>\n",
       "      <td>unknown</td>\n",
       "      <td>117</td>\n",
       "      <td>2</td>\n",
       "      <td>1</td>\n",
       "      <td>0</td>\n",
       "      <td>unknown</td>\n",
       "      <td>no</td>\n",
       "      <td>445</td>\n",
       "      <td>32</td>\n",
       "      <td>admin.</td>\n",
       "      <td>married</td>\n",
       "      <td>secondary</td>\n",
       "      <td>0</td>\n",
       "      <td>F</td>\n",
       "    </tr>\n",
       "    <tr>\n",
       "      <th>5644</th>\n",
       "      <td>no</td>\n",
       "      <td>1718</td>\n",
       "      <td>yes</td>\n",
       "      <td>no</td>\n",
       "      <td>unknown</td>\n",
       "      <td>146</td>\n",
       "      <td>6</td>\n",
       "      <td>1</td>\n",
       "      <td>0</td>\n",
       "      <td>unknown</td>\n",
       "      <td>no</td>\n",
       "      <td>482</td>\n",
       "      <td>60</td>\n",
       "      <td>retired</td>\n",
       "      <td>divorced</td>\n",
       "      <td>secondary</td>\n",
       "      <td>0</td>\n",
       "      <td>F</td>\n",
       "    </tr>\n",
       "    <tr>\n",
       "      <th>5646</th>\n",
       "      <td>no</td>\n",
       "      <td>2317</td>\n",
       "      <td>yes</td>\n",
       "      <td>no</td>\n",
       "      <td>unknown</td>\n",
       "      <td>260</td>\n",
       "      <td>5</td>\n",
       "      <td>1</td>\n",
       "      <td>0</td>\n",
       "      <td>unknown</td>\n",
       "      <td>no</td>\n",
       "      <td>491</td>\n",
       "      <td>30</td>\n",
       "      <td>management</td>\n",
       "      <td>single</td>\n",
       "      <td>tertiary</td>\n",
       "      <td>0</td>\n",
       "      <td>M</td>\n",
       "    </tr>\n",
       "    <tr>\n",
       "      <th>5650</th>\n",
       "      <td>no</td>\n",
       "      <td>216</td>\n",
       "      <td>yes</td>\n",
       "      <td>no</td>\n",
       "      <td>unknown</td>\n",
       "      <td>336</td>\n",
       "      <td>1</td>\n",
       "      <td>1</td>\n",
       "      <td>0</td>\n",
       "      <td>unknown</td>\n",
       "      <td>no</td>\n",
       "      <td>407</td>\n",
       "      <td>56</td>\n",
       "      <td>blue-collar</td>\n",
       "      <td>divorced</td>\n",
       "      <td>primary</td>\n",
       "      <td>0</td>\n",
       "      <td>M</td>\n",
       "    </tr>\n",
       "    <tr>\n",
       "      <th>5651</th>\n",
       "      <td>no</td>\n",
       "      <td>347</td>\n",
       "      <td>yes</td>\n",
       "      <td>no</td>\n",
       "      <td>unknown</td>\n",
       "      <td>200</td>\n",
       "      <td>2</td>\n",
       "      <td>1</td>\n",
       "      <td>0</td>\n",
       "      <td>unknown</td>\n",
       "      <td>no</td>\n",
       "      <td>441</td>\n",
       "      <td>49</td>\n",
       "      <td>admin.</td>\n",
       "      <td>divorced</td>\n",
       "      <td>primary</td>\n",
       "      <td>0</td>\n",
       "      <td>F</td>\n",
       "    </tr>\n",
       "    <tr>\n",
       "      <th>5655</th>\n",
       "      <td>no</td>\n",
       "      <td>674</td>\n",
       "      <td>yes</td>\n",
       "      <td>no</td>\n",
       "      <td>unknown</td>\n",
       "      <td>80</td>\n",
       "      <td>1</td>\n",
       "      <td>1</td>\n",
       "      <td>0</td>\n",
       "      <td>unknown</td>\n",
       "      <td>no</td>\n",
       "      <td>425</td>\n",
       "      <td>58</td>\n",
       "      <td>retired</td>\n",
       "      <td>married</td>\n",
       "      <td>secondary</td>\n",
       "      <td>0</td>\n",
       "      <td>F</td>\n",
       "    </tr>\n",
       "  </tbody>\n",
       "</table>\n",
       "</div>"
      ],
      "text/plain": [
       "     Insurance  balance housing loan  contact  duration  campaign  \\\n",
       "7          yes        2     yes   no  unknown       380         1   \n",
       "14          no      162     yes   no  unknown       174         1   \n",
       "23          no       50     yes   no  unknown       342         1   \n",
       "4993        no      170     yes  yes  unknown       492         1   \n",
       "5040        no      722     yes   no  unknown       150         1   \n",
       "5335        no     2549     yes   no  unknown       246         3   \n",
       "5350        no      253     yes   no  unknown       160         2   \n",
       "5412        no      205     yes   no  unknown       147        14   \n",
       "5513        no     1049     yes   no  unknown        25        14   \n",
       "5565        no       97     yes   no  unknown        95        14   \n",
       "5636        no     1495     yes  yes  unknown       159         3   \n",
       "5638        no     3316     yes   no  unknown       331         6   \n",
       "5643        no       41     yes  yes  unknown       117         2   \n",
       "5644        no     1718     yes   no  unknown       146         6   \n",
       "5646        no     2317     yes   no  unknown       260         5   \n",
       "5650        no      216     yes   no  unknown       336         1   \n",
       "5651        no      347     yes   no  unknown       200         2   \n",
       "5655        no      674     yes   no  unknown        80         1   \n",
       "\n",
       "      last_contact_day  previous poutcome Term Deposit  Count_Txn  age  \\\n",
       "7                    2         0  unknown           no        108   42   \n",
       "14                   3         0  unknown           no        186   57   \n",
       "23                   3         0  unknown           no        426   25   \n",
       "4993                 1         0  unknown           no        469   28   \n",
       "5040                 1         0  unknown           no        405   28   \n",
       "5335                 1         0  unknown           no        413   32   \n",
       "5350                 1         0  unknown           no        418   30   \n",
       "5412                 1         0  unknown           no        293   35   \n",
       "5513                 1         0  unknown           no        207   34   \n",
       "5565                 1         0  unknown           no        146   44   \n",
       "5636                 1         0  unknown           no        440   31   \n",
       "5638                 1         0  unknown           no        409   53   \n",
       "5643                 1         0  unknown           no        445   32   \n",
       "5644                 1         0  unknown           no        482   60   \n",
       "5646                 1         0  unknown           no        491   30   \n",
       "5650                 1         0  unknown           no        407   56   \n",
       "5651                 1         0  unknown           no        441   49   \n",
       "5655                 1         0  unknown           no        425   58   \n",
       "\n",
       "               job   marital  education Annual Income Gender  \n",
       "7     entrepreneur  divorced   tertiary             0      F  \n",
       "14        services   married  secondary             0      M  \n",
       "23        services   married  secondary             0      M  \n",
       "4993        admin.   married  secondary             0      M  \n",
       "5040   blue-collar    single    primary             0      M  \n",
       "5335   blue-collar   married  secondary             0      F  \n",
       "5350   blue-collar   married  secondary             0      M  \n",
       "5412   blue-collar   married    unknown             0      F  \n",
       "5513        admin.   married  secondary             0      F  \n",
       "5565   blue-collar    single    primary             0      M  \n",
       "5636   blue-collar   married  secondary             0      M  \n",
       "5638   blue-collar   married    primary             0      F  \n",
       "5643        admin.   married  secondary             0      F  \n",
       "5644       retired  divorced  secondary             0      F  \n",
       "5646    management    single   tertiary             0      M  \n",
       "5650   blue-collar  divorced    primary             0      M  \n",
       "5651        admin.  divorced    primary             0      F  \n",
       "5655       retired   married  secondary             0      F  "
      ]
     },
     "execution_count": 63,
     "metadata": {},
     "output_type": "execute_result"
    }
   ],
   "source": [
    "filtered_df = df[df['Annual Income'] <= 0]\n",
    "filtered_df"
   ]
  },
  {
   "cell_type": "markdown",
   "id": "87704230",
   "metadata": {
    "papermill": {
     "duration": 0.05891,
     "end_time": "2023-12-12T14:16:36.655323",
     "exception": false,
     "start_time": "2023-12-12T14:16:36.596413",
     "status": "completed"
    },
    "tags": []
   },
   "source": [
    "The term blue-collar worker refers to individuals who engage in hard manual labor, typically in the agriculture, manufacturing, construction, mining, or maintenance sectors. Here most of the people who get 0 Annual Income is blue-collar workers"
   ]
  },
  {
   "cell_type": "markdown",
   "id": "5831b500",
   "metadata": {
    "papermill": {
     "duration": 0.059959,
     "end_time": "2023-12-12T14:16:36.774245",
     "exception": false,
     "start_time": "2023-12-12T14:16:36.714286",
     "status": "completed"
    },
    "tags": []
   },
   "source": [
    "# Bivariate analysis"
   ]
  },
  {
   "cell_type": "markdown",
   "id": "d7efd622",
   "metadata": {
    "papermill": {
     "duration": 0.060063,
     "end_time": "2023-12-12T14:16:36.893078",
     "exception": false,
     "start_time": "2023-12-12T14:16:36.833015",
     "status": "completed"
    },
    "tags": []
   },
   "source": [
    "### Insurance vs Term Deposit"
   ]
  },
  {
   "cell_type": "markdown",
   "id": "da95c3e9",
   "metadata": {
    "papermill": {
     "duration": 0.059269,
     "end_time": "2023-12-12T14:16:37.012553",
     "exception": false,
     "start_time": "2023-12-12T14:16:36.953284",
     "status": "completed"
    },
    "tags": []
   },
   "source": [
    "Lets see the relationship between Insurance and Term Deposit"
   ]
  },
  {
   "cell_type": "code",
   "execution_count": 64,
   "id": "5a4fcfe4",
   "metadata": {
    "execution": {
     "iopub.execute_input": "2023-12-12T14:16:37.132617Z",
     "iopub.status.busy": "2023-12-12T14:16:37.132232Z",
     "iopub.status.idle": "2023-12-12T14:16:37.165162Z",
     "shell.execute_reply": "2023-12-12T14:16:37.164062Z"
    },
    "papermill": {
     "duration": 0.095812,
     "end_time": "2023-12-12T14:16:37.167604",
     "exception": false,
     "start_time": "2023-12-12T14:16:37.071792",
     "status": "completed"
    },
    "tags": []
   },
   "outputs": [
    {
     "data": {
      "text/html": [
       "<div>\n",
       "<style scoped>\n",
       "    .dataframe tbody tr th:only-of-type {\n",
       "        vertical-align: middle;\n",
       "    }\n",
       "\n",
       "    .dataframe tbody tr th {\n",
       "        vertical-align: top;\n",
       "    }\n",
       "\n",
       "    .dataframe thead th {\n",
       "        text-align: right;\n",
       "    }\n",
       "</style>\n",
       "<table border=\"1\" class=\"dataframe\">\n",
       "  <thead>\n",
       "    <tr style=\"text-align: right;\">\n",
       "      <th>Term Deposit</th>\n",
       "      <th>no</th>\n",
       "      <th>yes</th>\n",
       "    </tr>\n",
       "    <tr>\n",
       "      <th>Insurance</th>\n",
       "      <th></th>\n",
       "      <th></th>\n",
       "    </tr>\n",
       "  </thead>\n",
       "  <tbody>\n",
       "    <tr>\n",
       "      <th>no</th>\n",
       "      <td>39151</td>\n",
       "      <td>5237</td>\n",
       "    </tr>\n",
       "    <tr>\n",
       "      <th>yes</th>\n",
       "      <td>763</td>\n",
       "      <td>52</td>\n",
       "    </tr>\n",
       "  </tbody>\n",
       "</table>\n",
       "</div>"
      ],
      "text/plain": [
       "Term Deposit     no   yes\n",
       "Insurance                \n",
       "no            39151  5237\n",
       "yes             763    52"
      ]
     },
     "execution_count": 64,
     "metadata": {},
     "output_type": "execute_result"
    }
   ],
   "source": [
    "pivot_table = pd.crosstab(df['Insurance'], df['Term Deposit'])\n",
    "pivot_table"
   ]
  },
  {
   "cell_type": "code",
   "execution_count": 65,
   "id": "caef4062",
   "metadata": {
    "execution": {
     "iopub.execute_input": "2023-12-12T14:16:37.289287Z",
     "iopub.status.busy": "2023-12-12T14:16:37.288553Z",
     "iopub.status.idle": "2023-12-12T14:16:37.660731Z",
     "shell.execute_reply": "2023-12-12T14:16:37.659644Z"
    },
    "papermill": {
     "duration": 0.435476,
     "end_time": "2023-12-12T14:16:37.663166",
     "exception": false,
     "start_time": "2023-12-12T14:16:37.227690",
     "status": "completed"
    },
    "tags": []
   },
   "outputs": [
    {
     "data": {
      "image/png": "[encoded data removed]",
      "text/plain": [
       "<Figure size 640x480 with 1 Axes>"
      ]
     },
     "metadata": {},
     "output_type": "display_data"
    }
   ],
   "source": [
    "sns.countplot(x='Insurance', hue='Term Deposit', data=df)\n",
    "plt.show()"
   ]
  },
  {
   "cell_type": "markdown",
   "id": "072ba41e",
   "metadata": {
    "papermill": {
     "duration": 0.060112,
     "end_time": "2023-12-12T14:16:37.783061",
     "exception": false,
     "start_time": "2023-12-12T14:16:37.722949",
     "status": "completed"
    },
    "tags": []
   },
   "source": [
    "The majority of customers do not have insurance and do not have a term deposit. there is a small number of people who have insurance but do not have a term deposit This suggests that there is a negative correlation between having insurance and having a term deposit, meaning that people who have insurance are less likely to have a term deposit, and vice versa"
   ]
  },
  {
   "cell_type": "markdown",
   "id": "0a497343",
   "metadata": {
    "papermill": {
     "duration": 0.061376,
     "end_time": "2023-12-12T14:16:37.904136",
     "exception": false,
     "start_time": "2023-12-12T14:16:37.842760",
     "status": "completed"
    },
    "tags": []
   },
   "source": [
    "### Balance vs Term Deposit"
   ]
  },
  {
   "cell_type": "code",
   "execution_count": 66,
   "id": "3ca68a3d",
   "metadata": {
    "execution": {
     "iopub.execute_input": "2023-12-12T14:16:38.026928Z",
     "iopub.status.busy": "2023-12-12T14:16:38.026510Z",
     "iopub.status.idle": "2023-12-12T14:16:38.046715Z",
     "shell.execute_reply": "2023-12-12T14:16:38.045576Z"
    },
    "papermill": {
     "duration": 0.083862,
     "end_time": "2023-12-12T14:16:38.049045",
     "exception": false,
     "start_time": "2023-12-12T14:16:37.965183",
     "status": "completed"
    },
    "tags": []
   },
   "outputs": [
    {
     "name": "stdout",
     "output_type": "stream",
     "text": [
      "Pivot Table:\n",
      "  Term Deposit  balance\n",
      "0           no      458\n",
      "1          yes      752\n"
     ]
    }
   ],
   "source": [
    "pivot_table = df.pivot_table(index='Term Deposit', values='balance', aggfunc='median').reset_index()\n",
    "\n",
    "# Display the pivot table\n",
    "print(\"Pivot Table:\")\n",
    "print(pivot_table)"
   ]
  },
  {
   "cell_type": "code",
   "execution_count": 67,
   "id": "46064402",
   "metadata": {
    "execution": {
     "iopub.execute_input": "2023-12-12T14:16:38.171448Z",
     "iopub.status.busy": "2023-12-12T14:16:38.170349Z",
     "iopub.status.idle": "2023-12-12T14:16:38.686327Z",
     "shell.execute_reply": "2023-12-12T14:16:38.685192Z"
    },
    "papermill": {
     "duration": 0.579649,
     "end_time": "2023-12-12T14:16:38.688791",
     "exception": false,
     "start_time": "2023-12-12T14:16:38.109142",
     "status": "completed"
    },
    "tags": []
   },
   "outputs": [
    {
     "data": {
      "image/png": "[encoded data removed]",
      "text/plain": [
       "<Figure size 640x480 with 1 Axes>"
      ]
     },
     "metadata": {},
     "output_type": "display_data"
    }
   ],
   "source": [
    "sns.violinplot(x='Term Deposit', y='balance', data=df)\n",
    "plt.show()"
   ]
  },
  {
   "cell_type": "markdown",
   "id": "a5595179",
   "metadata": {
    "papermill": {
     "duration": 0.059726,
     "end_time": "2023-12-12T14:16:38.809523",
     "exception": false,
     "start_time": "2023-12-12T14:16:38.749797",
     "status": "completed"
    },
    "tags": []
   },
   "source": [
    "### Age and Term Deposit"
   ]
  },
  {
   "cell_type": "code",
   "execution_count": 68,
   "id": "d31b1a13",
   "metadata": {
    "execution": {
     "iopub.execute_input": "2023-12-12T14:16:38.933144Z",
     "iopub.status.busy": "2023-12-12T14:16:38.932628Z",
     "iopub.status.idle": "2023-12-12T14:16:39.703028Z",
     "shell.execute_reply": "2023-12-12T14:16:39.701781Z"
    },
    "papermill": {
     "duration": 0.836148,
     "end_time": "2023-12-12T14:16:39.705658",
     "exception": false,
     "start_time": "2023-12-12T14:16:38.869510",
     "status": "completed"
    },
    "tags": []
   },
   "outputs": [
    {
     "data": {
      "image/png": "[encoded data removed]",
      "text/plain": [
       "<Figure size 640x480 with 1 Axes>"
      ]
     },
     "metadata": {},
     "output_type": "display_data"
    }
   ],
   "source": [
    "sns.kdeplot(x='age', hue='Term Deposit', data=df, fill=True)\n",
    "plt.title('KDE Plot for Age with Hue Term Deposit')\n",
    "plt.show()"
   ]
  },
  {
   "cell_type": "markdown",
   "id": "762f0cc9",
   "metadata": {
    "papermill": {
     "duration": 0.061163,
     "end_time": "2023-12-12T14:16:39.829825",
     "exception": false,
     "start_time": "2023-12-12T14:16:39.768662",
     "status": "completed"
    },
    "tags": []
   },
   "source": [
    "As the age increases, people tend to have the term deposit increases. Lets take a threshold 65 and calculate percentage of people having term deposit."
   ]
  },
  {
   "cell_type": "code",
   "execution_count": 69,
   "id": "4aeb1370",
   "metadata": {
    "execution": {
     "iopub.execute_input": "2023-12-12T14:16:39.957562Z",
     "iopub.status.busy": "2023-12-12T14:16:39.956745Z",
     "iopub.status.idle": "2023-12-12T14:16:39.968497Z",
     "shell.execute_reply": "2023-12-12T14:16:39.967423Z"
    },
    "papermill": {
     "duration": 0.078743,
     "end_time": "2023-12-12T14:16:39.970783",
     "exception": false,
     "start_time": "2023-12-12T14:16:39.892040",
     "status": "completed"
    },
    "tags": []
   },
   "outputs": [
    {
     "data": {
      "text/plain": [
       "33.6322869955157"
      ]
     },
     "execution_count": 69,
     "metadata": {},
     "output_type": "execute_result"
    }
   ],
   "source": [
    "threshold = 60\n",
    "above_threshold = df[df['age'] >= threshold]\n",
    "percentage_with_term_deposit = (above_threshold['Term Deposit'] == 'yes').mean() * 100\n",
    "percentage_with_term_deposit"
   ]
  },
  {
   "cell_type": "markdown",
   "id": "609bcfea",
   "metadata": {
    "papermill": {
     "duration": 0.060995,
     "end_time": "2023-12-12T14:16:40.093295",
     "exception": false,
     "start_time": "2023-12-12T14:16:40.032300",
     "status": "completed"
    },
    "tags": []
   },
   "source": [
    "Thus 33 % of the people who are greater than 65 have a Term deposit"
   ]
  },
  {
   "cell_type": "markdown",
   "id": "61355c84",
   "metadata": {
    "papermill": {
     "duration": 0.061301,
     "end_time": "2023-12-12T14:16:40.216518",
     "exception": false,
     "start_time": "2023-12-12T14:16:40.155217",
     "status": "completed"
    },
    "tags": []
   },
   "source": [
    "#### Job vs Term Deposit"
   ]
  },
  {
   "cell_type": "code",
   "execution_count": 70,
   "id": "f13337e8",
   "metadata": {
    "execution": {
     "iopub.execute_input": "2023-12-12T14:16:40.341354Z",
     "iopub.status.busy": "2023-12-12T14:16:40.340960Z",
     "iopub.status.idle": "2023-12-12T14:16:40.378921Z",
     "shell.execute_reply": "2023-12-12T14:16:40.377707Z"
    },
    "papermill": {
     "duration": 0.103247,
     "end_time": "2023-12-12T14:16:40.381296",
     "exception": false,
     "start_time": "2023-12-12T14:16:40.278049",
     "status": "completed"
    },
    "tags": []
   },
   "outputs": [
    {
     "name": "stdout",
     "output_type": "stream",
     "text": [
      "Cross-Tabulation for Job and Term Deposit (in percentage):\n"
     ]
    },
    {
     "data": {
      "text/html": [
       "<div>\n",
       "<style scoped>\n",
       "    .dataframe tbody tr th:only-of-type {\n",
       "        vertical-align: middle;\n",
       "    }\n",
       "\n",
       "    .dataframe tbody tr th {\n",
       "        vertical-align: top;\n",
       "    }\n",
       "\n",
       "    .dataframe thead th {\n",
       "        text-align: right;\n",
       "    }\n",
       "</style>\n",
       "<table border=\"1\" class=\"dataframe\">\n",
       "  <thead>\n",
       "    <tr style=\"text-align: right;\">\n",
       "      <th>Term Deposit</th>\n",
       "      <th>no</th>\n",
       "      <th>yes</th>\n",
       "    </tr>\n",
       "    <tr>\n",
       "      <th>job</th>\n",
       "      <th></th>\n",
       "      <th></th>\n",
       "    </tr>\n",
       "  </thead>\n",
       "  <tbody>\n",
       "    <tr>\n",
       "      <th>admin.</th>\n",
       "      <td>88</td>\n",
       "      <td>12</td>\n",
       "    </tr>\n",
       "    <tr>\n",
       "      <th>blue-collar</th>\n",
       "      <td>93</td>\n",
       "      <td>7</td>\n",
       "    </tr>\n",
       "    <tr>\n",
       "      <th>entrepreneur</th>\n",
       "      <td>92</td>\n",
       "      <td>8</td>\n",
       "    </tr>\n",
       "    <tr>\n",
       "      <th>housemaid</th>\n",
       "      <td>91</td>\n",
       "      <td>9</td>\n",
       "    </tr>\n",
       "    <tr>\n",
       "      <th>management</th>\n",
       "      <td>86</td>\n",
       "      <td>14</td>\n",
       "    </tr>\n",
       "    <tr>\n",
       "      <th>retired</th>\n",
       "      <td>77</td>\n",
       "      <td>23</td>\n",
       "    </tr>\n",
       "    <tr>\n",
       "      <th>self-employed</th>\n",
       "      <td>88</td>\n",
       "      <td>12</td>\n",
       "    </tr>\n",
       "    <tr>\n",
       "      <th>services</th>\n",
       "      <td>91</td>\n",
       "      <td>9</td>\n",
       "    </tr>\n",
       "    <tr>\n",
       "      <th>student</th>\n",
       "      <td>71</td>\n",
       "      <td>29</td>\n",
       "    </tr>\n",
       "    <tr>\n",
       "      <th>technician</th>\n",
       "      <td>89</td>\n",
       "      <td>11</td>\n",
       "    </tr>\n",
       "    <tr>\n",
       "      <th>unemployed</th>\n",
       "      <td>85</td>\n",
       "      <td>15</td>\n",
       "    </tr>\n",
       "    <tr>\n",
       "      <th>unknown</th>\n",
       "      <td>88</td>\n",
       "      <td>12</td>\n",
       "    </tr>\n",
       "  </tbody>\n",
       "</table>\n",
       "</div>"
      ],
      "text/plain": [
       "Term Deposit   no  yes\n",
       "job                   \n",
       "admin.         88   12\n",
       "blue-collar    93    7\n",
       "entrepreneur   92    8\n",
       "housemaid      91    9\n",
       "management     86   14\n",
       "retired        77   23\n",
       "self-employed  88   12\n",
       "services       91    9\n",
       "student        71   29\n",
       "technician     89   11\n",
       "unemployed     85   15\n",
       "unknown        88   12"
      ]
     },
     "execution_count": 70,
     "metadata": {},
     "output_type": "execute_result"
    }
   ],
   "source": [
    "crosstab_table_percentage = pd.crosstab(df['job'], df['Term Deposit'], normalize='index') * 100\n",
    "\n",
    "# Display the cross-tabulation with percentages\n",
    "print(\"Cross-Tabulation for Job and Term Deposit (in percentage):\")\n",
    "crosstab_table_percentage"
   ]
  },
  {
   "cell_type": "markdown",
   "id": "5bb2cf7d",
   "metadata": {
    "papermill": {
     "duration": 0.062522,
     "end_time": "2023-12-12T14:16:40.505299",
     "exception": false,
     "start_time": "2023-12-12T14:16:40.442777",
     "status": "completed"
    },
    "tags": []
   },
   "source": [
    "This confirms our findings that oldage people tends to take Term Deposit. After Retired, next Students, admin and Unemployed people tends to take Term Deposit. People less likely to take Term Deposit are services."
   ]
  },
  {
   "cell_type": "markdown",
   "id": "c416f973",
   "metadata": {
    "papermill": {
     "duration": 0.061379,
     "end_time": "2023-12-12T14:16:40.634375",
     "exception": false,
     "start_time": "2023-12-12T14:16:40.572996",
     "status": "completed"
    },
    "tags": []
   },
   "source": [
    "#### Marital vs Term Deposit"
   ]
  },
  {
   "cell_type": "code",
   "execution_count": 71,
   "id": "555e58b8",
   "metadata": {
    "execution": {
     "iopub.execute_input": "2023-12-12T14:16:40.764209Z",
     "iopub.status.busy": "2023-12-12T14:16:40.763445Z",
     "iopub.status.idle": "2023-12-12T14:16:40.801260Z",
     "shell.execute_reply": "2023-12-12T14:16:40.800138Z"
    },
    "papermill": {
     "duration": 0.107811,
     "end_time": "2023-12-12T14:16:40.804297",
     "exception": false,
     "start_time": "2023-12-12T14:16:40.696486",
     "status": "completed"
    },
    "tags": []
   },
   "outputs": [
    {
     "name": "stdout",
     "output_type": "stream",
     "text": [
      "Cross-Tabulation for Job and Term Deposit (in percentage):\n"
     ]
    },
    {
     "data": {
      "text/html": [
       "<div>\n",
       "<style scoped>\n",
       "    .dataframe tbody tr th:only-of-type {\n",
       "        vertical-align: middle;\n",
       "    }\n",
       "\n",
       "    .dataframe tbody tr th {\n",
       "        vertical-align: top;\n",
       "    }\n",
       "\n",
       "    .dataframe thead th {\n",
       "        text-align: right;\n",
       "    }\n",
       "</style>\n",
       "<table border=\"1\" class=\"dataframe\">\n",
       "  <thead>\n",
       "    <tr style=\"text-align: right;\">\n",
       "      <th>Term Deposit</th>\n",
       "      <th>no</th>\n",
       "      <th>yes</th>\n",
       "    </tr>\n",
       "    <tr>\n",
       "      <th>marital</th>\n",
       "      <th></th>\n",
       "      <th></th>\n",
       "    </tr>\n",
       "  </thead>\n",
       "  <tbody>\n",
       "    <tr>\n",
       "      <th>divorced</th>\n",
       "      <td>88</td>\n",
       "      <td>12</td>\n",
       "    </tr>\n",
       "    <tr>\n",
       "      <th>married</th>\n",
       "      <td>90</td>\n",
       "      <td>10</td>\n",
       "    </tr>\n",
       "    <tr>\n",
       "      <th>single</th>\n",
       "      <td>85</td>\n",
       "      <td>15</td>\n",
       "    </tr>\n",
       "  </tbody>\n",
       "</table>\n",
       "</div>"
      ],
      "text/plain": [
       "Term Deposit  no  yes\n",
       "marital              \n",
       "divorced      88   12\n",
       "married       90   10\n",
       "single        85   15"
      ]
     },
     "execution_count": 71,
     "metadata": {},
     "output_type": "execute_result"
    }
   ],
   "source": [
    "crosstab_table_percentage = pd.crosstab(df['marital'], df['Term Deposit'], normalize='index') * 100\n",
    "\n",
    "# Display the cross-tabulation with percentages\n",
    "print(\"Cross-Tabulation for Job and Term Deposit (in percentage):\")\n",
    "crosstab_table_percentage"
   ]
  },
  {
   "cell_type": "markdown",
   "id": "4656b5d9",
   "metadata": {
    "papermill": {
     "duration": 0.065422,
     "end_time": "2023-12-12T14:16:40.944748",
     "exception": false,
     "start_time": "2023-12-12T14:16:40.879326",
     "status": "completed"
    },
    "tags": []
   },
   "source": [
    "The single customers tend to take Term Deposit more likely"
   ]
  },
  {
   "cell_type": "markdown",
   "id": "4afddd0c",
   "metadata": {
    "papermill": {
     "duration": 0.062183,
     "end_time": "2023-12-12T14:16:41.071127",
     "exception": false,
     "start_time": "2023-12-12T14:16:41.008944",
     "status": "completed"
    },
    "tags": []
   },
   "source": [
    "### Education vs Term Deposit"
   ]
  },
  {
   "cell_type": "code",
   "execution_count": 72,
   "id": "fbd7b0f7",
   "metadata": {
    "execution": {
     "iopub.execute_input": "2023-12-12T14:16:41.200328Z",
     "iopub.status.busy": "2023-12-12T14:16:41.199205Z",
     "iopub.status.idle": "2023-12-12T14:16:41.238723Z",
     "shell.execute_reply": "2023-12-12T14:16:41.237933Z"
    },
    "papermill": {
     "duration": 0.106481,
     "end_time": "2023-12-12T14:16:41.240823",
     "exception": false,
     "start_time": "2023-12-12T14:16:41.134342",
     "status": "completed"
    },
    "tags": []
   },
   "outputs": [
    {
     "name": "stdout",
     "output_type": "stream",
     "text": [
      "Cross-Tabulation for Job and Term Deposit (in percentage):\n"
     ]
    },
    {
     "data": {
      "text/html": [
       "<div>\n",
       "<style scoped>\n",
       "    .dataframe tbody tr th:only-of-type {\n",
       "        vertical-align: middle;\n",
       "    }\n",
       "\n",
       "    .dataframe tbody tr th {\n",
       "        vertical-align: top;\n",
       "    }\n",
       "\n",
       "    .dataframe thead th {\n",
       "        text-align: right;\n",
       "    }\n",
       "</style>\n",
       "<table border=\"1\" class=\"dataframe\">\n",
       "  <thead>\n",
       "    <tr style=\"text-align: right;\">\n",
       "      <th>Term Deposit</th>\n",
       "      <th>no</th>\n",
       "      <th>yes</th>\n",
       "    </tr>\n",
       "    <tr>\n",
       "      <th>education</th>\n",
       "      <th></th>\n",
       "      <th></th>\n",
       "    </tr>\n",
       "  </thead>\n",
       "  <tbody>\n",
       "    <tr>\n",
       "      <th>primary</th>\n",
       "      <td>91</td>\n",
       "      <td>9</td>\n",
       "    </tr>\n",
       "    <tr>\n",
       "      <th>secondary</th>\n",
       "      <td>89</td>\n",
       "      <td>11</td>\n",
       "    </tr>\n",
       "    <tr>\n",
       "      <th>tertiary</th>\n",
       "      <td>85</td>\n",
       "      <td>15</td>\n",
       "    </tr>\n",
       "    <tr>\n",
       "      <th>unknown</th>\n",
       "      <td>86</td>\n",
       "      <td>14</td>\n",
       "    </tr>\n",
       "  </tbody>\n",
       "</table>\n",
       "</div>"
      ],
      "text/plain": [
       "Term Deposit  no  yes\n",
       "education            \n",
       "primary       91    9\n",
       "secondary     89   11\n",
       "tertiary      85   15\n",
       "unknown       86   14"
      ]
     },
     "execution_count": 72,
     "metadata": {},
     "output_type": "execute_result"
    }
   ],
   "source": [
    "crosstab_table_percentage = pd.crosstab(df['education'], df['Term Deposit'], normalize='index') * 100\n",
    "\n",
    "# Display the cross-tabulation with percentages\n",
    "print(\"Cross-Tabulation for Job and Term Deposit (in percentage):\")\n",
    "crosstab_table_percentage"
   ]
  },
  {
   "cell_type": "markdown",
   "id": "411bedcb",
   "metadata": {
    "papermill": {
     "duration": 0.062222,
     "end_time": "2023-12-12T14:16:41.365832",
     "exception": false,
     "start_time": "2023-12-12T14:16:41.303610",
     "status": "completed"
    },
    "tags": []
   },
   "source": [
    "sdgs"
   ]
  },
  {
   "cell_type": "markdown",
   "id": "41621c48",
   "metadata": {
    "papermill": {
     "duration": 0.062479,
     "end_time": "2023-12-12T14:16:41.490735",
     "exception": false,
     "start_time": "2023-12-12T14:16:41.428256",
     "status": "completed"
    },
    "tags": []
   },
   "source": [
    "### Gender vs Term Deposit"
   ]
  },
  {
   "cell_type": "markdown",
   "id": "6e7f1b0b",
   "metadata": {
    "papermill": {
     "duration": 0.062728,
     "end_time": "2023-12-12T14:16:41.616151",
     "exception": false,
     "start_time": "2023-12-12T14:16:41.553423",
     "status": "completed"
    },
    "tags": []
   },
   "source": [
    "Both male and female are likely have same percentage to take a term deposit"
   ]
  },
  {
   "cell_type": "code",
   "execution_count": 73,
   "id": "348187dc",
   "metadata": {
    "execution": {
     "iopub.execute_input": "2023-12-12T14:16:41.743100Z",
     "iopub.status.busy": "2023-12-12T14:16:41.742325Z",
     "iopub.status.idle": "2023-12-12T14:16:41.773702Z",
     "shell.execute_reply": "2023-12-12T14:16:41.772702Z"
    },
    "papermill": {
     "duration": 0.097785,
     "end_time": "2023-12-12T14:16:41.776180",
     "exception": false,
     "start_time": "2023-12-12T14:16:41.678395",
     "status": "completed"
    },
    "tags": []
   },
   "outputs": [
    {
     "name": "stdout",
     "output_type": "stream",
     "text": [
      "Cross-Tabulation for Job and Term Deposit (in percentage):\n"
     ]
    },
    {
     "data": {
      "text/html": [
       "<div>\n",
       "<style scoped>\n",
       "    .dataframe tbody tr th:only-of-type {\n",
       "        vertical-align: middle;\n",
       "    }\n",
       "\n",
       "    .dataframe tbody tr th {\n",
       "        vertical-align: top;\n",
       "    }\n",
       "\n",
       "    .dataframe thead th {\n",
       "        text-align: right;\n",
       "    }\n",
       "</style>\n",
       "<table border=\"1\" class=\"dataframe\">\n",
       "  <thead>\n",
       "    <tr style=\"text-align: right;\">\n",
       "      <th>Term Deposit</th>\n",
       "      <th>no</th>\n",
       "      <th>yes</th>\n",
       "    </tr>\n",
       "    <tr>\n",
       "      <th>Gender</th>\n",
       "      <th></th>\n",
       "      <th></th>\n",
       "    </tr>\n",
       "  </thead>\n",
       "  <tbody>\n",
       "    <tr>\n",
       "      <th>F</th>\n",
       "      <td>88</td>\n",
       "      <td>12</td>\n",
       "    </tr>\n",
       "    <tr>\n",
       "      <th>M</th>\n",
       "      <td>89</td>\n",
       "      <td>11</td>\n",
       "    </tr>\n",
       "  </tbody>\n",
       "</table>\n",
       "</div>"
      ],
      "text/plain": [
       "Term Deposit  no  yes\n",
       "Gender               \n",
       "F             88   12\n",
       "M             89   11"
      ]
     },
     "execution_count": 73,
     "metadata": {},
     "output_type": "execute_result"
    }
   ],
   "source": [
    "crosstab_table_percentage = pd.crosstab(df['Gender'], df['Term Deposit'], normalize='index') * 100\n",
    "\n",
    "# Display the cross-tabulation with percentages\n",
    "print(\"Cross-Tabulation for Job and Term Deposit (in percentage):\")\n",
    "crosstab_table_percentage"
   ]
  },
  {
   "cell_type": "markdown",
   "id": "8671a9f3",
   "metadata": {
    "papermill": {
     "duration": 0.063345,
     "end_time": "2023-12-12T14:16:41.902739",
     "exception": false,
     "start_time": "2023-12-12T14:16:41.839394",
     "status": "completed"
    },
    "tags": []
   },
   "source": [
    "#### Duration vs Term Deposit"
   ]
  },
  {
   "cell_type": "code",
   "execution_count": 74,
   "id": "1eda664e",
   "metadata": {
    "execution": {
     "iopub.execute_input": "2023-12-12T14:16:42.033599Z",
     "iopub.status.busy": "2023-12-12T14:16:42.032757Z",
     "iopub.status.idle": "2023-12-12T14:16:42.805154Z",
     "shell.execute_reply": "2023-12-12T14:16:42.803947Z"
    },
    "papermill": {
     "duration": 0.840217,
     "end_time": "2023-12-12T14:16:42.807852",
     "exception": false,
     "start_time": "2023-12-12T14:16:41.967635",
     "status": "completed"
    },
    "tags": []
   },
   "outputs": [
    {
     "data": {
      "image/png": "[encoded data removed]",
      "text/plain": [
       "<Figure size 640x480 with 1 Axes>"
      ]
     },
     "metadata": {},
     "output_type": "display_data"
    }
   ],
   "source": [
    "sns.kdeplot(x='duration', hue='Term Deposit', data=df, fill=True)\n",
    "plt.title('KDE Plot for call duration with Hue Term Deposit')\n",
    "plt.show()"
   ]
  },
  {
   "cell_type": "code",
   "execution_count": 75,
   "id": "4eaf6572",
   "metadata": {
    "execution": {
     "iopub.execute_input": "2023-12-12T14:16:42.938072Z",
     "iopub.status.busy": "2023-12-12T14:16:42.937394Z",
     "iopub.status.idle": "2023-12-12T14:16:42.959695Z",
     "shell.execute_reply": "2023-12-12T14:16:42.958580Z"
    },
    "papermill": {
     "duration": 0.091075,
     "end_time": "2023-12-12T14:16:42.962071",
     "exception": false,
     "start_time": "2023-12-12T14:16:42.870996",
     "status": "completed"
    },
    "tags": []
   },
   "outputs": [
    {
     "name": "stdout",
     "output_type": "stream",
     "text": [
      "Pivot Table:\n"
     ]
    },
    {
     "data": {
      "text/html": [
       "<div>\n",
       "<style scoped>\n",
       "    .dataframe tbody tr th:only-of-type {\n",
       "        vertical-align: middle;\n",
       "    }\n",
       "\n",
       "    .dataframe tbody tr th {\n",
       "        vertical-align: top;\n",
       "    }\n",
       "\n",
       "    .dataframe thead th {\n",
       "        text-align: right;\n",
       "    }\n",
       "</style>\n",
       "<table border=\"1\" class=\"dataframe\">\n",
       "  <thead>\n",
       "    <tr style=\"text-align: right;\">\n",
       "      <th></th>\n",
       "      <th>Term Deposit</th>\n",
       "      <th>duration</th>\n",
       "    </tr>\n",
       "  </thead>\n",
       "  <tbody>\n",
       "    <tr>\n",
       "      <th>0</th>\n",
       "      <td>no</td>\n",
       "      <td>164</td>\n",
       "    </tr>\n",
       "    <tr>\n",
       "      <th>1</th>\n",
       "      <td>yes</td>\n",
       "      <td>426</td>\n",
       "    </tr>\n",
       "  </tbody>\n",
       "</table>\n",
       "</div>"
      ],
      "text/plain": [
       "  Term Deposit  duration\n",
       "0           no       164\n",
       "1          yes       426"
      ]
     },
     "execution_count": 75,
     "metadata": {},
     "output_type": "execute_result"
    }
   ],
   "source": [
    "pivot_table = df.pivot_table(index='Term Deposit', values='duration', aggfunc='median').reset_index()\n",
    "\n",
    "# Display the pivot table\n",
    "print(\"Pivot Table:\")\n",
    "pivot_table"
   ]
  },
  {
   "cell_type": "markdown",
   "id": "8efe1f44",
   "metadata": {
    "papermill": {
     "duration": 0.064028,
     "end_time": "2023-12-12T14:16:43.091230",
     "exception": false,
     "start_time": "2023-12-12T14:16:43.027202",
     "status": "completed"
    },
    "tags": []
   },
   "source": [
    "When we call them and tend to convience them to take a term deposit.it tend to be true"
   ]
  },
  {
   "cell_type": "markdown",
   "id": "e9834629",
   "metadata": {
    "papermill": {
     "duration": 0.063291,
     "end_time": "2023-12-12T14:16:43.218632",
     "exception": false,
     "start_time": "2023-12-12T14:16:43.155341",
     "status": "completed"
    },
    "tags": []
   },
   "source": [
    "### Previous outcome vs Current outcome"
   ]
  },
  {
   "cell_type": "code",
   "execution_count": 76,
   "id": "975ada99",
   "metadata": {
    "execution": {
     "iopub.execute_input": "2023-12-12T14:16:43.348570Z",
     "iopub.status.busy": "2023-12-12T14:16:43.347932Z",
     "iopub.status.idle": "2023-12-12T14:16:43.379695Z",
     "shell.execute_reply": "2023-12-12T14:16:43.378605Z"
    },
    "papermill": {
     "duration": 0.099571,
     "end_time": "2023-12-12T14:16:43.382222",
     "exception": false,
     "start_time": "2023-12-12T14:16:43.282651",
     "status": "completed"
    },
    "tags": []
   },
   "outputs": [
    {
     "name": "stdout",
     "output_type": "stream",
     "text": [
      "Cross-Tabulation for Job and Term Deposit (in percentage):\n"
     ]
    },
    {
     "data": {
      "text/html": [
       "<div>\n",
       "<style scoped>\n",
       "    .dataframe tbody tr th:only-of-type {\n",
       "        vertical-align: middle;\n",
       "    }\n",
       "\n",
       "    .dataframe tbody tr th {\n",
       "        vertical-align: top;\n",
       "    }\n",
       "\n",
       "    .dataframe thead th {\n",
       "        text-align: right;\n",
       "    }\n",
       "</style>\n",
       "<table border=\"1\" class=\"dataframe\">\n",
       "  <thead>\n",
       "    <tr style=\"text-align: right;\">\n",
       "      <th>Term Deposit</th>\n",
       "      <th>no</th>\n",
       "      <th>yes</th>\n",
       "    </tr>\n",
       "    <tr>\n",
       "      <th>poutcome</th>\n",
       "      <th></th>\n",
       "      <th></th>\n",
       "    </tr>\n",
       "  </thead>\n",
       "  <tbody>\n",
       "    <tr>\n",
       "      <th>failure</th>\n",
       "      <td>87</td>\n",
       "      <td>13</td>\n",
       "    </tr>\n",
       "    <tr>\n",
       "      <th>other</th>\n",
       "      <td>83</td>\n",
       "      <td>17</td>\n",
       "    </tr>\n",
       "    <tr>\n",
       "      <th>success</th>\n",
       "      <td>35</td>\n",
       "      <td>65</td>\n",
       "    </tr>\n",
       "    <tr>\n",
       "      <th>unknown</th>\n",
       "      <td>91</td>\n",
       "      <td>9</td>\n",
       "    </tr>\n",
       "  </tbody>\n",
       "</table>\n",
       "</div>"
      ],
      "text/plain": [
       "Term Deposit  no  yes\n",
       "poutcome             \n",
       "failure       87   13\n",
       "other         83   17\n",
       "success       35   65\n",
       "unknown       91    9"
      ]
     },
     "execution_count": 76,
     "metadata": {},
     "output_type": "execute_result"
    }
   ],
   "source": [
    "crosstab_table_percentage = pd.crosstab(df['poutcome'], df['Term Deposit'], normalize='index') * 100\n",
    "\n",
    "# Display the cross-tabulation with percentages\n",
    "print(\"Cross-Tabulation for Job and Term Deposit (in percentage):\")\n",
    "crosstab_table_percentage"
   ]
  },
  {
   "cell_type": "markdown",
   "id": "2ddbe2f7",
   "metadata": {
    "papermill": {
     "duration": 0.063764,
     "end_time": "2023-12-12T14:16:43.509721",
     "exception": false,
     "start_time": "2023-12-12T14:16:43.445957",
     "status": "completed"
    },
    "tags": []
   },
   "source": [
    "inference...."
   ]
  },
  {
   "cell_type": "markdown",
   "id": "0587ab4c",
   "metadata": {
    "papermill": {
     "duration": 0.064534,
     "end_time": "2023-12-12T14:16:43.638474",
     "exception": false,
     "start_time": "2023-12-12T14:16:43.573940",
     "status": "completed"
    },
    "tags": []
   },
   "source": [
    "### Count_Txn vs Term Deposit"
   ]
  },
  {
   "cell_type": "code",
   "execution_count": 77,
   "id": "a2d2dbe4",
   "metadata": {
    "execution": {
     "iopub.execute_input": "2023-12-12T14:16:43.770559Z",
     "iopub.status.busy": "2023-12-12T14:16:43.769901Z",
     "iopub.status.idle": "2023-12-12T14:16:44.608813Z",
     "shell.execute_reply": "2023-12-12T14:16:44.607672Z"
    },
    "papermill": {
     "duration": 0.908818,
     "end_time": "2023-12-12T14:16:44.611585",
     "exception": false,
     "start_time": "2023-12-12T14:16:43.702767",
     "status": "completed"
    },
    "tags": []
   },
   "outputs": [
    {
     "data": {
      "image/png": "[encoded data removed]",
      "text/plain": [
       "<Figure size 640x480 with 1 Axes>"
      ]
     },
     "metadata": {},
     "output_type": "display_data"
    }
   ],
   "source": [
    "sns.kdeplot(x='Count_Txn', hue='Term Deposit', data=df, fill=True)\n",
    "plt.title('KDE Plot for call duration with Hue Term Deposit')\n",
    "plt.show()"
   ]
  },
  {
   "cell_type": "code",
   "execution_count": 78,
   "id": "77399cc4",
   "metadata": {
    "execution": {
     "iopub.execute_input": "2023-12-12T14:16:44.747405Z",
     "iopub.status.busy": "2023-12-12T14:16:44.746724Z",
     "iopub.status.idle": "2023-12-12T14:16:44.769504Z",
     "shell.execute_reply": "2023-12-12T14:16:44.768199Z"
    },
    "papermill": {
     "duration": 0.093518,
     "end_time": "2023-12-12T14:16:44.771740",
     "exception": false,
     "start_time": "2023-12-12T14:16:44.678222",
     "status": "completed"
    },
    "tags": []
   },
   "outputs": [
    {
     "name": "stdout",
     "output_type": "stream",
     "text": [
      "Pivot Table:\n"
     ]
    },
    {
     "data": {
      "text/html": [
       "<div>\n",
       "<style scoped>\n",
       "    .dataframe tbody tr th:only-of-type {\n",
       "        vertical-align: middle;\n",
       "    }\n",
       "\n",
       "    .dataframe tbody tr th {\n",
       "        vertical-align: top;\n",
       "    }\n",
       "\n",
       "    .dataframe thead th {\n",
       "        text-align: right;\n",
       "    }\n",
       "</style>\n",
       "<table border=\"1\" class=\"dataframe\">\n",
       "  <thead>\n",
       "    <tr style=\"text-align: right;\">\n",
       "      <th></th>\n",
       "      <th>Term Deposit</th>\n",
       "      <th>Count_Txn</th>\n",
       "    </tr>\n",
       "  </thead>\n",
       "  <tbody>\n",
       "    <tr>\n",
       "      <th>0</th>\n",
       "      <td>no</td>\n",
       "      <td>300</td>\n",
       "    </tr>\n",
       "    <tr>\n",
       "      <th>1</th>\n",
       "      <td>yes</td>\n",
       "      <td>298</td>\n",
       "    </tr>\n",
       "  </tbody>\n",
       "</table>\n",
       "</div>"
      ],
      "text/plain": [
       "  Term Deposit  Count_Txn\n",
       "0           no        300\n",
       "1          yes        298"
      ]
     },
     "execution_count": 78,
     "metadata": {},
     "output_type": "execute_result"
    }
   ],
   "source": [
    "pivot_table = df.pivot_table(index='Term Deposit', values='Count_Txn', aggfunc='median').reset_index()\n",
    "\n",
    "# Display the pivot table\n",
    "print(\"Pivot Table:\")\n",
    "pivot_table"
   ]
  },
  {
   "cell_type": "markdown",
   "id": "e2644a06",
   "metadata": {
    "papermill": {
     "duration": 0.065381,
     "end_time": "2023-12-12T14:16:44.902907",
     "exception": false,
     "start_time": "2023-12-12T14:16:44.837526",
     "status": "completed"
    },
    "tags": []
   },
   "source": [
    "The no of transaction doesnt have any effect on the term deposit marketing"
   ]
  },
  {
   "cell_type": "markdown",
   "id": "4baf168d",
   "metadata": {
    "papermill": {
     "duration": 0.06593,
     "end_time": "2023-12-12T14:16:45.035777",
     "exception": false,
     "start_time": "2023-12-12T14:16:44.969847",
     "status": "completed"
    },
    "tags": []
   },
   "source": [
    "# Analysis Questions"
   ]
  },
  {
   "cell_type": "markdown",
   "id": "56ea3e65",
   "metadata": {
    "papermill": {
     "duration": 0.065311,
     "end_time": "2023-12-12T14:16:45.167277",
     "exception": false,
     "start_time": "2023-12-12T14:16:45.101966",
     "status": "completed"
    },
    "tags": []
   },
   "source": [
    "## 1. Income Insights:\n",
    "#### How many customers have no annual income? Plot and present the data distribution of these customers.\n"
   ]
  },
  {
   "cell_type": "code",
   "execution_count": null,
   "id": "e548a5a6",
   "metadata": {
    "papermill": {
     "duration": 0.064748,
     "end_time": "2023-12-12T14:16:45.297962",
     "exception": false,
     "start_time": "2023-12-12T14:16:45.233214",
     "status": "completed"
    },
    "tags": []
   },
   "outputs": [],
   "source": []
  },
  {
   "cell_type": "markdown",
   "id": "3ac4b419",
   "metadata": {
    "papermill": {
     "duration": 0.064569,
     "end_time": "2023-12-12T14:16:45.427738",
     "exception": false,
     "start_time": "2023-12-12T14:16:45.363169",
     "status": "completed"
    },
    "tags": []
   },
   "source": [
    "## 2. Loan-less Customers Profile:\n",
    "#### Filter out customers who don’t have any type of loan. Plot the distribution of their Income, balance, and profession. How do these metrics differ from those with loans?"
   ]
  },
  {
   "cell_type": "code",
   "execution_count": null,
   "id": "734aee20",
   "metadata": {
    "papermill": {
     "duration": 0.071612,
     "end_time": "2023-12-12T14:16:45.583961",
     "exception": false,
     "start_time": "2023-12-12T14:16:45.512349",
     "status": "completed"
    },
    "tags": []
   },
   "outputs": [],
   "source": []
  },
  {
   "cell_type": "markdown",
   "id": "b5b9e63d",
   "metadata": {
    "papermill": {
     "duration": 0.06758,
     "end_time": "2023-12-12T14:16:45.719687",
     "exception": false,
     "start_time": "2023-12-12T14:16:45.652107",
     "status": "completed"
    },
    "tags": []
   },
   "source": [
    "## 4. Communication Strategy Insights:\n",
    "#### Analyse and summarize the best Contact method (with the highest success percentage) to contact people to ascertain the status of term deposit subscriptions.\n",
    "\n"
   ]
  },
  {
   "cell_type": "code",
   "execution_count": null,
   "id": "73fb3813",
   "metadata": {
    "papermill": {
     "duration": 0.073731,
     "end_time": "2023-12-12T14:16:45.860065",
     "exception": false,
     "start_time": "2023-12-12T14:16:45.786334",
     "status": "completed"
    },
    "tags": []
   },
   "outputs": [],
   "source": []
  },
  {
   "cell_type": "markdown",
   "id": "ff85a19c",
   "metadata": {
    "papermill": {
     "duration": 0.06658,
     "end_time": "2023-12-12T14:16:46.001311",
     "exception": false,
     "start_time": "2023-12-12T14:16:45.934731",
     "status": "completed"
    },
    "tags": []
   },
   "source": [
    "## 5. Age and Home Loans:\n",
    "#### Determine which age group has the highest percentage of home loans. Present this data visually and discuss possible reasons.\n"
   ]
  },
  {
   "cell_type": "code",
   "execution_count": null,
   "id": "738add2d",
   "metadata": {
    "papermill": {
     "duration": 0.066202,
     "end_time": "2023-12-12T14:16:46.133047",
     "exception": false,
     "start_time": "2023-12-12T14:16:46.066845",
     "status": "completed"
    },
    "tags": []
   },
   "outputs": [],
   "source": []
  },
  {
   "cell_type": "markdown",
   "id": "0d838752",
   "metadata": {
    "papermill": {
     "duration": 0.065056,
     "end_time": "2023-12-12T14:16:46.264288",
     "exception": false,
     "start_time": "2023-12-12T14:16:46.199232",
     "status": "completed"
    },
    "tags": []
   },
   "source": [
    "## 6. Income and Age Relationship:\n",
    "#### Investigate any relationships between annual income and age group. Use appropriate plots and statistics to present the findings."
   ]
  },
  {
   "cell_type": "code",
   "execution_count": null,
   "id": "6964aaff",
   "metadata": {
    "papermill": {
     "duration": 0.065271,
     "end_time": "2023-12-12T14:16:46.395356",
     "exception": false,
     "start_time": "2023-12-12T14:16:46.330085",
     "status": "completed"
    },
    "tags": []
   },
   "outputs": [],
   "source": []
  },
  {
   "cell_type": "markdown",
   "id": "ae4468da",
   "metadata": {
    "papermill": {
     "duration": 0.065099,
     "end_time": "2023-12-12T14:16:46.525496",
     "exception": false,
     "start_time": "2023-12-12T14:16:46.460397",
     "status": "completed"
    },
    "tags": []
   },
   "source": [
    "# Feature Engineering"
   ]
  },
  {
   "cell_type": "code",
   "execution_count": null,
   "id": "7c2df1a1",
   "metadata": {
    "papermill": {
     "duration": 0.067096,
     "end_time": "2023-12-12T14:16:46.657529",
     "exception": false,
     "start_time": "2023-12-12T14:16:46.590433",
     "status": "completed"
    },
    "tags": []
   },
   "outputs": [],
   "source": []
  },
  {
   "cell_type": "markdown",
   "id": "b28d3387",
   "metadata": {
    "papermill": {
     "duration": 0.065037,
     "end_time": "2023-12-12T14:16:46.787317",
     "exception": false,
     "start_time": "2023-12-12T14:16:46.722280",
     "status": "completed"
    },
    "tags": []
   },
   "source": [
    "# Predictive Model Building:\n",
    "Train a prediction model of your choice to estimate the probability that a customer will opt for a term deposit. Adhere to an 80:20 train:test split. Report and present the model's performance metrics on both the train and test datasets.\n"
   ]
  },
  {
   "cell_type": "code",
   "execution_count": 79,
   "id": "794ee07d",
   "metadata": {
    "execution": {
     "iopub.execute_input": "2023-12-12T14:16:46.919510Z",
     "iopub.status.busy": "2023-12-12T14:16:46.919132Z",
     "iopub.status.idle": "2023-12-12T14:16:46.982721Z",
     "shell.execute_reply": "2023-12-12T14:16:46.981608Z"
    },
    "papermill": {
     "duration": 0.132998,
     "end_time": "2023-12-12T14:16:46.985271",
     "exception": false,
     "start_time": "2023-12-12T14:16:46.852273",
     "status": "completed"
    },
    "tags": []
   },
   "outputs": [
    {
     "data": {
      "text/plain": [
       "Insurance            0\n",
       "balance              0\n",
       "housing              0\n",
       "loan                 8\n",
       "contact              0\n",
       "duration             0\n",
       "campaign             0\n",
       "last_contact_day     0\n",
       "previous             0\n",
       "poutcome             0\n",
       "Term Deposit         0\n",
       "Count_Txn            0\n",
       "age                  0\n",
       "job                 13\n",
       "marital             18\n",
       "education           21\n",
       "Annual Income        0\n",
       "Gender               0\n",
       "dtype: int64"
      ]
     },
     "execution_count": 79,
     "metadata": {},
     "output_type": "execute_result"
    }
   ],
   "source": [
    "df.isnull().sum()"
   ]
  },
  {
   "cell_type": "code",
   "execution_count": 80,
   "id": "53dfcb9b",
   "metadata": {
    "execution": {
     "iopub.execute_input": "2023-12-12T14:16:47.118397Z",
     "iopub.status.busy": "2023-12-12T14:16:47.118003Z",
     "iopub.status.idle": "2023-12-12T14:16:47.124482Z",
     "shell.execute_reply": "2023-12-12T14:16:47.123361Z"
    },
    "papermill": {
     "duration": 0.076123,
     "end_time": "2023-12-12T14:16:47.126782",
     "exception": false,
     "start_time": "2023-12-12T14:16:47.050659",
     "status": "completed"
    },
    "tags": []
   },
   "outputs": [],
   "source": [
    "num_feat=[x for x in df.columns if df[x].dtype!='O']\n",
    "cat_feat=[x for x in df.columns if df[x].dtype=='O']"
   ]
  },
  {
   "cell_type": "code",
   "execution_count": 81,
   "id": "71a75478",
   "metadata": {
    "execution": {
     "iopub.execute_input": "2023-12-12T14:16:47.259903Z",
     "iopub.status.busy": "2023-12-12T14:16:47.259487Z",
     "iopub.status.idle": "2023-12-12T14:16:47.809014Z",
     "shell.execute_reply": "2023-12-12T14:16:47.807827Z"
    },
    "papermill": {
     "duration": 0.618929,
     "end_time": "2023-12-12T14:16:47.811719",
     "exception": false,
     "start_time": "2023-12-12T14:16:47.192790",
     "status": "completed"
    },
    "tags": []
   },
   "outputs": [],
   "source": [
    "from sklearn.impute import SimpleImputer\n",
    "imputer=SimpleImputer(strategy='most_frequent')\n",
    "df[cat_feat]=imputer.fit_transform(df[cat_feat])"
   ]
  },
  {
   "cell_type": "code",
   "execution_count": 82,
   "id": "6fca76c7",
   "metadata": {
    "execution": {
     "iopub.execute_input": "2023-12-12T14:16:47.945677Z",
     "iopub.status.busy": "2023-12-12T14:16:47.945276Z",
     "iopub.status.idle": "2023-12-12T14:16:48.129170Z",
     "shell.execute_reply": "2023-12-12T14:16:48.128108Z"
    },
    "papermill": {
     "duration": 0.25471,
     "end_time": "2023-12-12T14:16:48.131876",
     "exception": false,
     "start_time": "2023-12-12T14:16:47.877166",
     "status": "completed"
    },
    "tags": []
   },
   "outputs": [],
   "source": [
    "onehot=[x for x in cat_feat if len(df[x].value_counts())<=3 and x!='Default']\n",
    "freqenc=[x for x in cat_feat if len(df[x].value_counts())>3 ]"
   ]
  },
  {
   "cell_type": "code",
   "execution_count": 83,
   "id": "9a5f6681",
   "metadata": {
    "execution": {
     "iopub.execute_input": "2023-12-12T14:16:48.265438Z",
     "iopub.status.busy": "2023-12-12T14:16:48.265047Z",
     "iopub.status.idle": "2023-12-12T14:16:48.270689Z",
     "shell.execute_reply": "2023-12-12T14:16:48.269417Z"
    },
    "papermill": {
     "duration": 0.075197,
     "end_time": "2023-12-12T14:16:48.273197",
     "exception": false,
     "start_time": "2023-12-12T14:16:48.198000",
     "status": "completed"
    },
    "tags": []
   },
   "outputs": [
    {
     "name": "stdout",
     "output_type": "stream",
     "text": [
      "['Insurance', 'housing', 'loan', 'contact', 'Term Deposit', 'marital', 'Gender']\n"
     ]
    }
   ],
   "source": [
    "print(onehot)"
   ]
  },
  {
   "cell_type": "code",
   "execution_count": 84,
   "id": "7d4c6035",
   "metadata": {
    "execution": {
     "iopub.execute_input": "2023-12-12T14:16:48.471767Z",
     "iopub.status.busy": "2023-12-12T14:16:48.471366Z",
     "iopub.status.idle": "2023-12-12T14:16:48.476664Z",
     "shell.execute_reply": "2023-12-12T14:16:48.475497Z"
    },
    "papermill": {
     "duration": 0.074612,
     "end_time": "2023-12-12T14:16:48.479176",
     "exception": false,
     "start_time": "2023-12-12T14:16:48.404564",
     "status": "completed"
    },
    "tags": []
   },
   "outputs": [
    {
     "name": "stdout",
     "output_type": "stream",
     "text": [
      "['poutcome', 'job', 'education', 'Annual Income']\n"
     ]
    }
   ],
   "source": [
    "print(freqenc)"
   ]
  },
  {
   "cell_type": "code",
   "execution_count": 85,
   "id": "bef24aac",
   "metadata": {
    "execution": {
     "iopub.execute_input": "2023-12-12T14:16:48.611865Z",
     "iopub.status.busy": "2023-12-12T14:16:48.611435Z",
     "iopub.status.idle": "2023-12-12T14:16:48.759653Z",
     "shell.execute_reply": "2023-12-12T14:16:48.758451Z"
    },
    "papermill": {
     "duration": 0.21791,
     "end_time": "2023-12-12T14:16:48.762458",
     "exception": false,
     "start_time": "2023-12-12T14:16:48.544548",
     "status": "completed"
    },
    "tags": []
   },
   "outputs": [],
   "source": [
    "for i in range(len(onehot)):\n",
    "    # Perform one-hot encoding with custom column names\n",
    "    temp = pd.get_dummies(df[onehot[i]], drop_first=True, prefix=onehot[i], prefix_sep='_').astype(int)\n",
    "    df = df.drop(onehot[i], axis=\"columns\")\n",
    "    df = pd.concat([df, temp], axis='columns')"
   ]
  },
  {
   "cell_type": "code",
   "execution_count": 86,
   "id": "8cc1dc56",
   "metadata": {
    "execution": {
     "iopub.execute_input": "2023-12-12T14:16:48.896725Z",
     "iopub.status.busy": "2023-12-12T14:16:48.895662Z",
     "iopub.status.idle": "2023-12-12T14:16:48.903121Z",
     "shell.execute_reply": "2023-12-12T14:16:48.902197Z"
    },
    "papermill": {
     "duration": 0.076676,
     "end_time": "2023-12-12T14:16:48.905549",
     "exception": false,
     "start_time": "2023-12-12T14:16:48.828873",
     "status": "completed"
    },
    "tags": []
   },
   "outputs": [
    {
     "data": {
      "text/plain": [
       "Index(['balance', 'duration', 'campaign', 'last_contact_day', 'previous',\n",
       "       'poutcome', 'Count_Txn', 'age', 'job', 'education', 'Annual Income',\n",
       "       'Insurance_yes', 'housing_yes', 'loan_yes', 'contact_telephone',\n",
       "       'contact_unknown', 'Term Deposit_yes', 'marital_married',\n",
       "       'marital_single', 'Gender_M'],\n",
       "      dtype='object')"
      ]
     },
     "execution_count": 86,
     "metadata": {},
     "output_type": "execute_result"
    }
   ],
   "source": [
    "df.columns"
   ]
  },
  {
   "cell_type": "code",
   "execution_count": 87,
   "id": "c0355dc8",
   "metadata": {
    "execution": {
     "iopub.execute_input": "2023-12-12T14:16:49.040721Z",
     "iopub.status.busy": "2023-12-12T14:16:49.039733Z",
     "iopub.status.idle": "2023-12-12T14:16:49.045323Z",
     "shell.execute_reply": "2023-12-12T14:16:49.044536Z"
    },
    "papermill": {
     "duration": 0.074612,
     "end_time": "2023-12-12T14:16:49.047450",
     "exception": false,
     "start_time": "2023-12-12T14:16:48.972838",
     "status": "completed"
    },
    "tags": []
   },
   "outputs": [],
   "source": [
    "def frequency_encoding(column):\n",
    "    freq = column.value_counts(normalize=True)\n",
    "    encoded_column = column.map(freq)\n",
    "    return encoded_column"
   ]
  },
  {
   "cell_type": "code",
   "execution_count": 88,
   "id": "7f29bcf2",
   "metadata": {
    "execution": {
     "iopub.execute_input": "2023-12-12T14:16:49.181854Z",
     "iopub.status.busy": "2023-12-12T14:16:49.180686Z",
     "iopub.status.idle": "2023-12-12T14:16:49.260257Z",
     "shell.execute_reply": "2023-12-12T14:16:49.259264Z"
    },
    "papermill": {
     "duration": 0.149725,
     "end_time": "2023-12-12T14:16:49.262860",
     "exception": false,
     "start_time": "2023-12-12T14:16:49.113135",
     "status": "completed"
    },
    "tags": []
   },
   "outputs": [],
   "source": [
    "for i in range(len(freqenc)):\n",
    "    df[freqenc[i]]=frequency_encoding(df[freqenc[i]])"
   ]
  },
  {
   "cell_type": "code",
   "execution_count": 89,
   "id": "5767617b",
   "metadata": {
    "execution": {
     "iopub.execute_input": "2023-12-12T14:16:49.398019Z",
     "iopub.status.busy": "2023-12-12T14:16:49.396989Z",
     "iopub.status.idle": "2023-12-12T14:16:49.415085Z",
     "shell.execute_reply": "2023-12-12T14:16:49.414100Z"
    },
    "papermill": {
     "duration": 0.088215,
     "end_time": "2023-12-12T14:16:49.417708",
     "exception": false,
     "start_time": "2023-12-12T14:16:49.329493",
     "status": "completed"
    },
    "tags": []
   },
   "outputs": [],
   "source": [
    "from sklearn.preprocessing import StandardScaler\n",
    "ss=StandardScaler()\n",
    "df[num_feat]=ss.fit_transform(df[num_feat])"
   ]
  },
  {
   "cell_type": "code",
   "execution_count": 90,
   "id": "d0e823e7",
   "metadata": {
    "execution": {
     "iopub.execute_input": "2023-12-12T14:16:49.551362Z",
     "iopub.status.busy": "2023-12-12T14:16:49.550964Z",
     "iopub.status.idle": "2023-12-12T14:16:49.557456Z",
     "shell.execute_reply": "2023-12-12T14:16:49.556438Z"
    },
    "papermill": {
     "duration": 0.076391,
     "end_time": "2023-12-12T14:16:49.560282",
     "exception": false,
     "start_time": "2023-12-12T14:16:49.483891",
     "status": "completed"
    },
    "tags": []
   },
   "outputs": [
    {
     "data": {
      "text/plain": [
       "Index(['balance', 'duration', 'campaign', 'last_contact_day', 'previous',\n",
       "       'poutcome', 'Count_Txn', 'age', 'job', 'education', 'Annual Income',\n",
       "       'Insurance_yes', 'housing_yes', 'loan_yes', 'contact_telephone',\n",
       "       'contact_unknown', 'Term Deposit_yes', 'marital_married',\n",
       "       'marital_single', 'Gender_M'],\n",
       "      dtype='object')"
      ]
     },
     "execution_count": 90,
     "metadata": {},
     "output_type": "execute_result"
    }
   ],
   "source": [
    "df.columns"
   ]
  },
  {
   "cell_type": "code",
   "execution_count": 91,
   "id": "f9c141da",
   "metadata": {
    "execution": {
     "iopub.execute_input": "2023-12-12T14:16:49.693790Z",
     "iopub.status.busy": "2023-12-12T14:16:49.693396Z",
     "iopub.status.idle": "2023-12-12T14:16:50.986077Z",
     "shell.execute_reply": "2023-12-12T14:16:50.984984Z"
    },
    "papermill": {
     "duration": 1.362989,
     "end_time": "2023-12-12T14:16:50.988914",
     "exception": false,
     "start_time": "2023-12-12T14:16:49.625925",
     "status": "completed"
    },
    "tags": []
   },
   "outputs": [],
   "source": [
    "# saving the file for future purpose\n",
    "df.to_csv('preprocesseddata.csv', index=False)"
   ]
  },
  {
   "cell_type": "code",
   "execution_count": 92,
   "id": "575ce638",
   "metadata": {
    "execution": {
     "iopub.execute_input": "2023-12-12T14:16:51.123750Z",
     "iopub.status.busy": "2023-12-12T14:16:51.123335Z",
     "iopub.status.idle": "2023-12-12T14:16:51.133172Z",
     "shell.execute_reply": "2023-12-12T14:16:51.132104Z"
    },
    "papermill": {
     "duration": 0.080044,
     "end_time": "2023-12-12T14:16:51.135401",
     "exception": false,
     "start_time": "2023-12-12T14:16:51.055357",
     "status": "completed"
    },
    "tags": []
   },
   "outputs": [],
   "source": [
    "y=df['Term Deposit_yes']\n",
    "X=df.drop(['Term Deposit_yes'],axis=1)"
   ]
  },
  {
   "cell_type": "code",
   "execution_count": 93,
   "id": "cd944733",
   "metadata": {
    "execution": {
     "iopub.execute_input": "2023-12-12T14:16:51.270599Z",
     "iopub.status.busy": "2023-12-12T14:16:51.270212Z",
     "iopub.status.idle": "2023-12-12T14:16:56.871318Z",
     "shell.execute_reply": "2023-12-12T14:16:56.870272Z"
    },
    "papermill": {
     "duration": 5.672078,
     "end_time": "2023-12-12T14:16:56.874250",
     "exception": false,
     "start_time": "2023-12-12T14:16:51.202172",
     "status": "completed"
    },
    "tags": []
   },
   "outputs": [
    {
     "data": {
      "text/html": [
       "<style>#sk-container-id-1 {color: black;background-color: white;}#sk-container-id-1 pre{padding: 0;}#sk-container-id-1 div.sk-toggleable {background-color: white;}#sk-container-id-1 label.sk-toggleable__label {cursor: pointer;display: block;width: 100%;margin-bottom: 0;padding: 0.3em;box-sizing: border-box;text-align: center;}#sk-container-id-1 label.sk-toggleable__label-arrow:before {content: \"▸\";float: left;margin-right: 0.25em;color: #696969;}#sk-container-id-1 label.sk-toggleable__label-arrow:hover:before {color: black;}#sk-container-id-1 div.sk-estimator:hover label.sk-toggleable__label-arrow:before {color: black;}#sk-container-id-1 div.sk-toggleable__content {max-height: 0;max-width: 0;overflow: hidden;text-align: left;background-color: #f0f8ff;}#sk-container-id-1 div.sk-toggleable__content pre {margin: 0.2em;color: black;border-radius: 0.25em;background-color: #f0f8ff;}#sk-container-id-1 input.sk-toggleable__control:checked~div.sk-toggleable__content {max-height: 200px;max-width: 100%;overflow: auto;}#sk-container-id-1 input.sk-toggleable__control:checked~label.sk-toggleable__label-arrow:before {content: \"▾\";}#sk-container-id-1 div.sk-estimator input.sk-toggleable__control:checked~label.sk-toggleable__label {background-color: #d4ebff;}#sk-container-id-1 div.sk-label input.sk-toggleable__control:checked~label.sk-toggleable__label {background-color: #d4ebff;}#sk-container-id-1 input.sk-hidden--visually {border: 0;clip: rect(1px 1px 1px 1px);clip: rect(1px, 1px, 1px, 1px);height: 1px;margin: -1px;overflow: hidden;padding: 0;position: absolute;width: 1px;}#sk-container-id-1 div.sk-estimator {font-family: monospace;background-color: #f0f8ff;border: 1px dotted black;border-radius: 0.25em;box-sizing: border-box;margin-bottom: 0.5em;}#sk-container-id-1 div.sk-estimator:hover {background-color: #d4ebff;}#sk-container-id-1 div.sk-parallel-item::after {content: \"\";width: 100%;border-bottom: 1px solid gray;flex-grow: 1;}#sk-container-id-1 div.sk-label:hover label.sk-toggleable__label {background-color: #d4ebff;}#sk-container-id-1 div.sk-serial::before {content: \"\";position: absolute;border-left: 1px solid gray;box-sizing: border-box;top: 0;bottom: 0;left: 50%;z-index: 0;}#sk-container-id-1 div.sk-serial {display: flex;flex-direction: column;align-items: center;background-color: white;padding-right: 0.2em;padding-left: 0.2em;position: relative;}#sk-container-id-1 div.sk-item {position: relative;z-index: 1;}#sk-container-id-1 div.sk-parallel {display: flex;align-items: stretch;justify-content: center;background-color: white;position: relative;}#sk-container-id-1 div.sk-item::before, #sk-container-id-1 div.sk-parallel-item::before {content: \"\";position: absolute;border-left: 1px solid gray;box-sizing: border-box;top: 0;bottom: 0;left: 50%;z-index: -1;}#sk-container-id-1 div.sk-parallel-item {display: flex;flex-direction: column;z-index: 1;position: relative;background-color: white;}#sk-container-id-1 div.sk-parallel-item:first-child::after {align-self: flex-end;width: 50%;}#sk-container-id-1 div.sk-parallel-item:last-child::after {align-self: flex-start;width: 50%;}#sk-container-id-1 div.sk-parallel-item:only-child::after {width: 0;}#sk-container-id-1 div.sk-dashed-wrapped {border: 1px dashed gray;margin: 0 0.4em 0.5em 0.4em;box-sizing: border-box;padding-bottom: 0.4em;background-color: white;}#sk-container-id-1 div.sk-label label {font-family: monospace;font-weight: bold;display: inline-block;line-height: 1.2em;}#sk-container-id-1 div.sk-label-container {text-align: center;}#sk-container-id-1 div.sk-container {/* jupyter's `normalize.less` sets `[hidden] { display: none; }` but bootstrap.min.css set `[hidden] { display: none !important; }` so we also need the `!important` here to be able to override the default hidden behavior on the sphinx rendered scikit-learn.org. See: https://github.com/scikit-learn/scikit-learn/issues/21755 */display: inline-block !important;position: relative;}#sk-container-id-1 div.sk-text-repr-fallback {display: none;}</style><div id=\"sk-container-id-1\" class=\"sk-top-container\"><div class=\"sk-text-repr-fallback\"><pre>ExtraTreesClassifier()</pre><b>In a Jupyter environment, please rerun this cell to show the HTML representation or trust the notebook. <br />On GitHub, the HTML representation is unable to render, please try loading this page with nbviewer.org.</b></div><div class=\"sk-container\" hidden><div class=\"sk-item\"><div class=\"sk-estimator sk-toggleable\"><input class=\"sk-toggleable__control sk-hidden--visually\" id=\"sk-estimator-id-1\" type=\"checkbox\" checked><label for=\"sk-estimator-id-1\" class=\"sk-toggleable__label sk-toggleable__label-arrow\">ExtraTreesClassifier</label><div class=\"sk-toggleable__content\"><pre>ExtraTreesClassifier()</pre></div></div></div></div></div>"
      ],
      "text/plain": [
       "ExtraTreesClassifier()"
      ]
     },
     "execution_count": 93,
     "metadata": {},
     "output_type": "execute_result"
    }
   ],
   "source": [
    "from sklearn.ensemble import ExtraTreesClassifier\n",
    "model=ExtraTreesClassifier()\n",
    "model.fit(X,y)"
   ]
  },
  {
   "cell_type": "code",
   "execution_count": 94,
   "id": "050de8c5",
   "metadata": {
    "execution": {
     "iopub.execute_input": "2023-12-12T14:16:57.010496Z",
     "iopub.status.busy": "2023-12-12T14:16:57.010062Z",
     "iopub.status.idle": "2023-12-12T14:16:57.058525Z",
     "shell.execute_reply": "2023-12-12T14:16:57.056793Z"
    },
    "papermill": {
     "duration": 0.119556,
     "end_time": "2023-12-12T14:16:57.060835",
     "exception": false,
     "start_time": "2023-12-12T14:16:56.941279",
     "status": "completed"
    },
    "tags": []
   },
   "outputs": [
    {
     "name": "stdout",
     "output_type": "stream",
     "text": [
      "[0.1129594  0.26513038 0.06626762 0.0364695  0.02193651 0.07205138\n",
      " 0.1090625  0.11438674 0.06109159 0.03324748 0.00339818 0.00278739\n",
      " 0.02621395 0.01043579 0.00864792 0.01672057 0.00949007 0.00763318\n",
      " 0.02206986]\n"
     ]
    }
   ],
   "source": [
    "print(model.feature_importances_)"
   ]
  },
  {
   "cell_type": "code",
   "execution_count": 95,
   "id": "167b3f83",
   "metadata": {
    "execution": {
     "iopub.execute_input": "2023-12-12T14:16:57.196844Z",
     "iopub.status.busy": "2023-12-12T14:16:57.196421Z",
     "iopub.status.idle": "2023-12-12T14:16:57.524906Z",
     "shell.execute_reply": "2023-12-12T14:16:57.523638Z"
    },
    "papermill": {
     "duration": 0.400119,
     "end_time": "2023-12-12T14:16:57.527469",
     "exception": false,
     "start_time": "2023-12-12T14:16:57.127350",
     "status": "completed"
    },
    "tags": []
   },
   "outputs": [
    {
     "data": {
      "image/png": "[encoded data removed]",
      "text/plain": [
       "<Figure size 640x480 with 1 Axes>"
      ]
     },
     "metadata": {},
     "output_type": "display_data"
    }
   ],
   "source": [
    "#plot important features\n",
    "feat_imps=pd.Series(model.feature_importances_,index=X.columns)\n",
    "feat_imps.nlargest(7).plot(kind='barh')\n",
    "plt.show()"
   ]
  },
  {
   "cell_type": "code",
   "execution_count": 96,
   "id": "82be73ef",
   "metadata": {
    "execution": {
     "iopub.execute_input": "2023-12-12T14:16:57.663465Z",
     "iopub.status.busy": "2023-12-12T14:16:57.663039Z",
     "iopub.status.idle": "2023-12-12T14:16:57.683504Z",
     "shell.execute_reply": "2023-12-12T14:16:57.682380Z"
    },
    "papermill": {
     "duration": 0.091956,
     "end_time": "2023-12-12T14:16:57.686288",
     "exception": false,
     "start_time": "2023-12-12T14:16:57.594332",
     "status": "completed"
    },
    "tags": []
   },
   "outputs": [],
   "source": [
    "from sklearn.model_selection import train_test_split\n",
    "X_train,X_test,y_train,y_test=train_test_split(X,y,train_size=0.8,random_state=7)"
   ]
  },
  {
   "cell_type": "code",
   "execution_count": 97,
   "id": "d7d12b74",
   "metadata": {
    "execution": {
     "iopub.execute_input": "2023-12-12T14:16:57.824494Z",
     "iopub.status.busy": "2023-12-12T14:16:57.823788Z",
     "iopub.status.idle": "2023-12-12T14:17:06.612409Z",
     "shell.execute_reply": "2023-12-12T14:17:06.611329Z"
    },
    "papermill": {
     "duration": 8.86073,
     "end_time": "2023-12-12T14:17:06.615012",
     "exception": false,
     "start_time": "2023-12-12T14:16:57.754282",
     "status": "completed"
    },
    "tags": []
   },
   "outputs": [
    {
     "data": {
      "text/html": [
       "<style>#sk-container-id-2 {color: black;background-color: white;}#sk-container-id-2 pre{padding: 0;}#sk-container-id-2 div.sk-toggleable {background-color: white;}#sk-container-id-2 label.sk-toggleable__label {cursor: pointer;display: block;width: 100%;margin-bottom: 0;padding: 0.3em;box-sizing: border-box;text-align: center;}#sk-container-id-2 label.sk-toggleable__label-arrow:before {content: \"▸\";float: left;margin-right: 0.25em;color: #696969;}#sk-container-id-2 label.sk-toggleable__label-arrow:hover:before {color: black;}#sk-container-id-2 div.sk-estimator:hover label.sk-toggleable__label-arrow:before {color: black;}#sk-container-id-2 div.sk-toggleable__content {max-height: 0;max-width: 0;overflow: hidden;text-align: left;background-color: #f0f8ff;}#sk-container-id-2 div.sk-toggleable__content pre {margin: 0.2em;color: black;border-radius: 0.25em;background-color: #f0f8ff;}#sk-container-id-2 input.sk-toggleable__control:checked~div.sk-toggleable__content {max-height: 200px;max-width: 100%;overflow: auto;}#sk-container-id-2 input.sk-toggleable__control:checked~label.sk-toggleable__label-arrow:before {content: \"▾\";}#sk-container-id-2 div.sk-estimator input.sk-toggleable__control:checked~label.sk-toggleable__label {background-color: #d4ebff;}#sk-container-id-2 div.sk-label input.sk-toggleable__control:checked~label.sk-toggleable__label {background-color: #d4ebff;}#sk-container-id-2 input.sk-hidden--visually {border: 0;clip: rect(1px 1px 1px 1px);clip: rect(1px, 1px, 1px, 1px);height: 1px;margin: -1px;overflow: hidden;padding: 0;position: absolute;width: 1px;}#sk-container-id-2 div.sk-estimator {font-family: monospace;background-color: #f0f8ff;border: 1px dotted black;border-radius: 0.25em;box-sizing: border-box;margin-bottom: 0.5em;}#sk-container-id-2 div.sk-estimator:hover {background-color: #d4ebff;}#sk-container-id-2 div.sk-parallel-item::after {content: \"\";width: 100%;border-bottom: 1px solid gray;flex-grow: 1;}#sk-container-id-2 div.sk-label:hover label.sk-toggleable__label {background-color: #d4ebff;}#sk-container-id-2 div.sk-serial::before {content: \"\";position: absolute;border-left: 1px solid gray;box-sizing: border-box;top: 0;bottom: 0;left: 50%;z-index: 0;}#sk-container-id-2 div.sk-serial {display: flex;flex-direction: column;align-items: center;background-color: white;padding-right: 0.2em;padding-left: 0.2em;position: relative;}#sk-container-id-2 div.sk-item {position: relative;z-index: 1;}#sk-container-id-2 div.sk-parallel {display: flex;align-items: stretch;justify-content: center;background-color: white;position: relative;}#sk-container-id-2 div.sk-item::before, #sk-container-id-2 div.sk-parallel-item::before {content: \"\";position: absolute;border-left: 1px solid gray;box-sizing: border-box;top: 0;bottom: 0;left: 50%;z-index: -1;}#sk-container-id-2 div.sk-parallel-item {display: flex;flex-direction: column;z-index: 1;position: relative;background-color: white;}#sk-container-id-2 div.sk-parallel-item:first-child::after {align-self: flex-end;width: 50%;}#sk-container-id-2 div.sk-parallel-item:last-child::after {align-self: flex-start;width: 50%;}#sk-container-id-2 div.sk-parallel-item:only-child::after {width: 0;}#sk-container-id-2 div.sk-dashed-wrapped {border: 1px dashed gray;margin: 0 0.4em 0.5em 0.4em;box-sizing: border-box;padding-bottom: 0.4em;background-color: white;}#sk-container-id-2 div.sk-label label {font-family: monospace;font-weight: bold;display: inline-block;line-height: 1.2em;}#sk-container-id-2 div.sk-label-container {text-align: center;}#sk-container-id-2 div.sk-container {/* jupyter's `normalize.less` sets `[hidden] { display: none; }` but bootstrap.min.css set `[hidden] { display: none !important; }` so we also need the `!important` here to be able to override the default hidden behavior on the sphinx rendered scikit-learn.org. See: https://github.com/scikit-learn/scikit-learn/issues/21755 */display: inline-block !important;position: relative;}#sk-container-id-2 div.sk-text-repr-fallback {display: none;}</style><div id=\"sk-container-id-2\" class=\"sk-top-container\"><div class=\"sk-text-repr-fallback\"><pre>RandomForestClassifier(n_estimators=150)</pre><b>In a Jupyter environment, please rerun this cell to show the HTML representation or trust the notebook. <br />On GitHub, the HTML representation is unable to render, please try loading this page with nbviewer.org.</b></div><div class=\"sk-container\" hidden><div class=\"sk-item\"><div class=\"sk-estimator sk-toggleable\"><input class=\"sk-toggleable__control sk-hidden--visually\" id=\"sk-estimator-id-2\" type=\"checkbox\" checked><label for=\"sk-estimator-id-2\" class=\"sk-toggleable__label sk-toggleable__label-arrow\">RandomForestClassifier</label><div class=\"sk-toggleable__content\"><pre>RandomForestClassifier(n_estimators=150)</pre></div></div></div></div></div>"
      ],
      "text/plain": [
       "RandomForestClassifier(n_estimators=150)"
      ]
     },
     "execution_count": 97,
     "metadata": {},
     "output_type": "execute_result"
    }
   ],
   "source": [
    "from sklearn.ensemble import RandomForestClassifier\n",
    "rf = RandomForestClassifier(n_estimators=150)\n",
    "rf.fit(X_train, y_train)"
   ]
  },
  {
   "cell_type": "code",
   "execution_count": 98,
   "id": "ad8c823b",
   "metadata": {
    "execution": {
     "iopub.execute_input": "2023-12-12T14:17:06.752645Z",
     "iopub.status.busy": "2023-12-12T14:17:06.751533Z",
     "iopub.status.idle": "2023-12-12T14:17:07.059546Z",
     "shell.execute_reply": "2023-12-12T14:17:07.058100Z"
    },
    "papermill": {
     "duration": 0.379864,
     "end_time": "2023-12-12T14:17:07.062290",
     "exception": false,
     "start_time": "2023-12-12T14:17:06.682426",
     "status": "completed"
    },
    "tags": []
   },
   "outputs": [],
   "source": [
    "y_pred = rf.predict(X_test)"
   ]
  },
  {
   "cell_type": "code",
   "execution_count": 99,
   "id": "d76a1af0",
   "metadata": {
    "execution": {
     "iopub.execute_input": "2023-12-12T14:17:07.201377Z",
     "iopub.status.busy": "2023-12-12T14:17:07.200954Z",
     "iopub.status.idle": "2023-12-12T14:17:07.206928Z",
     "shell.execute_reply": "2023-12-12T14:17:07.205842Z"
    },
    "papermill": {
     "duration": 0.079008,
     "end_time": "2023-12-12T14:17:07.209272",
     "exception": false,
     "start_time": "2023-12-12T14:17:07.130264",
     "status": "completed"
    },
    "tags": []
   },
   "outputs": [],
   "source": [
    "def metric_calc(true,predicted):\n",
    "    precision = precision_score(y_test, y_pred)\n",
    "    recall = recall_score(y_test, y_pred)\n",
    "    accuracy = accuracy_score(y_test, y_pred) \n",
    "    f1=f1_score(y_test,y_pred) \n",
    "    return precision,recall,accuracy,f1"
   ]
  },
  {
   "cell_type": "code",
   "execution_count": 100,
   "id": "300945fc",
   "metadata": {
    "execution": {
     "iopub.execute_input": "2023-12-12T14:17:07.348402Z",
     "iopub.status.busy": "2023-12-12T14:17:07.347593Z",
     "iopub.status.idle": "2023-12-12T14:17:07.370043Z",
     "shell.execute_reply": "2023-12-12T14:17:07.369245Z"
    },
    "papermill": {
     "duration": 0.094291,
     "end_time": "2023-12-12T14:17:07.372248",
     "exception": false,
     "start_time": "2023-12-12T14:17:07.277957",
     "status": "completed"
    },
    "tags": []
   },
   "outputs": [
    {
     "name": "stdout",
     "output_type": "stream",
     "text": [
      "Accuracy: 0.9026656343324854 precision: 0.6284779050736498 recall: 0.3702989392478303 F1 score: 0.46601941747572817\n"
     ]
    }
   ],
   "source": [
    "from sklearn.metrics import accuracy_score,recall_score,precision_score,f1_score\n",
    "\n",
    "precision,recall,accuracy,f1_score = metric_calc(y_test, y_pred)\n",
    "print(\"Accuracy:\", accuracy,\"precision:\",precision,\"recall:\",recall,\"F1 score:\",f1_score)"
   ]
  },
  {
   "cell_type": "code",
   "execution_count": 101,
   "id": "3326b214",
   "metadata": {
    "execution": {
     "iopub.execute_input": "2023-12-12T14:17:07.509184Z",
     "iopub.status.busy": "2023-12-12T14:17:07.508266Z",
     "iopub.status.idle": "2023-12-12T14:17:07.887318Z",
     "shell.execute_reply": "2023-12-12T14:17:07.886103Z"
    },
    "papermill": {
     "duration": 0.450171,
     "end_time": "2023-12-12T14:17:07.889853",
     "exception": false,
     "start_time": "2023-12-12T14:17:07.439682",
     "status": "completed"
    },
    "tags": []
   },
   "outputs": [
    {
     "name": "stdout",
     "output_type": "stream",
     "text": [
      "7777\n"
     ]
    },
    {
     "data": {
      "image/png": "[encoded data removed]",
      "text/plain": [
       "<Figure size 640x480 with 2 Axes>"
      ]
     },
     "metadata": {},
     "output_type": "display_data"
    }
   ],
   "source": [
    "from sklearn.metrics import confusion_matrix\n",
    "cm=confusion_matrix(y_test,y_pred)\n",
    "print(cm[0][0])\n",
    "sns.heatmap(cm/np.sum(cm),annot=True)\n",
    "labels = ['True Neg','False Pos','False Neg','True Pos']"
   ]
  },
  {
   "cell_type": "code",
   "execution_count": 102,
   "id": "dca88a03",
   "metadata": {
    "execution": {
     "iopub.execute_input": "2023-12-12T14:17:08.029712Z",
     "iopub.status.busy": "2023-12-12T14:17:08.029304Z",
     "iopub.status.idle": "2023-12-12T14:17:47.904469Z",
     "shell.execute_reply": "2023-12-12T14:17:47.903576Z"
    },
    "papermill": {
     "duration": 40.016483,
     "end_time": "2023-12-12T14:17:47.974922",
     "exception": false,
     "start_time": "2023-12-12T14:17:07.958439",
     "status": "completed"
    },
    "tags": []
   },
   "outputs": [
    {
     "name": "stdout",
     "output_type": "stream",
     "text": [
      "Logistic Regression Metrics:\n",
      "Accuracy: 0.8867\n",
      "Precision: 0.5868\n",
      "Recall: 0.2192\n",
      "F1 Score: 0.3191\n",
      "\n",
      "Decision Tree Metrics:\n",
      "Accuracy: 0.8542\n",
      "Precision: 0.4016\n",
      "Recall: 0.4155\n",
      "F1 Score: 0.4084\n",
      "\n",
      "Random Forest Metrics:\n",
      "Accuracy: 0.8976\n",
      "Precision: 0.6348\n",
      "Recall: 0.3635\n",
      "F1 Score: 0.4623\n",
      "\n",
      "SVM Metrics:\n",
      "Accuracy: 0.8892\n",
      "Precision: 0.6227\n",
      "Recall: 0.2155\n",
      "F1 Score: 0.3202\n",
      "\n",
      "KNN Metrics:\n",
      "Accuracy: 0.8832\n",
      "Precision: 0.5299\n",
      "Recall: 0.3160\n",
      "F1 Score: 0.3959\n",
      "\n",
      "XGBoost Metrics:\n",
      "Accuracy: 0.8945\n",
      "Precision: 0.5951\n",
      "Recall: 0.4027\n",
      "F1 Score: 0.4804\n",
      "\n"
     ]
    }
   ],
   "source": [
    "from sklearn.model_selection import train_test_split\n",
    "from sklearn.linear_model import LogisticRegression\n",
    "from sklearn.tree import DecisionTreeClassifier\n",
    "from sklearn.ensemble import RandomForestClassifier\n",
    "from sklearn.svm import SVC\n",
    "from sklearn.neighbors import KNeighborsClassifier\n",
    "from xgboost import XGBClassifier\n",
    "from sklearn.metrics import accuracy_score, precision_score, recall_score, f1_score\n",
    "\n",
    "# Assuming you have your features X and labels y\n",
    "X_train, X_test, y_train, y_test = train_test_split(X, y, test_size=0.2, random_state=42)\n",
    "\n",
    "# Logistic Regression\n",
    "logistic_reg = LogisticRegression()\n",
    "logistic_reg.fit(X_train, y_train)\n",
    "y_pred_logistic = logistic_reg.predict(X_test)\n",
    "\n",
    "# Decision Tree\n",
    "decision_tree = DecisionTreeClassifier()\n",
    "decision_tree.fit(X_train, y_train)\n",
    "y_pred_dt = decision_tree.predict(X_test)\n",
    "\n",
    "# Random Forest\n",
    "random_forest = RandomForestClassifier(n_estimators=150)\n",
    "random_forest.fit(X_train, y_train)\n",
    "y_pred_rf = random_forest.predict(X_test)\n",
    "\n",
    "# Support Vector Machine (SVM)\n",
    "svm_classifier = SVC()\n",
    "svm_classifier.fit(X_train, y_train)\n",
    "y_pred_svm = svm_classifier.predict(X_test)\n",
    "\n",
    "# K-Nearest Neighbors (KNN)\n",
    "knn_classifier = KNeighborsClassifier()\n",
    "knn_classifier.fit(X_train, y_train)\n",
    "y_pred_knn = knn_classifier.predict(X_test)\n",
    "\n",
    "# XGBoost\n",
    "xgb_classifier = XGBClassifier()\n",
    "xgb_classifier.fit(X_train, y_train)\n",
    "y_pred_xgb = xgb_classifier.predict(X_test)\n",
    "\n",
    "# Evaluate models\n",
    "def evaluate_model(y_true, y_pred, model_name):\n",
    "    accuracy = accuracy_score(y_true, y_pred)\n",
    "    precision = precision_score(y_true, y_pred)\n",
    "    recall = recall_score(y_true, y_pred)\n",
    "    f1 = f1_score(y_true, y_pred)\n",
    "    \n",
    "    print(f\"{model_name} Metrics:\")\n",
    "    print(f\"Accuracy: {accuracy:.4f}\")\n",
    "    print(f\"Precision: {precision:.4f}\")\n",
    "    print(f\"Recall: {recall:.4f}\")\n",
    "    print(f\"F1 Score: {f1:.4f}\")\n",
    "    print()\n",
    "\n",
    "# Evaluate each model\n",
    "evaluate_model(y_test, y_pred_logistic, \"Logistic Regression\")\n",
    "evaluate_model(y_test, y_pred_dt, \"Decision Tree\")\n",
    "evaluate_model(y_test, y_pred_rf, \"Random Forest\")\n",
    "evaluate_model(y_test, y_pred_svm, \"SVM\")\n",
    "evaluate_model(y_test, y_pred_knn, \"KNN\")\n",
    "evaluate_model(y_test, y_pred_xgb, \"XGBoost\")"
   ]
  },
  {
   "cell_type": "code",
   "execution_count": 103,
   "id": "8833ce5f",
   "metadata": {
    "execution": {
     "iopub.execute_input": "2023-12-12T14:17:48.112755Z",
     "iopub.status.busy": "2023-12-12T14:17:48.112018Z",
     "iopub.status.idle": "2023-12-12T14:17:57.518186Z",
     "shell.execute_reply": "2023-12-12T14:17:57.516654Z"
    },
    "papermill": {
     "duration": 9.477824,
     "end_time": "2023-12-12T14:17:57.520633",
     "exception": false,
     "start_time": "2023-12-12T14:17:48.042809",
     "status": "completed"
    },
    "tags": []
   },
   "outputs": [
    {
     "name": "stdout",
     "output_type": "stream",
     "text": [
      "Accuracy: 0.8953655569074217\n"
     ]
    }
   ],
   "source": [
    "# Assuming feat_imps is your feature importances Series\n",
    "top_features = feat_imps.nlargest(7).index\n",
    "\n",
    "# Select only the top features from your original dataset\n",
    "X_top = X[top_features]\n",
    "\n",
    "# Now, you can use X_top for training and prediction\n",
    "# For example, if you have a RandomForestClassifier model:\n",
    "\n",
    "from sklearn.ensemble import RandomForestClassifier\n",
    "from sklearn.model_selection import train_test_split\n",
    "from sklearn.metrics import accuracy_score\n",
    "\n",
    "# Split the data into training and testing sets\n",
    "X_train, X_test, y_train, y_test = train_test_split(X_top, y, test_size=0.2, random_state=42)\n",
    "\n",
    "# Create and train the RandomForestClassifier on the top features\n",
    "model = RandomForestClassifier(n_estimators=150)\n",
    "model.fit(X_train, y_train)\n",
    "\n",
    "# Make predictions\n",
    "y_pred = model.predict(X_test)\n",
    "\n",
    "# Evaluate the model\n",
    "accuracy = accuracy_score(y_test, y_pred)\n",
    "print(\"Accuracy:\", accuracy)"
   ]
  },
  {
   "cell_type": "code",
   "execution_count": null,
   "id": "8dbca219",
   "metadata": {
    "papermill": {
     "duration": 0.067375,
     "end_time": "2023-12-12T14:17:57.655512",
     "exception": false,
     "start_time": "2023-12-12T14:17:57.588137",
     "status": "completed"
    },
    "tags": []
   },
   "outputs": [],
   "source": []
  }
 ],
 "metadata": {
  "kaggle": {
   "accelerator": "none",
   "dataSources": [
    {
     "datasetId": 4145866,
     "sourceId": 7174689,
     "sourceType": "datasetVersion"
    }
   ],
   "dockerImageVersionId": 30615,
   "isGpuEnabled": false,
   "isInternetEnabled": true,
   "language": "python",
   "sourceType": "notebook"
  },
  "kernelspec": {
   "display_name": "Python 3",
   "language": "python",
   "name": "python3"
  },
  "language_info": {
   "codemirror_mode": {
    "name": "ipython",
    "version": 3
   },
   "file_extension": ".py",
   "mimetype": "text/x-python",
   "name": "python",
   "nbconvert_exporter": "python",
   "pygments_lexer": "ipython3",
   "version": "3.10.12"
  },
  "papermill": {
   "default_parameters": {},
   "duration": 127.300232,
   "end_time": "2023-12-12T14:17:58.444796",
   "environment_variables": {},
   "exception": null,
   "input_path": "__notebook__.ipynb",
   "output_path": "__notebook__.ipynb",
   "parameters": {},
   "start_time": "2023-12-12T14:15:51.144564",
   "version": "2.4.0"
  }
 },
 "nbformat": 4,
 "nbformat_minor": 5
}
